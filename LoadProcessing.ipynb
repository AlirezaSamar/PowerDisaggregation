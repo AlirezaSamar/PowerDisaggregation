{
 "cells": [
  {
   "cell_type": "code",
   "execution_count": 38,
   "metadata": {},
   "outputs": [
    {
     "name": "stderr",
     "output_type": "stream",
     "text": [
      "/Users/Saeed/anaconda/lib/python2.7/site-packages/matplotlib/__init__.py:1401: UserWarning:  This call to matplotlib.use() has no effect\n",
      "because the backend has already been chosen;\n",
      "matplotlib.use() must be called *before* pylab, matplotlib.pyplot,\n",
      "or matplotlib.backends is imported for the first time.\n",
      "\n",
      "  warnings.warn(_use_error_msg)\n"
     ]
    }
   ],
   "source": [
    "import json\n",
    "import datetime\n",
    "import requests\n",
    "import time\n",
    "import matplotlib\n",
    "matplotlib.use('nbagg')\n",
    "%matplotlib inline\n",
    "\n",
    "\n",
    "from ipywidgets import widgets\n",
    "from IPython import display\n",
    "import math\n",
    "import numpy as np\n",
    "import matplotlib.pyplot as plt\n",
    "\n",
    "import math\n",
    "import numpy as np\n",
    "\n",
    "from matplotlib.ticker import FormatStrFormatter"
   ]
  },
  {
   "cell_type": "markdown",
   "metadata": {},
   "source": [
    "### Read User data"
   ]
  },
  {
   "cell_type": "code",
   "execution_count": 39,
   "metadata": {},
   "outputs": [
    {
     "data": {
      "text/plain": [
       "[u'Kitchen cabinet lights',\n",
       " u'Master Closet Leon',\n",
       " u'Master Bedroom Lights',\n",
       " u'Katya Bathroom Light',\n",
       " u'Masha Desk Light']"
      ]
     },
     "execution_count": 39,
     "metadata": {},
     "output_type": "execute_result"
    }
   ],
   "source": [
    "file = open(\"Latest Data.txt\", \"r\") #Currently just copy pasted from Database to .txt\n",
    "json_data = json.load(file)\n",
    "appliances_data = json_data['timestamps']\n",
    "file.close()\n",
    "times = []\n",
    "x = 0\n",
    "cutOffTime = 1496000000000\n",
    "smallest = 1000000000000000000000\n",
    "tst = \"\"\n",
    "for value in appliances_data:\n",
    "    for val in appliances_data[value]:\n",
    "        if val[0] > cutOffTime:\n",
    "            times.append(val[0])\n",
    "                        \n",
    "times.sort()\n",
    "start = times[0] #records first and last timestamp inputted\n",
    "end = times[-1]\n",
    "\n",
    "appliances_data.keys()[0:5]"
   ]
  },
  {
   "cell_type": "markdown",
   "metadata": {},
   "source": [
    "### eyedro API reading"
   ]
  },
  {
   "cell_type": "code",
   "execution_count": 40,
   "metadata": {},
   "outputs": [
    {
     "name": "stdout",
     "output_type": "stream",
     "text": [
      "https://api.eyedro.com/e2?UserKey=vostro3ryV2x4jhewPhLN6UQRtxZ35vXqGamTauq&Cmd=VostroEnergy.GetData&DateStartSecUtc=1496145411&DateStopSecUtc=1496147372\n"
     ]
    },
    {
     "data": {
      "text/plain": [
       "[[1496145411, 1084],\n",
       " [1496145585, 556],\n",
       " [1496145629, 556],\n",
       " [1496145700, 809],\n",
       " [1496145929, 809]]"
      ]
     },
     "execution_count": 40,
     "metadata": {},
     "output_type": "execute_result"
    }
   ],
   "source": [
    "def httpGet(startTime, endTime): #Pulling data from API\n",
    "    f = open('eyedro_cred.txt', 'r')\n",
    "    baseURL = f.readline()[:-1]\n",
    "    UserKey = f.readline()\n",
    "    cmd = \"VostroEnergy.GetData\"\n",
    "    fullURL = str(baseURL) + \"UserKey=\" + str(UserKey) + \"&Cmd=\" + str(cmd) + \"&DateStartSecUtc=\" + str(startTime) + \"&DateStopSecUtc=\" + str(endTime)\n",
    "    print(fullURL)\n",
    "    response = requests.get(fullURL).json()\n",
    "    return response\n",
    "\n",
    "apiJSON = httpGet(int(round(start/1000)),int(round(end/1000)) + 10)\n",
    "\n",
    "\n",
    "apiList = apiJSON[\"Data\"][\"004006EE\"]\n",
    "apiList[0:5]"
   ]
  },
  {
   "cell_type": "markdown",
   "metadata": {},
   "source": [
    "## write to CSV"
   ]
  },
  {
   "cell_type": "code",
   "execution_count": 41,
   "metadata": {
    "collapsed": true
   },
   "outputs": [],
   "source": [
    "# apiFile = open(\"apiRawData.csv\",\"w\") #Writes Data from API between start and stop times\n",
    "# apiFile.write(\"Timestamp,Power,\\n\")\n",
    "# for value in apiList:\n",
    "# \tapiFile.write(str(value[0]) + \",\" + str(value[1]) + \",\\n\")\n",
    "# apiFile.close()\n",
    "\n",
    "# usrFile = open(\"usrRawData.csv\",\"w\")\n",
    "# usrFile.write(\"Appliance,Timestamp,State(On/Off),\\n\")\n",
    "# for value in timestamps:\n",
    "#     for val in timestamps[value]:\n",
    "#         usrFile.write(str(value) + \",\" + str(val[0]) + \",\" + str(val[1]) + \",\\n\")\n",
    "# usrFile.close()"
   ]
  },
  {
   "cell_type": "markdown",
   "metadata": {},
   "source": [
    "### reformatting for comparison with API data"
   ]
  },
  {
   "cell_type": "code",
   "execution_count": 42,
   "metadata": {},
   "outputs": [
    {
     "data": {
      "text/plain": [
       "[[u'Master Closet Leon', 1496145411199, 1],\n",
       " [u'Master Bath Vanity', 1496145702721, 1],\n",
       " [u'Master Bath Vanity', 1496146081591, 0],\n",
       " [u'Master Bath Vanity', 1496146084760, 0],\n",
       " [u'Master Closet Leon', 1496146113720, 0],\n",
       " [u'Master Closet Leon', 1496146134735, 1],\n",
       " [u'Master Closet Leon', 1496146249349, 0],\n",
       " [u'Back yard lights', 1496146360005, 1],\n",
       " [u'Back yard lights', 1496146372287, 0],\n",
       " [u'Back yard lights', 1496146405409, 1]]"
      ]
     },
     "execution_count": 42,
     "metadata": {},
     "output_type": "execute_result"
    }
   ],
   "source": [
    "reformattedUsrList = []\n",
    "testList = [\"Back yard lights\", \"Garage Lights\", \"Master Bath Vanity\", \"Toaster\", \"Kitchen Hood\"]\n",
    "for value in appliances_data:\n",
    "    for val in appliances_data[value]:\n",
    "        if val[0] > cutOffTime:\n",
    "            times.append(val[0])\n",
    "            tempVal = []\n",
    "            tempVal.append(value)\n",
    "            tempVal += val\n",
    "            reformattedUsrList.append(tempVal)\n",
    "            \n",
    "reformattedUsrList.sort(key=lambda x: x[1])\n",
    "reformattedUsrList[0:10]"
   ]
  },
  {
   "cell_type": "markdown",
   "metadata": {},
   "source": [
    "### Matching the API data and User clicks"
   ]
  },
  {
   "cell_type": "code",
   "execution_count": 43,
   "metadata": {},
   "outputs": [
    {
     "name": "stdout",
     "output_type": "stream",
     "text": [
      "('Matches:', 30)\n",
      "('Match precision: +/-', 5, 'seconds')\n"
     ]
    },
    {
     "data": {
      "text/plain": [
       "[[1496146977.0, 1, 1496146971, 2541], [1496146977.0, 1, 1496146974, 2493]]"
      ]
     },
     "execution_count": 43,
     "metadata": {},
     "output_type": "execute_result"
    }
   ],
   "source": [
    "matches = {}\n",
    "nMatches = 0\n",
    "precision = 5 #Careful raising this too high.\n",
    "for usrVal in reformattedUsrList:\n",
    "    try:\n",
    "        matches[usrVal[0]]\n",
    "    except KeyError:\n",
    "        matches[usrVal[0]] = []\n",
    "    for apiVal in apiList:\n",
    "        if abs(usrVal[1]/1000 - (apiVal[0] + 3)) < precision: #The \"+3\" Is because I noticed the api data tended to be off by about 3 seconds on average\n",
    "            match = [round(usrVal[1]/1000), usrVal[2], apiVal[0], apiVal[1]] #inner Data is [usr-ts, on/off, api-ts, power]\n",
    "            matches[usrVal[0]].append(match)\n",
    "            nMatches += 1\n",
    "            \n",
    "\"\"\"for value in matches:\n",
    "    if matches[value] != []:\n",
    "        print(value, \": \", matches[value])\"\"\"\n",
    "\n",
    "print(\"Matches:\",nMatches)\n",
    "print(\"Match precision: +/-\", precision, \"seconds\")\n",
    "\n",
    "matches['Toaster']"
   ]
  },
  {
   "cell_type": "markdown",
   "metadata": {},
   "source": [
    "### Presenting matches"
   ]
  },
  {
   "cell_type": "code",
   "execution_count": 44,
   "metadata": {
    "scrolled": true
   },
   "outputs": [
    {
     "name": "stdout",
     "output_type": "stream",
     "text": [
      "Name: 'Master Closet Leon', usrTS: 0.0, apiTS: 1496145411, On/Off: 1, Change: -224 Watts, Wattage: 1084\n",
      "Name: 'Toaster', usrTS: 1566.0, apiTS: 1496146971, On/Off: 1, Change: 931 Watts, Wattage: 2541\n",
      "Name: 'Toaster', usrTS: 1566.0, apiTS: 1496146974, On/Off: 1, Change: -48 Watts, Wattage: 2493\n",
      "Name: 'Back yard lights', usrTS: 949.0, apiTS: 1496146358, On/Off: 1, Change: 340 Watts, Wattage: 788\n",
      "Name: 'Back yard lights', usrTS: 961.0, apiTS: 1496146369, On/Off: 0, Change: -340 Watts, Wattage: 448\n",
      "Name: 'Back yard lights', usrTS: 994.0, apiTS: 1496146403, On/Off: 1, Change: 345 Watts, Wattage: 793\n",
      "Name: 'Back yard lights', usrTS: 1013.0, apiTS: 1496146420, On/Off: 0, Change: -345 Watts, Wattage: 448\n",
      "Name: 'Back yard lights', usrTS: 1022.0, apiTS: 1496146429, On/Off: 1, Change: 338 Watts, Wattage: 786\n",
      "Name: 'Back yard lights', usrTS: 1038.0, apiTS: 1496146445, On/Off: 0, Change: -339 Watts, Wattage: 447\n",
      "Name: 'Back yard lights', usrTS: 1360.0, apiTS: 1496146771, On/Off: 0, Change: 340 Watts, Wattage: 670\n",
      "Name: 'Back yard lights', usrTS: 1364.0, apiTS: 1496146771, On/Off: 1, Change: 340 Watts, Wattage: 670\n",
      "Name: 'Back yard lights', usrTS: 1376.0, apiTS: 1496146784, On/Off: 0, Change: -340 Watts, Wattage: 330\n",
      "Name: 'Back yard lights', usrTS: 1383.0, apiTS: 1496146789, On/Off: 1, Change: 337 Watts, Wattage: 667\n",
      "Name: 'Back yard lights', usrTS: 1405.0, apiTS: 1496146812, On/Off: 0, Change: -336 Watts, Wattage: 331\n",
      "Name: 'Back yard lights', usrTS: 1413.0, apiTS: 1496146820, On/Off: 1, Change: 341 Watts, Wattage: 672\n",
      "Name: 'Back yard lights', usrTS: 1453.0, apiTS: 1496146859, On/Off: 0, Change: -294 Watts, Wattage: 378\n",
      "Name: 'Back yard lights', usrTS: 1453.0, apiTS: 1496146860, On/Off: 0, Change: -48 Watts, Wattage: 330\n",
      "Name: 'Master Bath Vanity', usrTS: 291.0, apiTS: 1496145700, On/Off: 1, Change: 253 Watts, Wattage: 809\n",
      "Name: 'Master Bath Vanity', usrTS: 670.0, apiTS: 1496146077, On/Off: 0, Change: -264 Watts, Wattage: 1262\n",
      "Name: 'Master Bath Vanity', usrTS: 673.0, apiTS: 1496146077, On/Off: 0, Change: -264 Watts, Wattage: 1262\n",
      "Name: 'Garage Lights', usrTS: 1179.0, apiTS: 1496146586, On/Off: 1, Change: 52 Watts, Wattage: 444\n",
      "Name: 'Garage Lights', usrTS: 1190.0, apiTS: 1496146598, On/Off: 0, Change: -56 Watts, Wattage: 388\n",
      "Name: 'Garage Lights', usrTS: 1202.0, apiTS: 1496146609, On/Off: 1, Change: 56 Watts, Wattage: 444\n",
      "Name: 'Garage Lights', usrTS: 1232.0, apiTS: 1496146639, On/Off: 0, Change: -56 Watts, Wattage: 388\n",
      "Name: 'Garage Lights', usrTS: 1255.0, apiTS: 1496146663, On/Off: 1, Change: 58 Watts, Wattage: 446\n",
      "Name: 'Garage Lights', usrTS: 1305.0, apiTS: 1496146713, On/Off: 1, Change: 53 Watts, Wattage: 441\n",
      "Name: 'Garage Lights', usrTS: 1325.0, apiTS: 1496146732, On/Off: 0, Change: -53 Watts, Wattage: 388\n",
      "Name: 'Kitchen Hood', usrTS: 1908.0, apiTS: 1496147316, On/Off: 0, Change: -458 Watts, Wattage: 858\n",
      "Name: 'Kitchen Hood', usrTS: 1921.0, apiTS: 1496147325, On/Off: 1, Change: 451 Watts, Wattage: 1309\n",
      "Name: 'Kitchen Hood', usrTS: 1951.0, apiTS: 1496147357, On/Off: 0, Change: -451 Watts, Wattage: 858\n"
     ]
    }
   ],
   "source": [
    "#Finding the actual wattage change for each match found\n",
    "#This cell should only be run after the previous cell, otherwise a lot of redundant data will be appended each time\n",
    "apiTimestamps = []\n",
    "for value in apiList:\n",
    "    apiTimestamps.append(value[0])\n",
    "for appliance in matches:\n",
    "    for value in matches[appliance]:\n",
    "        ind = apiTimestamps.index(value[2])\n",
    "        wChange = apiList[ind][1] - apiList[ind-1][1]\n",
    "        value += [wChange]\n",
    "        value += [apiList[ind][1]]\n",
    "        \n",
    "#Verbose output of matches\n",
    "for appliance in matches:\n",
    "    for value in matches[appliance]:\n",
    "        print(\"Name: '\" + str(appliance) + \"',\" + \" usrTS: \" + str((value[0] - start/1000)) + \", apiTS: \" + str(value[2]) + \", On/Off: \" + str(value[1]) + \", Change: \" + str(value[4]) + \" Watts, \" + \"Wattage: \" + str(value[5]))"
   ]
  },
  {
   "cell_type": "markdown",
   "metadata": {},
   "source": [
    "### Outputting matches{} to a CSV"
   ]
  },
  {
   "cell_type": "code",
   "execution_count": 45,
   "metadata": {},
   "outputs": [],
   "source": [
    "\n",
    "# matchFile = open(\"matches.csv\",\"w\")\n",
    "\n",
    "# matchFile.write(\"Appliance Name,User Timestamp,API Timestamp,State (On/Off),Power Change(W),\\n\")\n",
    "# for appliance in matches:\n",
    "#     for value in matches[appliance]:\n",
    "#         matchFile.write(str(appliance) + \",\" + str(value[0]) + \",\" + str(value[2]) + \",\" + str(value[1]) + \",\" + str(value[4]) + \"\\n\")\n",
    "        \n",
    "# matchFile.close()"
   ]
  },
  {
   "cell_type": "markdown",
   "metadata": {},
   "source": [
    "### Visualizing ApiList"
   ]
  },
  {
   "cell_type": "code",
   "execution_count": 46,
   "metadata": {
    "scrolled": false
   },
   "outputs": [
    {
     "data": {
      "image/png": "[encoded data removed]",
      "text/plain": [
       "<matplotlib.figure.Figure at 0x114791850>"
      ]
     },
     "metadata": {},
     "output_type": "display_data"
    }
   ],
   "source": [
    "fig = plt.figure(figsize = (20,10))\n",
    "\n",
    "x = []\n",
    "y = []\n",
    "\n",
    "start = apiList[0][0]\n",
    "end = apiList[-1][0]\n",
    "\n",
    "cPos = 0\n",
    "lastY = apiList[0][1]\n",
    "apiTS = 0\n",
    "    \n",
    "for time in range(int(math.floor(end - start))):\n",
    "    if apiTS == time:\n",
    "        lastY = apiList[cPos][1]\n",
    "        cPos += 1\n",
    "        apiTS = math.floor(apiList[cPos][0] - start)\n",
    "        y.append(lastY)\n",
    "        x.append(time)\n",
    "    else:\n",
    "        y.append(lastY)\n",
    "        x.append(time)\n",
    "\n",
    "plt.plot(x,y)\n",
    "\n",
    "fullVals = []\n",
    "\n",
    "for i in range((reformattedUsrList[-1][1] - reformattedUsrList[0][1])/1000):\n",
    "    fullVals.append([x[i],y[i]])"
   ]
  },
  {
   "cell_type": "markdown",
   "metadata": {},
   "source": [
    "### Visualization of appliance range"
   ]
  },
  {
   "cell_type": "code",
   "execution_count": 47,
   "metadata": {},
   "outputs": [
    {
     "data": {
      "application/vnd.jupyter.widget-view+json": {
       "model_id": "1959eed3d3e54145b1a20d46353c9d27"
      }
     },
     "metadata": {},
     "output_type": "display_data"
    },
    {
     "data": {
      "application/vnd.jupyter.widget-view+json": {
       "model_id": "4aba99bdda4d4d3ab55f1a14ec6bec42"
      }
     },
     "metadata": {},
     "output_type": "display_data"
    },
    {
     "data": {
      "application/vnd.jupyter.widget-view+json": {
       "model_id": "d8d4d3d859764cce8c366cc55eb83b25"
      }
     },
     "metadata": {},
     "output_type": "display_data"
    }
   ],
   "source": [
    "\n",
    "usrData = reformattedUsrList\n",
    "sorted(usrData, key=lambda x: x[0])\n",
    "global fullRange\n",
    "global counter\n",
    "global stateLength\n",
    "stateLength = 0\n",
    "counter = 0\n",
    "fullRange = True\n",
    "\n",
    "\n",
    "fig_size = plt.rcParams[\"figure.figsize\"]\n",
    "\n",
    "tList = []\n",
    "\n",
    "applianceList = []\n",
    "for value in usrData:\n",
    "    if value[0] not in applianceList:\n",
    "        applianceList.append(value[0])\n",
    "\n",
    "applianceList.sort()     \n",
    "\n",
    "#Initializing and configuring the widgets in the output\n",
    "w = widgets.Dropdown(\n",
    "    options = applianceList,\n",
    "    value = applianceList[0],\n",
    "    description = \"Appliances:\"\n",
    ")\n",
    "\n",
    "b = widgets.Button(description='Update Graph')\n",
    "b2 = widgets.Button(description='Toggle Full Range')\n",
    "\n",
    "display.display(w)\n",
    "display.display(b)\n",
    "display.display(b2)\n",
    "\n",
    "x2 = []\n",
    "y2 = []\n",
    "\n",
    "start = apiList[0][0]\n",
    "end = apiList[-1][0]\n",
    "\n",
    "cPos = 0\n",
    "lastY = apiList[0][1]\n",
    "apiTS = 0\n",
    "\n",
    "#Generating x and y data for the graphs below    \n",
    "for time in range(int(math.floor(end - start))):\n",
    "    if apiTS == time:\n",
    "        lastY = apiList[cPos][1]\n",
    "        cPos += 1\n",
    "        apiTS = math.floor(apiList[cPos][0] - start)\n",
    "        y2.append(lastY)\n",
    "        x2.append(time)\n",
    "    else:\n",
    "        y2.append(lastY)\n",
    "        x2.append(time)\n",
    "        \n",
    "        \n",
    "#Changing the graph's color depending on if the appliance was on or off\n",
    "def color(onOff, adjustedTList, ts):\n",
    "    newL = []\n",
    "    for i in range(len(onOff)): #New list holding On/Off transitions as well as corresponding timestamps\n",
    "        newL.append([onOff[i], adjustedTList])\n",
    "    temp = []\n",
    "    for value in adjustedTList:\n",
    "        temp.append([value,0])\n",
    "    temp.append([ts, 1]) \n",
    "    temp2 = []\n",
    "    #Ineficient algorithm which sorts an array by the 2nd index.\n",
    "    #Made because I was having issues with the built in algorithm at the time\n",
    "    for i in range(len(temp)): \n",
    "        placed = False\n",
    "        if len(temp2) == 0:\n",
    "            temp2.append([temp[i][0],temp[i][1]])\n",
    "        else:\n",
    "            for j in range(len(temp2)):\n",
    "                if temp[i][0] > temp2[j][0]:\n",
    "                    if j == len(temp2) - 1:\n",
    "                        temp2.insert(j + 1, [temp[i][0],temp[i][1]])\n",
    "                elif temp[i][0] < temp2[j][0]:\n",
    "                    if placed:\n",
    "                        None\n",
    "                    else:   \n",
    "                        placed = True\n",
    "                        temp2.insert(j, [temp[i][0],temp[i][1]])\n",
    "                elif temp[i][0] == temp2[j][0]:\n",
    "                    if placed:\n",
    "                        None\n",
    "                    else:\n",
    "                        placed = True\n",
    "                        temp2.insert(j, [temp[i][0],temp[i][1]])\n",
    "    temp = temp2\n",
    "    index = 0\n",
    "    for i in range(len(temp)):\n",
    "        if temp[i][1] == 1:\n",
    "            index = i\n",
    "    if index == 0: #If the current index is 0, the appliance is not currently on. Set the graph to red\n",
    "        return \"red\"\n",
    "    elif index == len(newL): #if the index is equal to the length of onOff then it's the last value; assume he forgot to turn off\n",
    "        return \"red\"\n",
    "    else:\n",
    "        if newL[index-1][0] == 0:\n",
    "            return \"red\"\n",
    "        else:\n",
    "            return \"green\"\n",
    "        \n",
    "#Function called whenever \"Update Graph is pressed. Changes the colors of the graph to represent the\n",
    "#new appliance of interest.\n",
    "def onButtonClick(b):\n",
    "    global stateLength\n",
    "    tList = []\n",
    "    adjustedTList = []\n",
    "    onOff = []\n",
    "    tempL = []\n",
    "    for value in usrData:\n",
    "        if value[0].lower() == w.value.lower():\n",
    "            tempL.append(value)\n",
    "    sorted(tempL, key=lambda x: x[1])\n",
    "    for value in tempL:\n",
    "        tList.append(value[1])\n",
    "        onOff.append(value[2])\n",
    "        \n",
    "    for value in tList:\n",
    "        tVal = (value/1000 - start)\n",
    "        adjustedTList.append(tVal)\n",
    "    \n",
    "    adjustedTList.sort()\n",
    "    previousVal = 0\n",
    "    stateLength = len(onOff)\n",
    "    xi = adjustedTList[0]\n",
    "    xf = adjustedTList[-1]\n",
    "    r = xf - xi\n",
    "    fig_size[0],fig_size[1] = 20,10\n",
    "    for value in adjustedTList:\n",
    "        plt.plot(x2[int(previousVal):int(value + 1)], y2[int(previousVal):value + 1], color = color(onOff, adjustedTList, value))\n",
    "        logs = (onOff, adjustedTList, value)\n",
    "        display.clear_output(wait=True)\n",
    "        previousVal = value\n",
    "    plt.plot(x2[int(adjustedTList[-1]):-1], y2[int(adjustedTList[-1]):-1], color = \"red\")\n",
    "    fig_size[0],fig_size[1] = 20,10\n",
    "    if fullRange:\n",
    "        None\n",
    "    else:   \n",
    "        plt.axis([xi - 0.2 * r, xf + 0.2 * r,0,4000])\n",
    "    plt.show()\n",
    "    \n",
    "#Changes the range of the graph to zoom in on the time period where the chosen appliance is turned on and off\n",
    "def toggleRange(b2):\n",
    "    global fullRange\n",
    "    if fullRange:\n",
    "        fullRange = False\n",
    "    else:\n",
    "        fullRange = True\n",
    "    onButtonClick(b)\n",
    "        \n",
    "b.on_click(onButtonClick)\n",
    "b2.on_click(toggleRange)"
   ]
  },
  {
   "cell_type": "markdown",
   "metadata": {},
   "source": [
    "### Visualizing user timestamps with API graph"
   ]
  },
  {
   "cell_type": "code",
   "execution_count": 48,
   "metadata": {
    "scrolled": false
   },
   "outputs": [
    {
     "data": {
      "application/vnd.jupyter.widget-view+json": {
       "model_id": "5bc7a1f60fca46caa7e9444874f2ee52"
      }
     },
     "metadata": {},
     "output_type": "display_data"
    }
   ],
   "source": [
    "text = widgets.Text()\n",
    "\n",
    "x = []\n",
    "y = []\n",
    "\n",
    "cPos = 0\n",
    "lastY = apiList[0][1]\n",
    "apiTS = 0\n",
    "\n",
    "#Sorting and reformatting the data once again for ease of processing\n",
    "temp = []\n",
    "for value in reformattedUsrList:\n",
    "    temp.append(value[1])\n",
    "temp.sort()\n",
    "reformattedAgain = []\n",
    "initialTS = temp[0]\n",
    "for value in reformattedUsrList:\n",
    "    #The \"-5\" on the following line is a simple fix for the slightly misplaced points\n",
    "    reformattedAgain.append([value[0],(int(value[1])-initialTS)/1000, value[2]])\n",
    "reformattedAgain.sort(key=lambda x: x[1])\n",
    "\n",
    "start = apiList[0][0]\n",
    "end = apiList[-1][0]\n",
    "\n",
    "t = []\n",
    "\n",
    "#Generating x and y axis data for the output graph\n",
    "for time in range(int(math.floor(end - start))):\n",
    "    if apiTS == time:\n",
    "        lastY = apiList[cPos][1]\n",
    "        t.append([apiList[cPos][0] - start, apiList[cPos][1]])\n",
    "        cPos += 1\n",
    "        apiTS = math.floor(apiList[cPos][0] - start)\n",
    "        y.append(lastY)\n",
    "        x.append(time)\n",
    "    else:\n",
    "        y.append(lastY)\n",
    "        x.append(time)\n",
    "        \n",
    "#Generates a graph of the selected range when the user enter's a range in the text box\n",
    "def handle_submit(sender):\n",
    "    val = text.value\n",
    "    nums = [int(n) for n in val.split(',')]\n",
    "    x1 = int(nums[0])\n",
    "    x2 = int(nums[1])\n",
    "    display.clear_output(wait=True)\n",
    "    newDomain = [x[int(nums[0]):int(nums[1])]]\n",
    "    newRange = [y[int(nums[0]):int(nums[1])]]\n",
    "    fig = plt.figure(figsize = (20,10))\n",
    "    ax = plt.subplot(111)\n",
    "    newXs = []\n",
    "    newYs = []\n",
    "    redXs = []\n",
    "    redYs = []\n",
    "    for value in reformattedAgain:\n",
    "        if value[1] < nums[1] and value[1] > nums[0]:\n",
    "            if value[2] == 1:\n",
    "                ax.annotate(str(value[0] + \" On\"), [int(value[1] - 6), y[value[1] - 6]], fontsize = 12, rotation = 90)\n",
    "                newXs.append(int(value[1] - 6))\n",
    "                newYs.append(int(y[value[1] - 6]))\n",
    "            if value[2] == 0:\n",
    "                redXs.append(int(value[1] - 6))\n",
    "                redYs.append(int(y[value[1] - 6]))\n",
    "    ax.scatter(newXs, newYs, color = 'green')\n",
    "    ax.scatter(redXs, redYs, color = 'red')\n",
    "    ax.plot(x[x1:x2], y[x1:x2])\n",
    "    plt.show()\n",
    "    \n",
    "#plt.plot(x,y)\n",
    "display.display(text)\n",
    "text.on_submit(handle_submit)"
   ]
  },
  {
   "cell_type": "markdown",
   "metadata": {},
   "source": [
    "### Zeroing Appliance Power Data"
   ]
  },
  {
   "cell_type": "code",
   "execution_count": 49,
   "metadata": {
    "scrolled": false
   },
   "outputs": [
    {
     "data": {
      "application/vnd.jupyter.widget-view+json": {
       "model_id": "829a442b6aa94072b6ea6db8ac15187d"
      }
     },
     "metadata": {},
     "output_type": "display_data"
    },
    {
     "data": {
      "application/vnd.jupyter.widget-view+json": {
       "model_id": "2455cef3f91d42d5ac93c8a9883c6a6c"
      }
     },
     "metadata": {},
     "output_type": "display_data"
    }
   ],
   "source": [
    "%matplotlib inline\n",
    "\n",
    "import pickle\n",
    "from ipywidgets import widgets\n",
    "from IPython import display\n",
    "import math\n",
    "import numpy as np\n",
    "import matplotlib.pyplot as plt\n",
    "\n",
    "relevant = {\"Back yard lights\": [], \"Garage Lights\":[], \"Toaster\":[], \"Kitchen Hood\":[]}\n",
    "relevantGraphs = {}\n",
    "closestChange = []\n",
    "relevantAPI = []\n",
    "fullRelevantAPI = []\n",
    "perAppData = {}\n",
    "\n",
    "#Initializing the closestChange list, note the \"None\" values\n",
    "for value in reformattedAgain: #reformattedAgain has format: [[AppID, userTS, On/Off],[...]]\n",
    "    if str(value[0]) in relevant.keys():\n",
    "        relevant[str(value[0])].append([value[1],value[2]])\n",
    "        closestChange.append([value[1], None, value[2], None, str(value[0])]) #[[userTS, None, On/Off, None, AppID],]\n",
    "\n",
    "for v in relevant.keys():#initializing empty lists in for each key in relevantGraphs\n",
    "    relevantGraphs[v] = []\n",
    "    perAppData[v] = []\n",
    "    \n",
    "newS = closestChange[0][0] #this is the first UserTS\n",
    "newE = closestChange[-1][0] #this is the last UserTS\n",
    "\n",
    "#Seperating the api values which are relevant to the appliances of interest\n",
    "for value in apiList:\n",
    "    closest = 100\n",
    "    index = 0\n",
    "    adjV = (value[0] - apiList[0][0]) #adjusted API TS values, starting at TS1 = 0\n",
    "    if adjV > newS - 2 and adjV < newE:\n",
    "        relevantAPI.append([adjV,value[1]]) #relevant API only has values between the range of usr timestamps\n",
    "    fullRelevantAPI.append([adjV,value[1]])\n",
    "            \n",
    "#Matching user data with closest API timestamps\n",
    "for i in range(len(closestChange)):\n",
    "    closest = 100 #arbitrary starting value for closest, just has to be relatively high\n",
    "    index = 0\n",
    "    for j in range(len(relevantAPI)):\n",
    "        #if the new value being tried is closer than the previous closest, replace closest with it\n",
    "        if abs(relevantAPI[j][0] - closestChange[i][0]) < abs(closest - closestChange[i][0]):\n",
    "            index = j\n",
    "            closest = relevantAPI[j][0]\n",
    "    #make sure that the apiTS that is recognized as the closest happens before the userTS; this is the trend\n",
    "    while closest - closestChange[i][0] >= 0:\n",
    "        index -= 1\n",
    "        closest = relevantAPI[index][0]\n",
    "    newIndex = index\n",
    "    \n",
    "    closestChange[i][1] = closest\n",
    "    closestChange[i][3] = relevantAPI[index][1] #format: [[userTS, closestAPITS, On/Off, W Chng, AppID], [...]]\n",
    "    \n",
    "alsoClose = []\n",
    "    \n",
    "for value in closestChange: #contains the single closest value\n",
    "    for val in relevantAPI: #contains all of the API values\n",
    "        diff = val[0] - value[1]\n",
    "        if abs(diff) < 5 and diff != 0:\n",
    "            if val[0] not in alsoClose:\n",
    "                alsoClose.append([value[0], val[0], value[2], val[1], value[4]])\n",
    "                                \n",
    "closestChange += alsoClose\n",
    "closestChange = sorted(closestChange, key=lambda x: int(x[1]))\n",
    "                \n",
    "for value in perAppData.keys():\n",
    "    for val in closestChange:\n",
    "        if val[4] == value:\n",
    "            perAppData[value].append(val[0:-1])\n",
    "                                        \n",
    "start = 0\n",
    "end = reformattedAgain[-1][1]\n",
    "                \n",
    "apiTS = []\n",
    "apiW = []\n",
    "goodFull = []\n",
    "for value in apiList:\n",
    "    apiTS.append(value[0] - apiList[0][0])\n",
    "    apiW.append(value[1])\n",
    "    \n",
    "for t in range(newE):\n",
    "    if t in apiTS:\n",
    "        cv = apiW[apiTS.index(t)]\n",
    "    goodFull.append([t, cv])\n",
    "            \n",
    "#Generating a zeroed graph for the selected appliance\n",
    "for value in perAppData:\n",
    "    state = 0\n",
    "    apiInd = 0\n",
    "    ind = 0\n",
    "    cVal = 0\n",
    "    apiInd = 0\n",
    "    for i in range(len(relevantAPI)):\n",
    "        if relevantAPI[i][0] == perAppData[value][0][1]:\n",
    "            ts1 = relevantAPI[i-1][0]\n",
    "            apiInd = i\n",
    "            break\n",
    "    for t in range(end):\n",
    "        if ind < len(perAppData[value]) and state == 0:\n",
    "            if t == perAppData[value][ind][1]: #check if there is a wattage change at timestamp t\n",
    "                while t == perAppData[value][ind][1]: \n",
    "                    #if it is the first index it can't check the previous for change.\n",
    "                    #Another method is used in this case\n",
    "                    if ind == 0: \n",
    "                        ts = perAppData[value][ind][1]\n",
    "                        for val in fullRelevantAPI:\n",
    "                            if val[0] == ts:\n",
    "                                index = fullRelevantAPI.index(val)\n",
    "                                while fullRelevantAPI[index][0] - fullRelevantAPI[index - 1][0] < 10:\n",
    "                                    index -= 1\n",
    "                                break\n",
    "                        cVal = perAppData[value][ind][3] - fullRelevantAPI[index - 1][1]\n",
    "                    else: #Otherwise, simply find the change by subtracting from the previous wattage reading\n",
    "                        cVal = perAppData[value][ind][3] - perAppData[value][ind-1][3]\n",
    "                    state = perAppData[value][ind][2]\n",
    "                    ind += 1\n",
    "                    if ind == len(perAppData[value]): #If there are no more appliance state changes leave loop\n",
    "                        break\n",
    "        if state == 0: #If no appliance is currently turned on (according to Usr), current zeroed value is 0\n",
    "            cVal = 0\n",
    "            if cVal < 0:\n",
    "                cVal = 0\n",
    "            relevantGraphs[value].append([t, cVal])\n",
    "        if state == 1: #If an appliance is currently turned on\n",
    "            if t == perAppData[value][ind][1]: #If a wattage changed occured at timestamp t\n",
    "                while t == perAppData[value][ind][1]: #this checks for multiple consecutive wattage changes\n",
    "                    state = perAppData[value][ind][2] #Changes the state to the new app state\n",
    "                    if state == 0: #if the new state is 0, nothing is on so set the value to 0\n",
    "                        cVal = 0\n",
    "                    else: #if the new state is still 1, set the change the value to the new W change\n",
    "                        cVal += perAppData[value][ind][3] - perAppData[value][ind-1][3]\n",
    "                    ind += 1\n",
    "                    if ind == len(perAppData[value]): #If there are no more appliance state changes leave loop\n",
    "                        break\n",
    "            if cVal < 0: #If the current value ever goes negative, something is wrong and set it to 0\n",
    "                cVal = 0\n",
    "            relevantGraphs[value].append([t, cVal])   \n",
    "        \n",
    "appL = []\n",
    "\n",
    "#Adding relevant appliances to the drop down menu\n",
    "for value in relevantGraphs:\n",
    "    if value not in appL:\n",
    "        appL.append(value)\n",
    "        \n",
    "b = widgets.Button(description='Update Graph')\n",
    "w = widgets.Dropdown(\n",
    "    options = appL,\n",
    "    value = appL[0],\n",
    "    description = \"Apps:\"\n",
    ")\n",
    "\n",
    "display.display(w)\n",
    "display.display(b)\n",
    "\n",
    "global pickled\n",
    "pickled = False\n",
    "\n",
    "#Displaying the zeroed graph for the selected appliance\n",
    "def buttonClick(b):\n",
    "    x = []\n",
    "    y = []\n",
    "    for val in relevantGraphs[w.value]: #w is the dropdown widget; displays only the currently selected appl.\n",
    "        x.append(val[0]) #setting x axis\n",
    "        y.append(val[1]) #setting y axis\n",
    "    plt.plot(x,y) #plotting using matplotlib\n",
    "    xi = 0\n",
    "    xf = 0\n",
    "    e = 0\n",
    "    ymax = 0\n",
    "    for i in range(len(y)):#involved in setting xmin\n",
    "        if y[i] != 0:\n",
    "            xi = i\n",
    "            break\n",
    "    for j in range(len(y)):#involved in setting xmax\n",
    "        if y[j] == 0:\n",
    "            e += 1\n",
    "        else:\n",
    "            e = 0\n",
    "    ymax = max(y)\n",
    "    r = len(y) - xi - e\n",
    "    plt.axis([xi - 0.2 * r , 1960 - 0.9*round(e),0,ymax *1.1]) #setting the range here in a really roundabout way.\n",
    "    display.clear_output(wait=True)\n",
    "    global pickled\n",
    "    if not pickled: #Saving the relevant graphs data the first time the code block is executed\n",
    "        save_obj(relevantGraphs, 'disaggregatedSignals')\n",
    "        pickled = True\n",
    "        \n",
    "b.on_click(buttonClick)\n",
    "\n",
    "def save_obj(obj, name ):\n",
    "    with open(name + '.pkl', 'wb') as f:\n",
    "        pickle.dump(obj, f, pickle.HIGHEST_PROTOCOL)\n",
    "\n",
    "def load_obj(name ):\n",
    "    with open(name + '.pkl', 'rb') as f:\n",
    "        return pickle.load(f)"
   ]
  },
  {
   "cell_type": "code",
   "execution_count": 50,
   "metadata": {},
   "outputs": [
    {
     "data": {
      "text/plain": [
       "['Back yard lights', 'Toaster', 'Kitchen Hood', 'Garage Lights']"
      ]
     },
     "execution_count": 50,
     "metadata": {},
     "output_type": "execute_result"
    }
   ],
   "source": [
    "d = load_obj('disaggregatedSignals') #Loading the saved RelevantGraphs data as \"d\"\n",
    "d.keys()"
   ]
  },
  {
   "cell_type": "code",
   "execution_count": 51,
   "metadata": {
    "scrolled": true
   },
   "outputs": [
    {
     "name": "stdout",
     "output_type": "stream",
     "text": [
      "['Back yard lights', 'Toaster', 'Kitchen Hood', 'Garage Lights']\n"
     ]
    },
    {
     "data": {
      "text/plain": [
       "[[0, 1084],\n",
       " [1, 1084],\n",
       " [2, 1084],\n",
       " [3, 1084],\n",
       " [4, 1084],\n",
       " [5, 1084],\n",
       " [6, 1084],\n",
       " [7, 1084],\n",
       " [8, 1084],\n",
       " [9, 1084]]"
      ]
     },
     "execution_count": 51,
     "metadata": {},
     "output_type": "execute_result"
    }
   ],
   "source": [
    "print d.keys() #the disaggregated signals. Contains keys: 'Back yard lights', 'Toaster', 'Kitchen Hood', 'Garage Lights'\n",
    "fullVals[0:10] #the full data. Simple list of form [[TS1, W1],[TS2, W2]...]"
   ]
  },
  {
   "cell_type": "code",
   "execution_count": 52,
   "metadata": {},
   "outputs": [
    {
     "data": {
      "text/plain": [
       "1951"
      ]
     },
     "execution_count": 52,
     "metadata": {},
     "output_type": "execute_result"
    }
   ],
   "source": [
    "len(fullVals)"
   ]
  },
  {
   "cell_type": "code",
   "execution_count": 53,
   "metadata": {},
   "outputs": [
    {
     "data": {
      "text/plain": [
       "1951"
      ]
     },
     "execution_count": 53,
     "metadata": {},
     "output_type": "execute_result"
    }
   ],
   "source": [
    "len(d['Back yard lights'])"
   ]
  },
  {
   "cell_type": "code",
   "execution_count": 54,
   "metadata": {
    "collapsed": true
   },
   "outputs": [],
   "source": [
    "cc = d['Back yard lights']"
   ]
  },
  {
   "cell_type": "markdown",
   "metadata": {},
   "source": [
    "### All of the tests below are performed with the \"goodFull\" list. I made this new list just to double check that fullVals was created properly"
   ]
  },
  {
   "cell_type": "code",
   "execution_count": 55,
   "metadata": {},
   "outputs": [
    {
     "data": {
      "text/plain": [
       "[<matplotlib.lines.Line2D at 0x114788890>]"
      ]
     },
     "execution_count": 55,
     "metadata": {},
     "output_type": "execute_result"
    },
    {
     "data": {
      "image/png": "[encoded data removed]",
      "text/plain": [
       "<matplotlib.figure.Figure at 0x1147889d0>"
      ]
     },
     "metadata": {},
     "output_type": "display_data"
    }
   ],
   "source": [
    "plt.plot(np.asarray(goodFull)[1174:1188,1])\n",
    "plt.plot(np.asarray(d[d.keys()[3]])[1174:1188,1])"
   ]
  },
  {
   "cell_type": "code",
   "execution_count": 56,
   "metadata": {},
   "outputs": [
    {
     "data": {
      "text/plain": [
       "[<matplotlib.lines.Line2D at 0x114926fd0>]"
      ]
     },
     "execution_count": 56,
     "metadata": {},
     "output_type": "execute_result"
    },
    {
     "data": {
      "image/png": "[encoded data removed]",
      "text/plain": [
       "<matplotlib.figure.Figure at 0x114926850>"
      ]
     },
     "metadata": {},
     "output_type": "display_data"
    }
   ],
   "source": [
    "plt.plot(np.asarray(goodFull)[946:959,1])\n",
    "plt.plot(np.asarray(d[d.keys()[0]])[946:959,1])"
   ]
  },
  {
   "cell_type": "code",
   "execution_count": 57,
   "metadata": {},
   "outputs": [
    {
     "data": {
      "text/plain": [
       "[<matplotlib.lines.Line2D at 0x114c8d110>]"
      ]
     },
     "execution_count": 57,
     "metadata": {},
     "output_type": "execute_result"
    },
    {
     "data": {
      "image/png": "[encoded data removed]",
      "text/plain": [
       "<matplotlib.figure.Figure at 0x11444e2d0>"
      ]
     },
     "metadata": {},
     "output_type": "display_data"
    }
   ],
   "source": [
    "plt.plot(np.asarray(goodFull)[1559:1566,1])\n",
    "plt.plot(np.asarray(d[d.keys()[1]])[1559:1566,1])"
   ]
  },
  {
   "cell_type": "code",
   "execution_count": 58,
   "metadata": {},
   "outputs": [
    {
     "data": {
      "text/plain": [
       "[<matplotlib.lines.Line2D at 0x114e99650>]"
      ]
     },
     "execution_count": 58,
     "metadata": {},
     "output_type": "execute_result"
    },
    {
     "data": {
      "image/png": "[encoded data removed]",
      "text/plain": [
       "<matplotlib.figure.Figure at 0x114e99490>"
      ]
     },
     "metadata": {},
     "output_type": "display_data"
    }
   ],
   "source": [
    "plt.plot(np.asarray(goodFull)[1650:1670,1])\n",
    "plt.plot(np.asarray(d[d.keys()[1]])[1650:1670,1])"
   ]
  },
  {
   "cell_type": "code",
   "execution_count": 59,
   "metadata": {},
   "outputs": [
    {
     "data": {
      "text/plain": [
       "[<matplotlib.lines.Line2D at 0x114fef890>]"
      ]
     },
     "execution_count": 59,
     "metadata": {},
     "output_type": "execute_result"
    },
    {
     "data": {
      "image/png": "[encoded data removed]",
      "text/plain": [
       "<matplotlib.figure.Figure at 0x114fef910>"
      ]
     },
     "metadata": {},
     "output_type": "display_data"
    }
   ],
   "source": [
    "plt.plot(np.asarray(goodFull)[1890:2000,1])\n",
    "plt.plot(np.asarray(d[d.keys()[2]])[1890:2000,1])"
   ]
  },
  {
   "cell_type": "code",
   "execution_count": 60,
   "metadata": {},
   "outputs": [
    {
     "data": {
      "text/plain": [
       "[<matplotlib.lines.Line2D at 0x1151097d0>]"
      ]
     },
     "execution_count": 60,
     "metadata": {},
     "output_type": "execute_result"
    },
    {
     "data": {
      "image/png": "[encoded data removed]",
      "text/plain": [
       "<matplotlib.figure.Figure at 0x114fefd10>"
      ]
     },
     "metadata": {},
     "output_type": "display_data"
    }
   ],
   "source": [
    "plt.plot(np.asarray(goodFull)[1000:2000,1])\n",
    "plt.plot(np.asarray(d[d.keys()[2]])[1000:2000,1])\n",
    "plt.plot(np.asarray(d[d.keys()[1]])[1000:2000,1])\n",
    "plt.plot(np.asarray(d[d.keys()[0]])[1000:2000,1])\n",
    "plt.plot(np.asarray(d[d.keys()[3]])[1000:2000,1])"
   ]
  },
  {
   "cell_type": "code",
   "execution_count": 61,
   "metadata": {},
   "outputs": [],
   "source": [
    "meters = d.keys()\n",
    "unknowun = np.zeros(len(fullVals),dtype=float)\n",
    "for i,meter in enumerate(meters):\n",
    "    power_series = np.array(d[meter] , dtype=float)\n",
    "    unknowun = unknowun + power_series[:,1]"
   ]
  },
  {
   "cell_type": "code",
   "execution_count": 62,
   "metadata": {},
   "outputs": [],
   "source": [
    "num_states_dict={}\n",
    "for i,meter in enumerate(meters):\n",
    "    num_states_dict[meter] = 2"
   ]
  },
  {
   "cell_type": "code",
   "execution_count": 63,
   "metadata": {},
   "outputs": [
    {
     "name": "stdout",
     "output_type": "stream",
     "text": [
      "Training model for submeter 'Back yard lights'\n",
      "Training model for submeter 'Toaster'\n",
      "Training model for submeter 'Kitchen Hood'\n",
      "Training model for submeter 'Garage Lights'\n"
     ]
    },
    {
     "name": "stderr",
     "output_type": "stream",
     "text": [
      "/Users/Saeed/anaconda/lib/python2.7/site-packages/sklearn/utils/deprecation.py:70: DeprecationWarning: Function distribute_covar_matrix_to_match_covariance_type is deprecated; The functon distribute_covar_matrix_to_match_covariance_typeis deprecated in 0.18 and will be removed in 0.20.\n",
      "  warnings.warn(msg, category=DeprecationWarning)\n",
      "/Users/Saeed/anaconda/lib/python2.7/site-packages/sklearn/utils/deprecation.py:70: DeprecationWarning: Function log_multivariate_normal_density is deprecated; The function log_multivariate_normal_density is deprecated in 0.18 and will be removed in 0.20.\n",
      "  warnings.warn(msg, category=DeprecationWarning)\n",
      "/Users/Saeed/anaconda/lib/python2.7/site-packages/sklearn/utils/deprecation.py:70: DeprecationWarning: Function log_multivariate_normal_density is deprecated; The function log_multivariate_normal_density is deprecated in 0.18 and will be removed in 0.20.\n",
      "  warnings.warn(msg, category=DeprecationWarning)\n",
      "/Users/Saeed/anaconda/lib/python2.7/site-packages/sklearn/utils/deprecation.py:70: DeprecationWarning: Function log_multivariate_normal_density is deprecated; The function log_multivariate_normal_density is deprecated in 0.18 and will be removed in 0.20.\n",
      "  warnings.warn(msg, category=DeprecationWarning)\n",
      "/Users/Saeed/anaconda/lib/python2.7/site-packages/sklearn/utils/deprecation.py:70: DeprecationWarning: Function log_multivariate_normal_density is deprecated; The function log_multivariate_normal_density is deprecated in 0.18 and will be removed in 0.20.\n",
      "  warnings.warn(msg, category=DeprecationWarning)\n",
      "/Users/Saeed/anaconda/lib/python2.7/site-packages/sklearn/utils/deprecation.py:70: DeprecationWarning: Function distribute_covar_matrix_to_match_covariance_type is deprecated; The functon distribute_covar_matrix_to_match_covariance_typeis deprecated in 0.18 and will be removed in 0.20.\n",
      "  warnings.warn(msg, category=DeprecationWarning)\n",
      "/Users/Saeed/anaconda/lib/python2.7/site-packages/sklearn/utils/deprecation.py:70: DeprecationWarning: Function log_multivariate_normal_density is deprecated; The function log_multivariate_normal_density is deprecated in 0.18 and will be removed in 0.20.\n",
      "  warnings.warn(msg, category=DeprecationWarning)\n",
      "/Users/Saeed/anaconda/lib/python2.7/site-packages/sklearn/utils/deprecation.py:70: DeprecationWarning: Function log_multivariate_normal_density is deprecated; The function log_multivariate_normal_density is deprecated in 0.18 and will be removed in 0.20.\n",
      "  warnings.warn(msg, category=DeprecationWarning)\n",
      "/Users/Saeed/anaconda/lib/python2.7/site-packages/sklearn/utils/deprecation.py:70: DeprecationWarning: Function log_multivariate_normal_density is deprecated; The function log_multivariate_normal_density is deprecated in 0.18 and will be removed in 0.20.\n",
      "  warnings.warn(msg, category=DeprecationWarning)\n",
      "/Users/Saeed/anaconda/lib/python2.7/site-packages/sklearn/utils/deprecation.py:70: DeprecationWarning: Function log_multivariate_normal_density is deprecated; The function log_multivariate_normal_density is deprecated in 0.18 and will be removed in 0.20.\n",
      "  warnings.warn(msg, category=DeprecationWarning)\n",
      "/Users/Saeed/anaconda/lib/python2.7/site-packages/hmmlearn/base.py:459: RuntimeWarning: divide by zero encountered in log\n",
      "  np.log(self.startprob_),\n",
      "/Users/Saeed/anaconda/lib/python2.7/site-packages/hmmlearn/base.py:468: RuntimeWarning: divide by zero encountered in log\n",
      "  np.log(self.startprob_),\n",
      "/Users/Saeed/anaconda/lib/python2.7/site-packages/sklearn/utils/deprecation.py:70: DeprecationWarning: Function distribute_covar_matrix_to_match_covariance_type is deprecated; The functon distribute_covar_matrix_to_match_covariance_typeis deprecated in 0.18 and will be removed in 0.20.\n",
      "  warnings.warn(msg, category=DeprecationWarning)\n",
      "/Users/Saeed/anaconda/lib/python2.7/site-packages/sklearn/utils/deprecation.py:70: DeprecationWarning: Function log_multivariate_normal_density is deprecated; The function log_multivariate_normal_density is deprecated in 0.18 and will be removed in 0.20.\n",
      "  warnings.warn(msg, category=DeprecationWarning)\n",
      "/Users/Saeed/anaconda/lib/python2.7/site-packages/sklearn/utils/deprecation.py:70: DeprecationWarning: Function log_multivariate_normal_density is deprecated; The function log_multivariate_normal_density is deprecated in 0.18 and will be removed in 0.20.\n",
      "  warnings.warn(msg, category=DeprecationWarning)\n",
      "/Users/Saeed/anaconda/lib/python2.7/site-packages/sklearn/utils/deprecation.py:70: DeprecationWarning: Function log_multivariate_normal_density is deprecated; The function log_multivariate_normal_density is deprecated in 0.18 and will be removed in 0.20.\n",
      "  warnings.warn(msg, category=DeprecationWarning)\n",
      "/Users/Saeed/anaconda/lib/python2.7/site-packages/sklearn/utils/deprecation.py:70: DeprecationWarning: Function log_multivariate_normal_density is deprecated; The function log_multivariate_normal_density is deprecated in 0.18 and will be removed in 0.20.\n",
      "  warnings.warn(msg, category=DeprecationWarning)\n",
      "/Users/Saeed/anaconda/lib/python2.7/site-packages/sklearn/utils/deprecation.py:70: DeprecationWarning: Function distribute_covar_matrix_to_match_covariance_type is deprecated; The functon distribute_covar_matrix_to_match_covariance_typeis deprecated in 0.18 and will be removed in 0.20.\n",
      "  warnings.warn(msg, category=DeprecationWarning)\n",
      "/Users/Saeed/anaconda/lib/python2.7/site-packages/sklearn/utils/deprecation.py:70: DeprecationWarning: Function log_multivariate_normal_density is deprecated; The function log_multivariate_normal_density is deprecated in 0.18 and will be removed in 0.20.\n",
      "  warnings.warn(msg, category=DeprecationWarning)\n",
      "/Users/Saeed/anaconda/lib/python2.7/site-packages/sklearn/utils/deprecation.py:70: DeprecationWarning: Function log_multivariate_normal_density is deprecated; The function log_multivariate_normal_density is deprecated in 0.18 and will be removed in 0.20.\n",
      "  warnings.warn(msg, category=DeprecationWarning)\n",
      "/Users/Saeed/anaconda/lib/python2.7/site-packages/sklearn/utils/deprecation.py:70: DeprecationWarning: Function log_multivariate_normal_density is deprecated; The function log_multivariate_normal_density is deprecated in 0.18 and will be removed in 0.20.\n",
      "  warnings.warn(msg, category=DeprecationWarning)\n",
      "/Users/Saeed/anaconda/lib/python2.7/site-packages/sklearn/utils/deprecation.py:70: DeprecationWarning: Function log_multivariate_normal_density is deprecated; The function log_multivariate_normal_density is deprecated in 0.18 and will be removed in 0.20.\n",
      "  warnings.warn(msg, category=DeprecationWarning)\n"
     ]
    }
   ],
   "source": [
    "learnt_model={}\n",
    "from hmmlearn import hmm\n",
    "for i,meter in enumerate(meters):\n",
    "    power_series = np.array(d[meter] , dtype=float)\n",
    "    meter_data = power_series[:,1]\n",
    "    X = meter_data.reshape((-1, 1))\n",
    "    num_total_states = num_states_dict.get(meter)\n",
    "    \n",
    "    print(\"Training model for submeter '{}'\".format(meter))\n",
    "    learnt_model[meter] = hmm.GaussianHMM(num_total_states, \"full\")\n",
    "\n",
    "    # Fit\n",
    "    learnt_model[meter].fit(X)\n"
   ]
  },
  {
   "cell_type": "code",
   "execution_count": 64,
   "metadata": {},
   "outputs": [
    {
     "data": {
      "text/plain": [
       "{'Back yard lights': GaussianHMM(algorithm='viterbi', covariance_type='full', covars_prior=0.01,\n",
       "       covars_weight=1, init_params='stmc', means_prior=0, means_weight=0,\n",
       "       min_covar=0.001, n_components=2, n_iter=10, params='stmc',\n",
       "       random_state=None, startprob_prior=1.0, tol=0.01, transmat_prior=1.0,\n",
       "       verbose=False),\n",
       " 'Garage Lights': GaussianHMM(algorithm='viterbi', covariance_type='full', covars_prior=0.01,\n",
       "       covars_weight=1, init_params='stmc', means_prior=0, means_weight=0,\n",
       "       min_covar=0.001, n_components=2, n_iter=10, params='stmc',\n",
       "       random_state=None, startprob_prior=1.0, tol=0.01, transmat_prior=1.0,\n",
       "       verbose=False),\n",
       " 'Kitchen Hood': GaussianHMM(algorithm='viterbi', covariance_type='full', covars_prior=0.01,\n",
       "       covars_weight=1, init_params='stmc', means_prior=0, means_weight=0,\n",
       "       min_covar=0.001, n_components=2, n_iter=10, params='stmc',\n",
       "       random_state=None, startprob_prior=1.0, tol=0.01, transmat_prior=1.0,\n",
       "       verbose=False),\n",
       " 'Toaster': GaussianHMM(algorithm='viterbi', covariance_type='full', covars_prior=0.01,\n",
       "       covars_weight=1, init_params='stmc', means_prior=0, means_weight=0,\n",
       "       min_covar=0.001, n_components=2, n_iter=10, params='stmc',\n",
       "       random_state=None, startprob_prior=1.0, tol=0.01, transmat_prior=1.0,\n",
       "       verbose=False)}"
      ]
     },
     "execution_count": 64,
     "metadata": {},
     "output_type": "execute_result"
    }
   ],
   "source": [
    "learnt_model"
   ]
  },
  {
   "cell_type": "code",
   "execution_count": 65,
   "metadata": {
    "collapsed": true,
    "scrolled": true
   },
   "outputs": [],
   "source": [
    "from copy import deepcopy\n",
    "import itertools\n",
    "def sort_startprob(mapping, startprob):\n",
    "    \"\"\" Sort the startprob according to power means; as returned by mapping\n",
    "    \"\"\"\n",
    "    num_elements = len(startprob)\n",
    "    new_startprob = np.zeros(num_elements)\n",
    "    for i in range(len(startprob)):\n",
    "        new_startprob[i] = startprob[mapping[i]]\n",
    "    return new_startprob\n",
    "\n",
    "\n",
    "def sort_covars(mapping, covars):\n",
    "    new_covars = np.zeros_like(covars)\n",
    "    for i in range(len(covars)):\n",
    "        new_covars[i] = covars[mapping[i]]\n",
    "    return new_covars\n",
    "\n",
    "\n",
    "def sort_transition_matrix(mapping, A):\n",
    "    \"\"\"Sorts the transition matrix according to increasing order of\n",
    "    power means; as returned by mapping\n",
    "\n",
    "    Parameters\n",
    "    ----------\n",
    "    mapping :\n",
    "    A : numpy.array of shape (k, k)\n",
    "        transition matrix\n",
    "    \"\"\"\n",
    "    num_elements = len(A)\n",
    "    A_new = np.zeros((num_elements, num_elements))\n",
    "    for i in range(num_elements):\n",
    "        for j in range(num_elements):\n",
    "            A_new[i, j] = A[mapping[i], mapping[j]]\n",
    "    return A_new\n",
    "\n",
    "def return_sorting_mapping(means):\n",
    "    means_copy = deepcopy(means)\n",
    "    means_copy = np.sort(means_copy, axis=0)\n",
    "\n",
    "    # Finding mapping\n",
    "    mapping = {}\n",
    "    for i, val in enumerate(means_copy):\n",
    "        mapping[i] = np.where(val == means)[0][0]\n",
    "    return mapping\n",
    "\n",
    "def sort_learnt_parameters(startprob, means, covars, transmat):\n",
    "    mapping = return_sorting_mapping(means)\n",
    "    means_new = np.sort(means, axis=0)\n",
    "    startprob_new = sort_startprob(mapping, startprob)\n",
    "    covars_new = sort_covars(mapping, covars)\n",
    "    transmat_new = sort_transition_matrix(mapping, transmat)\n",
    "    assert np.shape(means_new) == np.shape(means)\n",
    "    assert np.shape(startprob_new) == np.shape(startprob)\n",
    "    assert np.shape(transmat_new) == np.shape(transmat)\n",
    "\n",
    "    return [startprob_new, means_new, covars_new, transmat_new]\n",
    "\n",
    "\n",
    "def compute_A_fhmm(list_A):\n",
    "    \"\"\"\n",
    "    Parameters\n",
    "    -----------\n",
    "    list_pi : List of PI's of individual learnt HMMs\n",
    "\n",
    "    Returns\n",
    "    --------\n",
    "    result : Combined Pi for the FHMM\n",
    "    \"\"\"\n",
    "    result = list_A[0]\n",
    "    for i in range(len(list_A) - 1):\n",
    "        result = np.kron(result, list_A[i + 1])\n",
    "    return result\n",
    "\n",
    "\n",
    "def compute_means_fhmm(list_means):\n",
    "    \"\"\"\n",
    "    Returns\n",
    "    -------\n",
    "    [mu, cov]\n",
    "    \"\"\"\n",
    "    states_combination = list(itertools.product(*list_means))\n",
    "    num_combinations = len(states_combination)\n",
    "    means_stacked = np.array([sum(x) for x in states_combination])\n",
    "    means = np.reshape(means_stacked, (num_combinations, 1))\n",
    "    cov = np.tile(5 * np.identity(1), (num_combinations, 1, 1))\n",
    "    return [means, cov]\n",
    "\n",
    "\n",
    "def compute_pi_fhmm(list_pi):\n",
    "    \"\"\"\n",
    "    Parameters\n",
    "    -----------\n",
    "    list_pi : List of PI's of individual learnt HMMs\n",
    "\n",
    "    Returns\n",
    "    -------\n",
    "    result : Combined Pi for the FHMM\n",
    "    \"\"\"\n",
    "    result = list_pi[0]\n",
    "    for i in range(len(list_pi) - 1):\n",
    "        result = np.kron(result, list_pi[i + 1])\n",
    "    return result\n",
    "\n",
    "def create_combined_hmm(models):\n",
    "    list_pi = [models[appliance].startprob_ for appliance in models]\n",
    "    list_A = [models[appliance].transmat_ for appliance in models]\n",
    "    list_means = [models[appliance].means_.flatten().tolist() for appliance in models]\n",
    "\n",
    "    pi_combined = compute_pi_fhmm(list_pi)\n",
    "    A_combined = compute_A_fhmm(list_A)\n",
    "    [mean_combined, cov_combined] = compute_means_fhmm(list_means)\n",
    "\n",
    "    combined_model = hmm.GaussianHMM(n_components=len(pi_combined), covariance_type='full')\n",
    "    combined_model.startprob_ = pi_combined\n",
    "    combined_model.transmat_ =A_combined\n",
    "    combined_model.covars_ = cov_combined\n",
    "    combined_model.means_ = mean_combined\n",
    "    return combined_model"
   ]
  },
  {
   "cell_type": "code",
   "execution_count": 66,
   "metadata": {},
   "outputs": [
    {
     "data": {
      "text/plain": [
       "GaussianHMM(algorithm='viterbi', covariance_type='full', covars_prior=0.01,\n",
       "      covars_weight=1, init_params='stmc', means_prior=0, means_weight=0,\n",
       "      min_covar=0.001, n_components=2, n_iter=10, params='stmc',\n",
       "      random_state=None, startprob_prior=1.0, tol=0.01, transmat_prior=1.0,\n",
       "      verbose=False)"
      ]
     },
     "execution_count": 66,
     "metadata": {},
     "output_type": "execute_result"
    }
   ],
   "source": [
    "m1 = learnt_model[learnt_model.keys()[0]]\n",
    "m1"
   ]
  },
  {
   "cell_type": "code",
   "execution_count": 67,
   "metadata": {},
   "outputs": [
    {
     "data": {
      "text/plain": [
       "array([[   0.        ],\n",
       "       [ 341.56349194]])"
      ]
     },
     "execution_count": 67,
     "metadata": {},
     "output_type": "execute_result"
    }
   ],
   "source": [
    "m1.means_"
   ]
  },
  {
   "cell_type": "code",
   "execution_count": 68,
   "metadata": {},
   "outputs": [
    {
     "data": {
      "text/plain": [
       "{0: 0, 1: 1}"
      ]
     },
     "execution_count": 68,
     "metadata": {},
     "output_type": "execute_result"
    }
   ],
   "source": [
    "return_sorting_mapping(m1.means_)"
   ]
  },
  {
   "cell_type": "code",
   "execution_count": 69,
   "metadata": {
    "collapsed": true
   },
   "outputs": [],
   "source": [
    "startprob, means, covars, transmat = sort_learnt_parameters( m1.startprob_, m1.means_,m1.covars_, m1.transmat_)"
   ]
  },
  {
   "cell_type": "code",
   "execution_count": 70,
   "metadata": {},
   "outputs": [
    {
     "data": {
      "text/plain": [
       "GaussianHMM(algorithm='viterbi', covariance_type='full', covars_prior=0.01,\n",
       "      covars_weight=1, init_params='stmc', means_prior=0, means_weight=0,\n",
       "      min_covar=0.001, n_components=16, n_iter=10, params='stmc',\n",
       "      random_state=None, startprob_prior=1.0, tol=0.01, transmat_prior=1.0,\n",
       "      verbose=False)"
      ]
     },
     "execution_count": 70,
     "metadata": {},
     "output_type": "execute_result"
    }
   ],
   "source": [
    "from collections import OrderedDict\n",
    "# Combining to make a AFHMM\n",
    "self_meters = []\n",
    "new_learnt_models = OrderedDict()\n",
    "for meter in learnt_model:\n",
    "    startprob, means, covars, transmat = sort_learnt_parameters(\n",
    "        learnt_model[meter].startprob_, learnt_model[meter].means_,\n",
    "        learnt_model[meter].covars_, learnt_model[meter].transmat_)\n",
    "    new_learnt_models[meter] = hmm.GaussianHMM(startprob.size, \"full\")\n",
    "    new_learnt_models[meter].transmat_ =  transmat\n",
    "    new_learnt_models[meter].startprob_ = startprob\n",
    "    new_learnt_models[meter].means_ = means\n",
    "    new_learnt_models[meter].covars_ = covars\n",
    "#     # UGLY! But works.\n",
    "    self_meters.append(meter)\n",
    "\n",
    "learnt_model_combined = create_combined_hmm(new_learnt_models)\n",
    "self_individual = new_learnt_models\n",
    "self_model = learnt_model_combined\n",
    "self_model"
   ]
  },
  {
   "cell_type": "code",
   "execution_count": 71,
   "metadata": {},
   "outputs": [
    {
     "data": {
      "text/plain": [
       "array([[  0.00000000e+00,   0.00000000e+00],\n",
       "       [  1.00000000e+00,   0.00000000e+00],\n",
       "       [  2.00000000e+00,   0.00000000e+00],\n",
       "       ..., \n",
       "       [  1.94800000e+03,   0.00000000e+00],\n",
       "       [  1.94900000e+03,   0.00000000e+00],\n",
       "       [  1.95000000e+03,   0.00000000e+00]])"
      ]
     },
     "execution_count": 71,
     "metadata": {},
     "output_type": "execute_result"
    }
   ],
   "source": [
    "\n",
    "power_series"
   ]
  },
  {
   "cell_type": "code",
   "execution_count": 72,
   "metadata": {},
   "outputs": [
    {
     "data": {
      "text/plain": [
       "array([[ 1084.],\n",
       "       [ 1084.],\n",
       "       [ 1084.],\n",
       "       ..., \n",
       "       [  858.],\n",
       "       [  858.],\n",
       "       [  858.]])"
      ]
     },
     "execution_count": 72,
     "metadata": {},
     "output_type": "execute_result"
    }
   ],
   "source": [
    "power_series = np.array(fullVals , dtype=float)\n",
    "meter_data = power_series[:,1]\n",
    "temp = meter_data.reshape((-1, 1))\n",
    "temp  "
   ]
  },
  {
   "cell_type": "code",
   "execution_count": 73,
   "metadata": {},
   "outputs": [
    {
     "name": "stderr",
     "output_type": "stream",
     "text": [
      "/Users/Saeed/anaconda/lib/python2.7/site-packages/sklearn/utils/deprecation.py:70: DeprecationWarning: Function log_multivariate_normal_density is deprecated; The function log_multivariate_normal_density is deprecated in 0.18 and will be removed in 0.20.\n",
      "  warnings.warn(msg, category=DeprecationWarning)\n",
      "/Users/Saeed/anaconda/lib/python2.7/site-packages/hmmlearn/base.py:451: RuntimeWarning: divide by zero encountered in log\n",
      "  n_samples, n_components, np.log(self.startprob_),\n"
     ]
    },
    {
     "data": {
      "text/plain": [
       "array([8, 5, 5, 5, 5, 5, 5, 5, 5, 5, 5, 5, 5, 5, 5, 5, 5, 5, 5, 5, 5, 5, 5,\n",
       "       5, 5])"
      ]
     },
     "execution_count": 73,
     "metadata": {},
     "output_type": "execute_result"
    }
   ],
   "source": [
    "pred = {}\n",
    "pred = learnt_model_combined.predict(temp)\n",
    "pred[0:25]"
   ]
  },
  {
   "cell_type": "code",
   "execution_count": 74,
   "metadata": {},
   "outputs": [
    {
     "data": {
      "text/plain": [
       "[array([ 8,  5,  5, ..., 11, 11, 11])]"
      ]
     },
     "execution_count": 74,
     "metadata": {},
     "output_type": "execute_result"
    }
   ],
   "source": [
    "\n",
    "gt= {}\n",
    "# Array of learnt states\n",
    "learnt_states_array = []\n",
    "learnt_states_array.append(pred)\n",
    "learnt_states_array"
   ]
  },
  {
   "cell_type": "code",
   "execution_count": 75,
   "metadata": {},
   "outputs": [
    {
     "data": {
      "text/plain": [
       "OrderedDict([('Back yard lights', [0, 342]),\n",
       "             ('Toaster', [0, 886]),\n",
       "             ('Kitchen Hood', [0, 452]),\n",
       "             ('Garage Lights', [0, 56])])"
      ]
     },
     "execution_count": 75,
     "metadata": {},
     "output_type": "execute_result"
    }
   ],
   "source": [
    "from six import iteritems\n",
    "# Model\n",
    "means = OrderedDict()\n",
    "for elec_meter, model in iteritems(self_individual):\n",
    "    means[elec_meter] = (model.means_.round().astype(int).flatten().tolist())\n",
    "    means[elec_meter].sort()\n",
    "means"
   ]
  },
  {
   "cell_type": "code",
   "execution_count": 76,
   "metadata": {
    "collapsed": true
   },
   "outputs": [],
   "source": [
    "def decode_hmm(length_sequence, centroids, appliance_list, states):\n",
    "    \"\"\"\n",
    "    Decodes the HMM state sequence\n",
    "    \"\"\"\n",
    "    hmm_states = {}\n",
    "    hmm_power = {}\n",
    "    total_num_combinations = 1\n",
    "\n",
    "    for appliance in appliance_list:\n",
    "        total_num_combinations *= len(centroids[appliance])\n",
    "\n",
    "    for appliance in appliance_list:\n",
    "        hmm_states[appliance] = np.zeros(length_sequence, dtype=np.int)\n",
    "        hmm_power[appliance] = np.zeros(length_sequence)\n",
    "\n",
    "    for i in range(length_sequence):\n",
    "\n",
    "        factor = total_num_combinations\n",
    "        for appliance in appliance_list:\n",
    "            # assuming integer division (will cause errors in Python 3x)\n",
    "            factor = factor // len(centroids[appliance])\n",
    "\n",
    "            temp = int(states[i]) / factor\n",
    "            hmm_states[appliance][i] = temp % len(centroids[appliance])\n",
    "            hmm_power[appliance][i] = centroids[\n",
    "                appliance][hmm_states[appliance][i]]\n",
    "    return [hmm_states, hmm_power]"
   ]
  },
  {
   "cell_type": "code",
   "execution_count": 77,
   "metadata": {
    "collapsed": true
   },
   "outputs": [],
   "source": [
    "decoded_power_array = []\n",
    "decoded_states_array = []\n",
    "\n",
    "for learnt_states in learnt_states_array:\n",
    "    [decoded_states, decoded_power] = decode_hmm(len(learnt_states), means, means.keys(), learnt_states)\n",
    "    decoded_states_array.append(decoded_states)\n",
    "    decoded_power_array.append(decoded_power)"
   ]
  },
  {
   "cell_type": "code",
   "execution_count": 78,
   "metadata": {},
   "outputs": [
    {
     "data": {
      "text/html": [
       "<div>\n",
       "<table border=\"1\" class=\"dataframe\">\n",
       "  <thead>\n",
       "    <tr style=\"text-align: right;\">\n",
       "      <th></th>\n",
       "      <th>Back yard lights</th>\n",
       "      <th>Garage Lights</th>\n",
       "      <th>Kitchen Hood</th>\n",
       "      <th>Toaster</th>\n",
       "    </tr>\n",
       "  </thead>\n",
       "  <tbody>\n",
       "    <tr>\n",
       "      <th>0</th>\n",
       "      <td>342.0</td>\n",
       "      <td>0.0</td>\n",
       "      <td>0.0</td>\n",
       "      <td>0.0</td>\n",
       "    </tr>\n",
       "    <tr>\n",
       "      <th>1</th>\n",
       "      <td>0.0</td>\n",
       "      <td>56.0</td>\n",
       "      <td>0.0</td>\n",
       "      <td>886.0</td>\n",
       "    </tr>\n",
       "    <tr>\n",
       "      <th>2</th>\n",
       "      <td>0.0</td>\n",
       "      <td>56.0</td>\n",
       "      <td>0.0</td>\n",
       "      <td>886.0</td>\n",
       "    </tr>\n",
       "    <tr>\n",
       "      <th>3</th>\n",
       "      <td>0.0</td>\n",
       "      <td>56.0</td>\n",
       "      <td>0.0</td>\n",
       "      <td>886.0</td>\n",
       "    </tr>\n",
       "    <tr>\n",
       "      <th>4</th>\n",
       "      <td>0.0</td>\n",
       "      <td>56.0</td>\n",
       "      <td>0.0</td>\n",
       "      <td>886.0</td>\n",
       "    </tr>\n",
       "    <tr>\n",
       "      <th>5</th>\n",
       "      <td>0.0</td>\n",
       "      <td>56.0</td>\n",
       "      <td>0.0</td>\n",
       "      <td>886.0</td>\n",
       "    </tr>\n",
       "    <tr>\n",
       "      <th>6</th>\n",
       "      <td>0.0</td>\n",
       "      <td>56.0</td>\n",
       "      <td>0.0</td>\n",
       "      <td>886.0</td>\n",
       "    </tr>\n",
       "    <tr>\n",
       "      <th>7</th>\n",
       "      <td>0.0</td>\n",
       "      <td>56.0</td>\n",
       "      <td>0.0</td>\n",
       "      <td>886.0</td>\n",
       "    </tr>\n",
       "    <tr>\n",
       "      <th>8</th>\n",
       "      <td>0.0</td>\n",
       "      <td>56.0</td>\n",
       "      <td>0.0</td>\n",
       "      <td>886.0</td>\n",
       "    </tr>\n",
       "    <tr>\n",
       "      <th>9</th>\n",
       "      <td>0.0</td>\n",
       "      <td>56.0</td>\n",
       "      <td>0.0</td>\n",
       "      <td>886.0</td>\n",
       "    </tr>\n",
       "    <tr>\n",
       "      <th>10</th>\n",
       "      <td>0.0</td>\n",
       "      <td>56.0</td>\n",
       "      <td>0.0</td>\n",
       "      <td>886.0</td>\n",
       "    </tr>\n",
       "    <tr>\n",
       "      <th>11</th>\n",
       "      <td>0.0</td>\n",
       "      <td>56.0</td>\n",
       "      <td>0.0</td>\n",
       "      <td>886.0</td>\n",
       "    </tr>\n",
       "    <tr>\n",
       "      <th>12</th>\n",
       "      <td>0.0</td>\n",
       "      <td>56.0</td>\n",
       "      <td>0.0</td>\n",
       "      <td>886.0</td>\n",
       "    </tr>\n",
       "    <tr>\n",
       "      <th>13</th>\n",
       "      <td>0.0</td>\n",
       "      <td>56.0</td>\n",
       "      <td>0.0</td>\n",
       "      <td>886.0</td>\n",
       "    </tr>\n",
       "    <tr>\n",
       "      <th>14</th>\n",
       "      <td>0.0</td>\n",
       "      <td>56.0</td>\n",
       "      <td>0.0</td>\n",
       "      <td>886.0</td>\n",
       "    </tr>\n",
       "    <tr>\n",
       "      <th>15</th>\n",
       "      <td>0.0</td>\n",
       "      <td>56.0</td>\n",
       "      <td>0.0</td>\n",
       "      <td>886.0</td>\n",
       "    </tr>\n",
       "    <tr>\n",
       "      <th>16</th>\n",
       "      <td>0.0</td>\n",
       "      <td>56.0</td>\n",
       "      <td>0.0</td>\n",
       "      <td>886.0</td>\n",
       "    </tr>\n",
       "    <tr>\n",
       "      <th>17</th>\n",
       "      <td>0.0</td>\n",
       "      <td>56.0</td>\n",
       "      <td>0.0</td>\n",
       "      <td>886.0</td>\n",
       "    </tr>\n",
       "    <tr>\n",
       "      <th>18</th>\n",
       "      <td>0.0</td>\n",
       "      <td>56.0</td>\n",
       "      <td>0.0</td>\n",
       "      <td>886.0</td>\n",
       "    </tr>\n",
       "    <tr>\n",
       "      <th>19</th>\n",
       "      <td>0.0</td>\n",
       "      <td>56.0</td>\n",
       "      <td>0.0</td>\n",
       "      <td>886.0</td>\n",
       "    </tr>\n",
       "    <tr>\n",
       "      <th>20</th>\n",
       "      <td>0.0</td>\n",
       "      <td>56.0</td>\n",
       "      <td>0.0</td>\n",
       "      <td>886.0</td>\n",
       "    </tr>\n",
       "    <tr>\n",
       "      <th>21</th>\n",
       "      <td>0.0</td>\n",
       "      <td>56.0</td>\n",
       "      <td>0.0</td>\n",
       "      <td>886.0</td>\n",
       "    </tr>\n",
       "    <tr>\n",
       "      <th>22</th>\n",
       "      <td>0.0</td>\n",
       "      <td>56.0</td>\n",
       "      <td>0.0</td>\n",
       "      <td>886.0</td>\n",
       "    </tr>\n",
       "    <tr>\n",
       "      <th>23</th>\n",
       "      <td>0.0</td>\n",
       "      <td>56.0</td>\n",
       "      <td>0.0</td>\n",
       "      <td>886.0</td>\n",
       "    </tr>\n",
       "    <tr>\n",
       "      <th>24</th>\n",
       "      <td>0.0</td>\n",
       "      <td>56.0</td>\n",
       "      <td>0.0</td>\n",
       "      <td>886.0</td>\n",
       "    </tr>\n",
       "    <tr>\n",
       "      <th>25</th>\n",
       "      <td>0.0</td>\n",
       "      <td>56.0</td>\n",
       "      <td>0.0</td>\n",
       "      <td>886.0</td>\n",
       "    </tr>\n",
       "    <tr>\n",
       "      <th>26</th>\n",
       "      <td>0.0</td>\n",
       "      <td>56.0</td>\n",
       "      <td>0.0</td>\n",
       "      <td>886.0</td>\n",
       "    </tr>\n",
       "    <tr>\n",
       "      <th>27</th>\n",
       "      <td>0.0</td>\n",
       "      <td>56.0</td>\n",
       "      <td>0.0</td>\n",
       "      <td>886.0</td>\n",
       "    </tr>\n",
       "    <tr>\n",
       "      <th>28</th>\n",
       "      <td>0.0</td>\n",
       "      <td>56.0</td>\n",
       "      <td>0.0</td>\n",
       "      <td>886.0</td>\n",
       "    </tr>\n",
       "    <tr>\n",
       "      <th>29</th>\n",
       "      <td>0.0</td>\n",
       "      <td>56.0</td>\n",
       "      <td>0.0</td>\n",
       "      <td>886.0</td>\n",
       "    </tr>\n",
       "    <tr>\n",
       "      <th>...</th>\n",
       "      <td>...</td>\n",
       "      <td>...</td>\n",
       "      <td>...</td>\n",
       "      <td>...</td>\n",
       "    </tr>\n",
       "    <tr>\n",
       "      <th>1921</th>\n",
       "      <td>342.0</td>\n",
       "      <td>56.0</td>\n",
       "      <td>0.0</td>\n",
       "      <td>886.0</td>\n",
       "    </tr>\n",
       "    <tr>\n",
       "      <th>1922</th>\n",
       "      <td>342.0</td>\n",
       "      <td>56.0</td>\n",
       "      <td>0.0</td>\n",
       "      <td>886.0</td>\n",
       "    </tr>\n",
       "    <tr>\n",
       "      <th>1923</th>\n",
       "      <td>342.0</td>\n",
       "      <td>56.0</td>\n",
       "      <td>0.0</td>\n",
       "      <td>886.0</td>\n",
       "    </tr>\n",
       "    <tr>\n",
       "      <th>1924</th>\n",
       "      <td>342.0</td>\n",
       "      <td>56.0</td>\n",
       "      <td>0.0</td>\n",
       "      <td>886.0</td>\n",
       "    </tr>\n",
       "    <tr>\n",
       "      <th>1925</th>\n",
       "      <td>342.0</td>\n",
       "      <td>56.0</td>\n",
       "      <td>0.0</td>\n",
       "      <td>886.0</td>\n",
       "    </tr>\n",
       "    <tr>\n",
       "      <th>1926</th>\n",
       "      <td>342.0</td>\n",
       "      <td>56.0</td>\n",
       "      <td>0.0</td>\n",
       "      <td>886.0</td>\n",
       "    </tr>\n",
       "    <tr>\n",
       "      <th>1927</th>\n",
       "      <td>342.0</td>\n",
       "      <td>56.0</td>\n",
       "      <td>0.0</td>\n",
       "      <td>886.0</td>\n",
       "    </tr>\n",
       "    <tr>\n",
       "      <th>1928</th>\n",
       "      <td>342.0</td>\n",
       "      <td>56.0</td>\n",
       "      <td>0.0</td>\n",
       "      <td>886.0</td>\n",
       "    </tr>\n",
       "    <tr>\n",
       "      <th>1929</th>\n",
       "      <td>342.0</td>\n",
       "      <td>56.0</td>\n",
       "      <td>0.0</td>\n",
       "      <td>886.0</td>\n",
       "    </tr>\n",
       "    <tr>\n",
       "      <th>1930</th>\n",
       "      <td>342.0</td>\n",
       "      <td>56.0</td>\n",
       "      <td>0.0</td>\n",
       "      <td>886.0</td>\n",
       "    </tr>\n",
       "    <tr>\n",
       "      <th>1931</th>\n",
       "      <td>342.0</td>\n",
       "      <td>56.0</td>\n",
       "      <td>0.0</td>\n",
       "      <td>886.0</td>\n",
       "    </tr>\n",
       "    <tr>\n",
       "      <th>1932</th>\n",
       "      <td>342.0</td>\n",
       "      <td>56.0</td>\n",
       "      <td>0.0</td>\n",
       "      <td>886.0</td>\n",
       "    </tr>\n",
       "    <tr>\n",
       "      <th>1933</th>\n",
       "      <td>342.0</td>\n",
       "      <td>56.0</td>\n",
       "      <td>0.0</td>\n",
       "      <td>886.0</td>\n",
       "    </tr>\n",
       "    <tr>\n",
       "      <th>1934</th>\n",
       "      <td>342.0</td>\n",
       "      <td>56.0</td>\n",
       "      <td>0.0</td>\n",
       "      <td>886.0</td>\n",
       "    </tr>\n",
       "    <tr>\n",
       "      <th>1935</th>\n",
       "      <td>342.0</td>\n",
       "      <td>56.0</td>\n",
       "      <td>0.0</td>\n",
       "      <td>886.0</td>\n",
       "    </tr>\n",
       "    <tr>\n",
       "      <th>1936</th>\n",
       "      <td>342.0</td>\n",
       "      <td>56.0</td>\n",
       "      <td>0.0</td>\n",
       "      <td>886.0</td>\n",
       "    </tr>\n",
       "    <tr>\n",
       "      <th>1937</th>\n",
       "      <td>342.0</td>\n",
       "      <td>56.0</td>\n",
       "      <td>0.0</td>\n",
       "      <td>886.0</td>\n",
       "    </tr>\n",
       "    <tr>\n",
       "      <th>1938</th>\n",
       "      <td>342.0</td>\n",
       "      <td>56.0</td>\n",
       "      <td>0.0</td>\n",
       "      <td>886.0</td>\n",
       "    </tr>\n",
       "    <tr>\n",
       "      <th>1939</th>\n",
       "      <td>342.0</td>\n",
       "      <td>56.0</td>\n",
       "      <td>0.0</td>\n",
       "      <td>886.0</td>\n",
       "    </tr>\n",
       "    <tr>\n",
       "      <th>1940</th>\n",
       "      <td>342.0</td>\n",
       "      <td>56.0</td>\n",
       "      <td>0.0</td>\n",
       "      <td>886.0</td>\n",
       "    </tr>\n",
       "    <tr>\n",
       "      <th>1941</th>\n",
       "      <td>342.0</td>\n",
       "      <td>56.0</td>\n",
       "      <td>0.0</td>\n",
       "      <td>886.0</td>\n",
       "    </tr>\n",
       "    <tr>\n",
       "      <th>1942</th>\n",
       "      <td>342.0</td>\n",
       "      <td>56.0</td>\n",
       "      <td>0.0</td>\n",
       "      <td>886.0</td>\n",
       "    </tr>\n",
       "    <tr>\n",
       "      <th>1943</th>\n",
       "      <td>342.0</td>\n",
       "      <td>56.0</td>\n",
       "      <td>0.0</td>\n",
       "      <td>886.0</td>\n",
       "    </tr>\n",
       "    <tr>\n",
       "      <th>1944</th>\n",
       "      <td>342.0</td>\n",
       "      <td>56.0</td>\n",
       "      <td>0.0</td>\n",
       "      <td>886.0</td>\n",
       "    </tr>\n",
       "    <tr>\n",
       "      <th>1945</th>\n",
       "      <td>342.0</td>\n",
       "      <td>56.0</td>\n",
       "      <td>0.0</td>\n",
       "      <td>886.0</td>\n",
       "    </tr>\n",
       "    <tr>\n",
       "      <th>1946</th>\n",
       "      <td>342.0</td>\n",
       "      <td>56.0</td>\n",
       "      <td>452.0</td>\n",
       "      <td>0.0</td>\n",
       "    </tr>\n",
       "    <tr>\n",
       "      <th>1947</th>\n",
       "      <td>342.0</td>\n",
       "      <td>56.0</td>\n",
       "      <td>452.0</td>\n",
       "      <td>0.0</td>\n",
       "    </tr>\n",
       "    <tr>\n",
       "      <th>1948</th>\n",
       "      <td>342.0</td>\n",
       "      <td>56.0</td>\n",
       "      <td>452.0</td>\n",
       "      <td>0.0</td>\n",
       "    </tr>\n",
       "    <tr>\n",
       "      <th>1949</th>\n",
       "      <td>342.0</td>\n",
       "      <td>56.0</td>\n",
       "      <td>452.0</td>\n",
       "      <td>0.0</td>\n",
       "    </tr>\n",
       "    <tr>\n",
       "      <th>1950</th>\n",
       "      <td>342.0</td>\n",
       "      <td>56.0</td>\n",
       "      <td>452.0</td>\n",
       "      <td>0.0</td>\n",
       "    </tr>\n",
       "  </tbody>\n",
       "</table>\n",
       "<p>1951 rows × 4 columns</p>\n",
       "</div>"
      ],
      "text/plain": [
       "      Back yard lights  Garage Lights  Kitchen Hood  Toaster\n",
       "0                342.0            0.0           0.0      0.0\n",
       "1                  0.0           56.0           0.0    886.0\n",
       "2                  0.0           56.0           0.0    886.0\n",
       "3                  0.0           56.0           0.0    886.0\n",
       "4                  0.0           56.0           0.0    886.0\n",
       "5                  0.0           56.0           0.0    886.0\n",
       "6                  0.0           56.0           0.0    886.0\n",
       "7                  0.0           56.0           0.0    886.0\n",
       "8                  0.0           56.0           0.0    886.0\n",
       "9                  0.0           56.0           0.0    886.0\n",
       "10                 0.0           56.0           0.0    886.0\n",
       "11                 0.0           56.0           0.0    886.0\n",
       "12                 0.0           56.0           0.0    886.0\n",
       "13                 0.0           56.0           0.0    886.0\n",
       "14                 0.0           56.0           0.0    886.0\n",
       "15                 0.0           56.0           0.0    886.0\n",
       "16                 0.0           56.0           0.0    886.0\n",
       "17                 0.0           56.0           0.0    886.0\n",
       "18                 0.0           56.0           0.0    886.0\n",
       "19                 0.0           56.0           0.0    886.0\n",
       "20                 0.0           56.0           0.0    886.0\n",
       "21                 0.0           56.0           0.0    886.0\n",
       "22                 0.0           56.0           0.0    886.0\n",
       "23                 0.0           56.0           0.0    886.0\n",
       "24                 0.0           56.0           0.0    886.0\n",
       "25                 0.0           56.0           0.0    886.0\n",
       "26                 0.0           56.0           0.0    886.0\n",
       "27                 0.0           56.0           0.0    886.0\n",
       "28                 0.0           56.0           0.0    886.0\n",
       "29                 0.0           56.0           0.0    886.0\n",
       "...                ...            ...           ...      ...\n",
       "1921             342.0           56.0           0.0    886.0\n",
       "1922             342.0           56.0           0.0    886.0\n",
       "1923             342.0           56.0           0.0    886.0\n",
       "1924             342.0           56.0           0.0    886.0\n",
       "1925             342.0           56.0           0.0    886.0\n",
       "1926             342.0           56.0           0.0    886.0\n",
       "1927             342.0           56.0           0.0    886.0\n",
       "1928             342.0           56.0           0.0    886.0\n",
       "1929             342.0           56.0           0.0    886.0\n",
       "1930             342.0           56.0           0.0    886.0\n",
       "1931             342.0           56.0           0.0    886.0\n",
       "1932             342.0           56.0           0.0    886.0\n",
       "1933             342.0           56.0           0.0    886.0\n",
       "1934             342.0           56.0           0.0    886.0\n",
       "1935             342.0           56.0           0.0    886.0\n",
       "1936             342.0           56.0           0.0    886.0\n",
       "1937             342.0           56.0           0.0    886.0\n",
       "1938             342.0           56.0           0.0    886.0\n",
       "1939             342.0           56.0           0.0    886.0\n",
       "1940             342.0           56.0           0.0    886.0\n",
       "1941             342.0           56.0           0.0    886.0\n",
       "1942             342.0           56.0           0.0    886.0\n",
       "1943             342.0           56.0           0.0    886.0\n",
       "1944             342.0           56.0           0.0    886.0\n",
       "1945             342.0           56.0           0.0    886.0\n",
       "1946             342.0           56.0         452.0      0.0\n",
       "1947             342.0           56.0         452.0      0.0\n",
       "1948             342.0           56.0         452.0      0.0\n",
       "1949             342.0           56.0         452.0      0.0\n",
       "1950             342.0           56.0         452.0      0.0\n",
       "\n",
       "[1951 rows x 4 columns]"
      ]
     },
     "execution_count": 78,
     "metadata": {},
     "output_type": "execute_result"
    }
   ],
   "source": [
    "import pandas as pd\n",
    "prediction = pd.DataFrame(decoded_power_array[0])\n",
    "prediction"
   ]
  },
  {
   "cell_type": "code",
   "execution_count": 79,
   "metadata": {},
   "outputs": [
    {
     "data": {
      "text/plain": [
       "[<matplotlib.lines.Line2D at 0x1219a9dd0>,\n",
       " <matplotlib.lines.Line2D at 0x1219a9f90>,\n",
       " <matplotlib.lines.Line2D at 0x1219b7110>,\n",
       " <matplotlib.lines.Line2D at 0x1219b7250>]"
      ]
     },
     "execution_count": 79,
     "metadata": {},
     "output_type": "execute_result"
    },
    {
     "data": {
      "image/png": "[encoded data removed]",
      "text/plain": [
       "<matplotlib.figure.Figure at 0x12191b590>"
      ]
     },
     "metadata": {},
     "output_type": "display_data"
    }
   ],
   "source": [
    "plt.plot(prediction.iloc[0:2000])"
   ]
  },
  {
   "cell_type": "code",
   "execution_count": 80,
   "metadata": {},
   "outputs": [
    {
     "data": {
      "text/html": [
       "<div>\n",
       "<table border=\"1\" class=\"dataframe\">\n",
       "  <thead>\n",
       "    <tr style=\"text-align: right;\">\n",
       "      <th></th>\n",
       "      <th>Back yard lights</th>\n",
       "      <th>Garage Lights</th>\n",
       "      <th>Kitchen Hood</th>\n",
       "      <th>Toaster</th>\n",
       "    </tr>\n",
       "  </thead>\n",
       "  <tbody>\n",
       "    <tr>\n",
       "      <th>0</th>\n",
       "      <td>342.0</td>\n",
       "      <td>0.0</td>\n",
       "      <td>0.0</td>\n",
       "      <td>0.0</td>\n",
       "    </tr>\n",
       "    <tr>\n",
       "      <th>1</th>\n",
       "      <td>0.0</td>\n",
       "      <td>56.0</td>\n",
       "      <td>0.0</td>\n",
       "      <td>886.0</td>\n",
       "    </tr>\n",
       "    <tr>\n",
       "      <th>2</th>\n",
       "      <td>0.0</td>\n",
       "      <td>56.0</td>\n",
       "      <td>0.0</td>\n",
       "      <td>886.0</td>\n",
       "    </tr>\n",
       "    <tr>\n",
       "      <th>3</th>\n",
       "      <td>0.0</td>\n",
       "      <td>56.0</td>\n",
       "      <td>0.0</td>\n",
       "      <td>886.0</td>\n",
       "    </tr>\n",
       "    <tr>\n",
       "      <th>4</th>\n",
       "      <td>0.0</td>\n",
       "      <td>56.0</td>\n",
       "      <td>0.0</td>\n",
       "      <td>886.0</td>\n",
       "    </tr>\n",
       "  </tbody>\n",
       "</table>\n",
       "</div>"
      ],
      "text/plain": [
       "   Back yard lights  Garage Lights  Kitchen Hood  Toaster\n",
       "0             342.0            0.0           0.0      0.0\n",
       "1               0.0           56.0           0.0    886.0\n",
       "2               0.0           56.0           0.0    886.0\n",
       "3               0.0           56.0           0.0    886.0\n",
       "4               0.0           56.0           0.0    886.0"
      ]
     },
     "execution_count": 80,
     "metadata": {},
     "output_type": "execute_result"
    }
   ],
   "source": [
    "prediction.head()"
   ]
  },
  {
   "cell_type": "code",
   "execution_count": 81,
   "metadata": {
    "collapsed": true
   },
   "outputs": [],
   "source": [
    "sumPred = prediction.sum(axis=1)"
   ]
  },
  {
   "cell_type": "code",
   "execution_count": 82,
   "metadata": {},
   "outputs": [
    {
     "data": {
      "text/plain": [
       "[<matplotlib.lines.Line2D at 0x121b1c0d0>]"
      ]
     },
     "execution_count": 82,
     "metadata": {},
     "output_type": "execute_result"
    },
    {
     "data": {
      "image/png": "[encoded data removed]",
      "text/plain": [
       "<matplotlib.figure.Figure at 0x121a74dd0>"
      ]
     },
     "metadata": {},
     "output_type": "display_data"
    }
   ],
   "source": [
    "plt.plot(sumPred[0:2000])"
   ]
  },
  {
   "cell_type": "code",
   "execution_count": 83,
   "metadata": {},
   "outputs": [
    {
     "data": {
      "text/plain": [
       "[<matplotlib.lines.Line2D at 0x121c76d90>]"
      ]
     },
     "execution_count": 83,
     "metadata": {},
     "output_type": "execute_result"
    },
    {
     "data": {
      "image/png": "[encoded data removed]",
      "text/plain": [
       "<matplotlib.figure.Figure at 0x121bd4490>"
      ]
     },
     "metadata": {},
     "output_type": "display_data"
    }
   ],
   "source": [
    "plt.plot(np.asarray(fullVals)[:,1])"
   ]
  },
  {
   "cell_type": "code",
   "execution_count": null,
   "metadata": {
    "collapsed": true
   },
   "outputs": [],
   "source": []
  }
 ],
 "metadata": {
  "kernelspec": {
   "display_name": "Python 2",
   "language": "python",
   "name": "python2"
  },
  "language_info": {
   "codemirror_mode": {
    "name": "ipython",
    "version": 2
   },
   "file_extension": ".py",
   "mimetype": "text/x-python",
   "name": "python",
   "nbconvert_exporter": "python",
   "pygments_lexer": "ipython2",
   "version": "2.7.13"
  },
  "widgets": {
   "state": {
    "0052be3952014bc1a93805022d52b30d": {
     "views": [
      {
       "cell_index": 22
      }
     ]
    },
    "036128d83ca54577b48d2a8d5808a39f": {
     "views": [
      {
       "cell_index": 22
      }
     ]
    },
    "03cb826f01eb491885fbbbbd2df323b5": {
     "views": [
      {
       "cell_index": 22
      }
     ]
    },
    "04d5c1e6fda442f4b53b538eee192a84": {
     "views": [
      {
       "cell_index": 22
      }
     ]
    },
    "060d238cafc1441aafee48089df20d9a": {
     "views": [
      {
       "cell_index": 22
      }
     ]
    },
    "060ddd9dfc4c4b15b6e0212d43034c90": {
     "views": [
      {
       "cell_index": 22
      }
     ]
    },
    "06516ebcbd9847458a58164c2a79aaa5": {
     "views": [
      {
       "cell_index": 22
      }
     ]
    },
    "0804dc4e938247d688c44df3912724b3": {
     "views": [
      {
       "cell_index": 22
      }
     ]
    },
    "083fa1b60351416baa8d6cddab72cb5a": {
     "views": [
      {
       "cell_index": 22
      }
     ]
    },
    "0975f80e25d14d159bcd240ae3dca2f0": {
     "views": [
      {
       "cell_index": 22
      }
     ]
    },
    "0a1c95fdd5564f34b6dce3595d77958b": {
     "views": [
      {
       "cell_index": 22
      }
     ]
    },
    "0b5ea5bf4dc245349d9719e8c13c79ec": {
     "views": [
      {
       "cell_index": 22
      }
     ]
    },
    "0c30351046aa463fb27c1e81db807fb6": {
     "views": [
      {
       "cell_index": 22
      }
     ]
    },
    "0c85900db3bb4e79a1b63d28c8371a8f": {
     "views": [
      {
       "cell_index": 18
      }
     ]
    },
    "0f49440478d742909d8b4c5bad22f3e3": {
     "views": [
      {
       "cell_index": 22
      }
     ]
    },
    "1194692994344dabbe1520585c2c683e": {
     "views": [
      {
       "cell_index": 22
      }
     ]
    },
    "13243c7deac540adb689ce16711ecaf2": {
     "views": [
      {
       "cell_index": 22
      }
     ]
    },
    "165b4f66e2574be9a033b2e6dfeec5d7": {
     "views": [
      {
       "cell_index": 22
      }
     ]
    },
    "165ba097a1fd4f4a91743e64b354c796": {
     "views": [
      {
       "cell_index": 22
      }
     ]
    },
    "1663ce6fd42d40c99034f7bb16a061fa": {
     "views": [
      {
       "cell_index": 22
      }
     ]
    },
    "169df4efe00941fca82bafc6f97c2a66": {
     "views": [
      {
       "cell_index": 22
      }
     ]
    },
    "18ee059089d542a3b81162c70ae088de": {
     "views": [
      {
       "cell_index": 22
      }
     ]
    },
    "19e80c8f15e7486996d8b31d827f5a85": {
     "views": [
      {
       "cell_index": 22
      }
     ]
    },
    "1a5f226dcaaf44e290557baeb709cef6": {
     "views": [
      {
       "cell_index": 22
      }
     ]
    },
    "1b0417e864544c76b2f7cb081e5ad478": {
     "views": [
      {
       "cell_index": 22
      }
     ]
    },
    "1b665ab1ccd84e19803749070dd4c3c2": {
     "views": [
      {
       "cell_index": 22
      }
     ]
    },
    "1c802e0ff1a5404d9d7978eacbb599e8": {
     "views": [
      {
       "cell_index": 18
      }
     ]
    },
    "1ea332d1e707498183b8a4a86b2cd7f1": {
     "views": [
      {
       "cell_index": 22
      }
     ]
    },
    "1f00bc4793004560a4e5e81a8db39487": {
     "views": [
      {
       "cell_index": 22
      }
     ]
    },
    "1f6fc59a94a445a69d1426052fafad77": {
     "views": [
      {
       "cell_index": 22
      }
     ]
    },
    "1fdd12b7ed4c4fe0a72d89b4811f0b2c": {
     "views": [
      {
       "cell_index": 22
      }
     ]
    },
    "1fe2755af133456bbdcd00890c45e41c": {
     "views": [
      {
       "cell_index": 22
      }
     ]
    },
    "1ffc3d6be4ff42fca790d0beb65463d9": {
     "views": [
      {
       "cell_index": 22
      }
     ]
    },
    "20a2dda5590545dfbcdecbac4d6f01e2": {
     "views": [
      {
       "cell_index": 22
      }
     ]
    },
    "21560bb1b0554f29a48e6c79356adadb": {
     "views": [
      {
       "cell_index": 22
      }
     ]
    },
    "217cbf420353458a93ba09d3247d63c3": {
     "views": [
      {
       "cell_index": 22
      }
     ]
    },
    "22286f4ce3fd45e48017176648ba9c78": {
     "views": [
      {
       "cell_index": 22
      }
     ]
    },
    "23c3cf42010d43f4b598aed917ec8706": {
     "views": [
      {
       "cell_index": 18
      }
     ]
    },
    "266ebf16177048a197d5182899dc1e1f": {
     "views": [
      {
       "cell_index": 22
      }
     ]
    },
    "26b10d1d044c44b1833d0fe38ffbdfe2": {
     "views": [
      {
       "cell_index": 22
      }
     ]
    },
    "284a3d0b0c1347c1af2d2612645ab30c": {
     "views": [
      {
       "cell_index": 20
      }
     ]
    },
    "2860490f058f48f884da4ee2ebe6edde": {
     "views": [
      {
       "cell_index": 22
      }
     ]
    },
    "288ce287e49741a78db5ef51cb1de9af": {
     "views": [
      {
       "cell_index": 22
      }
     ]
    },
    "2a1af153a26743d0940f21c6e6335efb": {
     "views": [
      {
       "cell_index": 22
      }
     ]
    },
    "2b59c99cafcf469cb63982d649951d51": {
     "views": [
      {
       "cell_index": 22
      }
     ]
    },
    "2b7942c3dae046a59bbf04e9c7637d33": {
     "views": [
      {
       "cell_index": 22
      }
     ]
    },
    "2c3de9dff96a4a92b655fa88f7283818": {
     "views": [
      {
       "cell_index": 22
      }
     ]
    },
    "2c9802f449084e41985f616919eff93a": {
     "views": [
      {
       "cell_index": 22
      }
     ]
    },
    "2e6714a9ba98447db687639afdfbbb0d": {
     "views": [
      {
       "cell_index": 22
      }
     ]
    },
    "2ed49e7202f1483cab4c9a5475e00cff": {
     "views": [
      {
       "cell_index": 22
      }
     ]
    },
    "2fd245bfd27b4866a64d4fa4c75df728": {
     "views": [
      {
       "cell_index": 22
      }
     ]
    },
    "30a67b73438f42e38b0f1658c9df76da": {
     "views": [
      {
       "cell_index": 22
      }
     ]
    },
    "3267d47bfb3845798a25308d97c8c0c3": {
     "views": [
      {
       "cell_index": 22
      }
     ]
    },
    "33142fc891a446feae6d3b90356acc84": {
     "views": [
      {
       "cell_index": 22
      }
     ]
    },
    "33b57f0e33484f48b171962141e9be1e": {
     "views": [
      {
       "cell_index": 22
      }
     ]
    },
    "341d2be898e442c5ac35930270856829": {
     "views": [
      {
       "cell_index": 18
      }
     ]
    },
    "374db76160b646e9b055f4a338403a20": {
     "views": [
      {
       "cell_index": 22
      }
     ]
    },
    "378aaa9ae51344c0bb5f8aa383d69e74": {
     "views": [
      {
       "cell_index": 22
      }
     ]
    },
    "39821b647b9f46a790fdd32e759c1ad2": {
     "views": [
      {
       "cell_index": 22
      }
     ]
    },
    "3af74cc25c55416e8222a48de86bb7fe": {
     "views": [
      {
       "cell_index": 22
      }
     ]
    },
    "3b032095172c40de9b85f1aab0a8cc69": {
     "views": [
      {
       "cell_index": 22
      }
     ]
    },
    "3b983ab96d564c72834142055d85c958": {
     "views": [
      {
       "cell_index": 22
      }
     ]
    },
    "3cf01fffb98e49989cd5c26e8836a967": {
     "views": [
      {
       "cell_index": 22
      }
     ]
    },
    "3ec01de6047046ad880a23e8fd7b8575": {
     "views": [
      {
       "cell_index": 22
      }
     ]
    },
    "3f90c567ab5347ba8c9e7d0db7c2e9c4": {
     "views": [
      {
       "cell_index": 22
      }
     ]
    },
    "3fdeed581b004b359eda8e4beca94ea0": {
     "views": [
      {
       "cell_index": 22
      }
     ]
    },
    "42d4303da8de48abad74828ca130d146": {
     "views": [
      {
       "cell_index": 18
      }
     ]
    },
    "43698014cb514ce99800c8f132d3bcc4": {
     "views": [
      {
       "cell_index": 22
      }
     ]
    },
    "4383408d9f5b404f84223cc908ffcd6c": {
     "views": [
      {
       "cell_index": 22
      }
     ]
    },
    "43a30fbeaf904e23bb7ed408944bfb83": {
     "views": [
      {
       "cell_index": 22
      }
     ]
    },
    "43b1d2270d964b8e9d21d032c0d97b39": {
     "views": [
      {
       "cell_index": 22
      }
     ]
    },
    "44f2622d67e94826b814faccd5bc9666": {
     "views": [
      {
       "cell_index": 22
      }
     ]
    },
    "452e451c7a8042809f492c04b31369f6": {
     "views": [
      {
       "cell_index": 22
      }
     ]
    },
    "46e17418bc1547d9b2ae9783f26af27e": {
     "views": [
      {
       "cell_index": 22
      }
     ]
    },
    "471450fd1be8486fb5eeb5ecba299428": {
     "views": [
      {
       "cell_index": 18
      }
     ]
    },
    "47f50a525216430abbfc928c5d8e2c42": {
     "views": [
      {
       "cell_index": 18
      }
     ]
    },
    "486ab48c00d241769b269bc67f86334d": {
     "views": [
      {
       "cell_index": 18
      }
     ]
    },
    "4911deb3a3b64123b48cb69340194177": {
     "views": [
      {
       "cell_index": 22
      }
     ]
    },
    "4b2768cf22b64686b2c42f1ea6671c2a": {
     "views": [
      {
       "cell_index": 22
      }
     ]
    },
    "4cc46deaf5424c8e8bd5a1f1953f10e9": {
     "views": [
      {
       "cell_index": 22
      }
     ]
    },
    "4d967d0fdce543dbaf8118f4f8d37431": {
     "views": [
      {
       "cell_index": 22
      }
     ]
    },
    "4fbba31af4014dc987455c4930b60e37": {
     "views": [
      {
       "cell_index": 22
      }
     ]
    },
    "5045209bb1534b29a897e8f9b1271890": {
     "views": [
      {
       "cell_index": 22
      }
     ]
    },
    "505a514eee4249c58fb5c9700263ac4a": {
     "views": [
      {
       "cell_index": 22
      }
     ]
    },
    "50622ae49969469f983af95783063fec": {
     "views": [
      {
       "cell_index": 22
      }
     ]
    },
    "512cf691bc3a41f7b75f9a05225c9adf": {
     "views": [
      {
       "cell_index": 22
      }
     ]
    },
    "515f528b7d4e4b9d926342fc454001ce": {
     "views": [
      {
       "cell_index": 22
      }
     ]
    },
    "53643707ff824b799ca1be5312bae668": {
     "views": [
      {
       "cell_index": 22
      }
     ]
    },
    "5378358cf14c44058d830594d5a92832": {
     "views": [
      {
       "cell_index": 22
      }
     ]
    },
    "546ab1a19e004a27ad1a99c18675844e": {
     "views": [
      {
       "cell_index": 22
      }
     ]
    },
    "5498b30a75f9402bb5d6fc7fef8117f7": {
     "views": [
      {
       "cell_index": 22
      }
     ]
    },
    "55bd14b93749469089b44d9174b01f00": {
     "views": [
      {
       "cell_index": 22
      }
     ]
    },
    "562a76feb87040cab8f9124ab0e433ca": {
     "views": [
      {
       "cell_index": 22
      }
     ]
    },
    "57624a90733f40ae81405bf085846697": {
     "views": [
      {
       "cell_index": 22
      }
     ]
    },
    "5ad351a14a4047199e436602272d5a49": {
     "views": [
      {
       "cell_index": 22
      }
     ]
    },
    "5b5de29e45054750b1b0659a10c1da83": {
     "views": [
      {
       "cell_index": 22
      }
     ]
    },
    "5b9de70562864716bf254f1388997b29": {
     "views": [
      {
       "cell_index": 22
      }
     ]
    },
    "5c7b1419802f471cb52bd0e6d895ee4a": {
     "views": [
      {
       "cell_index": 22
      }
     ]
    },
    "5ea15404a29649e6bcc0bf3de69953ba": {
     "views": [
      {
       "cell_index": 22
      }
     ]
    },
    "61e6f10091cb4109bf2c2e8525609707": {
     "views": [
      {
       "cell_index": 22
      }
     ]
    },
    "631da3538a1e4895adcfdad2ba6c15fb": {
     "views": [
      {
       "cell_index": 22
      }
     ]
    },
    "63dd89284a9c4d5c8f9b965fdc3657c8": {
     "views": [
      {
       "cell_index": 22
      }
     ]
    },
    "647ec8e2188a4a73a3d14952b7dbe9a7": {
     "views": [
      {
       "cell_index": 22
      }
     ]
    },
    "64c8677abdc14aac892569757d85cc19": {
     "views": [
      {
       "cell_index": 22
      }
     ]
    },
    "653f4fbaea28435a851022628d6e69da": {
     "views": [
      {
       "cell_index": 22
      }
     ]
    },
    "66c128c137484d588b51549080ce7a67": {
     "views": [
      {
       "cell_index": 22
      }
     ]
    },
    "679babe42f8f49e19907aca89af0a00f": {
     "views": [
      {
       "cell_index": 22
      }
     ]
    },
    "6a6df9ce81ef4f29b93966cbf52c672d": {
     "views": [
      {
       "cell_index": 22
      }
     ]
    },
    "6b2dc11515664e7ca457e313bd4a8d85": {
     "views": [
      {
       "cell_index": 22
      }
     ]
    },
    "6bedfc3a32634e2faeee3b230ff030b8": {
     "views": [
      {
       "cell_index": 22
      }
     ]
    },
    "6f443948352f42a98e7856d1e9408cb9": {
     "views": [
      {
       "cell_index": 22
      }
     ]
    },
    "711b5cc1101e4556895b7eefab260cac": {
     "views": [
      {
       "cell_index": 22
      }
     ]
    },
    "715faed0756a456f93dad862dff5c928": {
     "views": [
      {
       "cell_index": 22
      }
     ]
    },
    "72edf4451128499daf5162af8fa659cb": {
     "views": [
      {
       "cell_index": 22
      }
     ]
    },
    "744d45ed69ac4e9d9aa471979043283a": {
     "views": [
      {
       "cell_index": 22
      }
     ]
    },
    "744ebb438ec8415096847e23971d5208": {
     "views": [
      {
       "cell_index": 18
      }
     ]
    },
    "75e5c7acff3647efaf78da4c3ced547f": {
     "views": [
      {
       "cell_index": 22
      }
     ]
    },
    "7684fa2c7d78407aa1bc0dfecacd51a9": {
     "views": [
      {
       "cell_index": 22
      }
     ]
    },
    "772e723a44b640deb6f56f799be23e4e": {
     "views": [
      {
       "cell_index": 22
      }
     ]
    },
    "77331a68fe5c4e05b1e5cf9d34ab22ef": {
     "views": [
      {
       "cell_index": 22
      }
     ]
    },
    "776d8a4664e74debb4044162cfb821b5": {
     "views": [
      {
       "cell_index": 22
      }
     ]
    },
    "784608c1996d4ec9975a582b735260dc": {
     "views": [
      {
       "cell_index": 22
      }
     ]
    },
    "78beb87df7994b518b60a106cd146618": {
     "views": [
      {
       "cell_index": 22
      }
     ]
    },
    "7a7d17bd751e41099dbf04b00264fe9f": {
     "views": [
      {
       "cell_index": 22
      }
     ]
    },
    "7affe223b035414cb16f4641305b8bad": {
     "views": [
      {
       "cell_index": 22
      }
     ]
    },
    "7b86e723b7e646cc8ba7b5b01c05d408": {
     "views": [
      {
       "cell_index": 22
      }
     ]
    },
    "7bd6c5daed7f4df5bb011c435134e5f3": {
     "views": [
      {
       "cell_index": 22
      }
     ]
    },
    "7e049f69635b4156b51bf886552657e8": {
     "views": [
      {
       "cell_index": 22
      }
     ]
    },
    "7f7826bbd6814eb4ab64b01d368bf4fb": {
     "views": [
      {
       "cell_index": 22
      }
     ]
    },
    "83c7ee0257104430a8ad44359c0dc9c0": {
     "views": [
      {
       "cell_index": 18
      }
     ]
    },
    "84c24db8714f4bab9491d04974e53e44": {
     "views": [
      {
       "cell_index": 22
      }
     ]
    },
    "85a138f7627b4b83a9305c1798c3de01": {
     "views": [
      {
       "cell_index": 22
      }
     ]
    },
    "8727f18c2a144fe6beaffbb45d75a2e9": {
     "views": [
      {
       "cell_index": 22
      }
     ]
    },
    "8857596453e94c5ebee0d8a924130504": {
     "views": [
      {
       "cell_index": 22
      }
     ]
    },
    "88bdfc4e056e4e369384bc9d8afd76db": {
     "views": [
      {
       "cell_index": 22
      }
     ]
    },
    "893b54fb2d9b4e95b347992a35e88847": {
     "views": [
      {
       "cell_index": 22
      }
     ]
    },
    "8a03908da0194812bebdf6f311ea0ab2": {
     "views": [
      {
       "cell_index": 22
      }
     ]
    },
    "8a1b81a0b6b94632b1cc1ac034fa57d0": {
     "views": [
      {
       "cell_index": 22
      }
     ]
    },
    "8a86748cf39f4454adc0d454955fecbc": {
     "views": [
      {
       "cell_index": 22
      }
     ]
    },
    "8d8a9eefb76148adb70066b274434f8b": {
     "views": [
      {
       "cell_index": 22
      }
     ]
    },
    "8dc0e98ddbf44daaa8940c68fdba85f3": {
     "views": [
      {
       "cell_index": 22
      }
     ]
    },
    "8dfd3e118ae447a9a180d36ff7c7512b": {
     "views": [
      {
       "cell_index": 22
      }
     ]
    },
    "8e1c6d00c6954dac870287480501e6de": {
     "views": [
      {
       "cell_index": 22
      }
     ]
    },
    "8e5e9ef6b580440a8d3cb5765720f289": {
     "views": [
      {
       "cell_index": 22
      }
     ]
    },
    "8ea1e94e98844c55b60f5b957a7fba3b": {
     "views": [
      {
       "cell_index": 22
      }
     ]
    },
    "905dd68847024402b0c68f44f6f22980": {
     "views": [
      {
       "cell_index": 22
      }
     ]
    },
    "93d3ec3a4c2d48178df2ee5c027d1f6f": {
     "views": [
      {
       "cell_index": 22
      }
     ]
    },
    "93f9e961ded8443cb66996077c73d602": {
     "views": [
      {
       "cell_index": 22
      }
     ]
    },
    "94efa9f9c86a44e4a027d8057c861329": {
     "views": [
      {
       "cell_index": 22
      }
     ]
    },
    "94fe7dc0e87b458489d184050a438c92": {
     "views": [
      {
       "cell_index": 22
      }
     ]
    },
    "953596444a5145c7860642c04387cdc9": {
     "views": [
      {
       "cell_index": 22
      }
     ]
    },
    "99ba6349a527433988fb533ce15a275f": {
     "views": [
      {
       "cell_index": 22
      }
     ]
    },
    "9a3f7c4383404bc28ef2eb1036ad14ec": {
     "views": [
      {
       "cell_index": 18
      }
     ]
    },
    "9bac51b776774ce884b91ee644adc6aa": {
     "views": [
      {
       "cell_index": 22
      }
     ]
    },
    "9c4502b3f2ea4cb7b4716e32ed6adc46": {
     "views": [
      {
       "cell_index": 22
      }
     ]
    },
    "9ed0a0ca7e6b4f2884b7a578336efa3a": {
     "views": [
      {
       "cell_index": 22
      }
     ]
    },
    "9edbb8300c1e4a9ca1ec640057926fa0": {
     "views": [
      {
       "cell_index": 22
      }
     ]
    },
    "a0c5855b9d924266ad02560992171517": {
     "views": [
      {
       "cell_index": 22
      }
     ]
    },
    "a198e85f59cc47aabf4fdda8f9be96f1": {
     "views": [
      {
       "cell_index": 22
      }
     ]
    },
    "a4b6a315fe6c4fb58ed653c6f797875e": {
     "views": [
      {
       "cell_index": 22
      }
     ]
    },
    "a53c4400d3d644fc892caaaa06ac27dd": {
     "views": [
      {
       "cell_index": 22
      }
     ]
    },
    "a572aface60e4f53aa82121bdc65b462": {
     "views": [
      {
       "cell_index": 22
      }
     ]
    },
    "a636cb9b500c4266be4011616a7619a8": {
     "views": [
      {
       "cell_index": 22
      }
     ]
    },
    "a68f4e377f6f41a9971e446a01a1a3d7": {
     "views": [
      {
       "cell_index": 22
      }
     ]
    },
    "aabe25d8c196478bb89326458f0b5346": {
     "views": [
      {
       "cell_index": 22
      }
     ]
    },
    "aae02ad19aba49a3b80aa2c3003e238a": {
     "views": [
      {
       "cell_index": 22
      }
     ]
    },
    "abd5c51c7046489587b0d4b6ece9bfe6": {
     "views": [
      {
       "cell_index": 22
      }
     ]
    },
    "aeb50da6be3546219ebc1873e4cbe4bb": {
     "views": [
      {
       "cell_index": 22
      }
     ]
    },
    "aef120b347c042c7a8dc3ec43226e9fc": {
     "views": [
      {
       "cell_index": 22
      }
     ]
    },
    "af7ed7f10c424737bb461b9144dbebe9": {
     "views": [
      {
       "cell_index": 22
      }
     ]
    },
    "b23b6972a5a34a56a4f1cc9c9afa6d0f": {
     "views": [
      {
       "cell_index": 22
      }
     ]
    },
    "b30a94e74b7648be9960e875cd827ce5": {
     "views": [
      {
       "cell_index": 22
      }
     ]
    },
    "b31e5cf833f0413c8373451fe71ee8a6": {
     "views": [
      {
       "cell_index": 22
      }
     ]
    },
    "b449a1f372a84244b1b0082b7ea13ad9": {
     "views": [
      {
       "cell_index": 22
      }
     ]
    },
    "b5544a14071f4488896546206a4bf54c": {
     "views": [
      {
       "cell_index": 22
      }
     ]
    },
    "b56c60a56ee444b8b87acec4861080c4": {
     "views": [
      {
       "cell_index": 22
      }
     ]
    },
    "b6b2ebf0cabe4e1a93c2c21f3ec2d010": {
     "views": [
      {
       "cell_index": 22
      }
     ]
    },
    "b9de61717c944f9989f3770ef20db265": {
     "views": [
      {
       "cell_index": 22
      }
     ]
    },
    "bb285bb97dd8409781cfe8b3f6e109c8": {
     "views": [
      {
       "cell_index": 22
      }
     ]
    },
    "c04c78ef7ef54d19a16cdd1096469294": {
     "views": [
      {
       "cell_index": 22
      }
     ]
    },
    "c14be81966de4640b464e3e0e6fc5178": {
     "views": [
      {
       "cell_index": 22
      }
     ]
    },
    "c5591d1445aa4140bce20fae41d5ef27": {
     "views": [
      {
       "cell_index": 22
      }
     ]
    },
    "c5ce9d882ebb4f499e31bc384db6f647": {
     "views": [
      {
       "cell_index": 22
      }
     ]
    },
    "c620e31928aa48d9b075fd2114589073": {
     "views": [
      {
       "cell_index": 22
      }
     ]
    },
    "c906049142be4057b97761341d63f11e": {
     "views": [
      {
       "cell_index": 22
      }
     ]
    },
    "ca08ebbd678441fdae652dc279777eb9": {
     "views": [
      {
       "cell_index": 22
      }
     ]
    },
    "caca616be0a84b82b9bbe4d8e8cc35c5": {
     "views": [
      {
       "cell_index": 22
      }
     ]
    },
    "cb95da1fb61b44cf99c4618141f46741": {
     "views": [
      {
       "cell_index": 18
      }
     ]
    },
    "cb9773bfe86a4f0f914684af16957bbe": {
     "views": [
      {
       "cell_index": 22
      }
     ]
    },
    "cdd77ff9b0de4b2387d6155410bb0dcf": {
     "views": [
      {
       "cell_index": 22
      }
     ]
    },
    "ced96f78d2074105a9f560655293e2c0": {
     "views": [
      {
       "cell_index": 22
      }
     ]
    },
    "cfa0bc1eb26b4d049a9b79d9a771a5ee": {
     "views": [
      {
       "cell_index": 22
      }
     ]
    },
    "d00b0aa2612c4d078c3b08d8ef92adee": {
     "views": [
      {
       "cell_index": 22
      }
     ]
    },
    "d1795facd7f543039ff29e990bd9e751": {
     "views": [
      {
       "cell_index": 22
      }
     ]
    },
    "d19f7a2cf8a049ea9229a3f23e0b7f5c": {
     "views": [
      {
       "cell_index": 22
      }
     ]
    },
    "d244691745894a4cb85e37139ed1a03a": {
     "views": [
      {
       "cell_index": 22
      }
     ]
    },
    "d45f6f3626584dbf8b228b9cbae2cd44": {
     "views": [
      {
       "cell_index": 22
      }
     ]
    },
    "d46055720ffe45ea953bad679e5cbfb9": {
     "views": [
      {
       "cell_index": 22
      }
     ]
    },
    "d58d62b953d94ef9941da81857d3de5a": {
     "views": [
      {
       "cell_index": 22
      }
     ]
    },
    "d6ab7e07dde74826b66cfbaa5e7cca00": {
     "views": [
      {
       "cell_index": 22
      }
     ]
    },
    "d787641f7a614ade92f17a8ecf4375b0": {
     "views": [
      {
       "cell_index": 22
      }
     ]
    },
    "d812d1e0bbd74870976741e68f112346": {
     "views": [
      {
       "cell_index": 22
      }
     ]
    },
    "dc59aac8c6f546a38f62898ba1481c1a": {
     "views": [
      {
       "cell_index": 22
      }
     ]
    },
    "e005eca6f0cb4bfe9927751a5caed506": {
     "views": [
      {
       "cell_index": 22
      }
     ]
    },
    "e1486d464cb84193a9e31933a4e45226": {
     "views": [
      {
       "cell_index": 22
      }
     ]
    },
    "e1d4833b66724fde93de6b535b4f83b9": {
     "views": [
      {
       "cell_index": 22
      }
     ]
    },
    "e34649a7f5194201b1b248f1770a874d": {
     "views": [
      {
       "cell_index": 22
      }
     ]
    },
    "e4e212c0b9e54639be673dcc993feb38": {
     "views": [
      {
       "cell_index": 22
      }
     ]
    },
    "e545a787f54344418dcc26b92954899a": {
     "views": [
      {
       "cell_index": 22
      }
     ]
    },
    "e5c4d594a52141529a1225ba84ed431c": {
     "views": [
      {
       "cell_index": 22
      }
     ]
    },
    "e662a857e1534dd598c4f5e950d78809": {
     "views": [
      {
       "cell_index": 22
      }
     ]
    },
    "e6913bd7259142fa8f4e8f8bda0f981b": {
     "views": [
      {
       "cell_index": 22
      }
     ]
    },
    "e714742f6ede4ead9123d1df7cb7c00a": {
     "views": [
      {
       "cell_index": 22
      }
     ]
    },
    "e91c676cf810428fbba6e528864204ed": {
     "views": [
      {
       "cell_index": 22
      }
     ]
    },
    "eea9b1b6b4d741afbeeaa7c3231331d0": {
     "views": [
      {
       "cell_index": 22
      }
     ]
    },
    "ef69a08ae3d94f9eb064c3f2c6cf8a10": {
     "views": [
      {
       "cell_index": 22
      }
     ]
    },
    "f13b5d194c614de594363f989f69219a": {
     "views": [
      {
       "cell_index": 22
      }
     ]
    },
    "f16d41bf977b4d7984d5d3695b992318": {
     "views": [
      {
       "cell_index": 22
      }
     ]
    },
    "f50da94c4b9a483d889a58bf7975f391": {
     "views": [
      {
       "cell_index": 22
      }
     ]
    },
    "f613e2aa0ebb4ab4b3b5ef3ffb87ac71": {
     "views": [
      {
       "cell_index": 22
      }
     ]
    },
    "f723b2e6131148f89ea0764d0eb37fcf": {
     "views": [
      {
       "cell_index": 22
      }
     ]
    },
    "f864bde1eb67483a91c5158783477417": {
     "views": [
      {
       "cell_index": 22
      }
     ]
    },
    "f96ae4dc1bd54beaa6621b30e6133f0f": {
     "views": [
      {
       "cell_index": 22
      }
     ]
    },
    "ff5b3e14cbfa4a4fa5cd14922dfb6def": {
     "views": [
      {
       "cell_index": 22
      }
     ]
    }
   },
   "version": "1.2.0"
  }
 },
 "nbformat": 4,
 "nbformat_minor": 2
}
