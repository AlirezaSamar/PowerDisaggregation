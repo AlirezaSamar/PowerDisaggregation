{
 "cells": [
  {
   "cell_type": "code",
   "execution_count": 111,
   "metadata": {},
   "outputs": [],
   "source": [
    "import json\n",
    "import datetime\n",
    "import requests\n",
    "import time\n",
    "import matplotlib\n",
    "matplotlib.use('nbagg')\n",
    "%matplotlib inline\n",
    "\n",
    "\n",
    "from ipywidgets import widgets\n",
    "from IPython import display\n",
    "import math\n",
    "import numpy as np\n",
    "import matplotlib.pyplot as plt\n",
    "\n",
    "import math\n",
    "import numpy as np\n",
    "\n",
    "from matplotlib.ticker import FormatStrFormatter"
   ]
  },
  {
   "cell_type": "markdown",
   "metadata": {},
   "source": [
    "### Read User data"
   ]
  },
  {
   "cell_type": "code",
   "execution_count": 143,
   "metadata": {},
   "outputs": [
    {
     "name": "stdout",
     "output_type": "stream",
     "text": [
      "2017-05-30 07:56:51 -- 2017-05-30 08:29:23\n",
      "1.496145411e+12 -- 1.496147363e+12\n"
     ]
    },
    {
     "data": {
      "text/plain": [
       "[u'Kitchen cabinet lights',\n",
       " u'Master Closet Leon',\n",
       " u'Master Bedroom Lights',\n",
       " u'Katya Bathroom Light',\n",
       " u'Masha Desk Light']"
      ]
     },
     "execution_count": 143,
     "metadata": {},
     "output_type": "execute_result"
    }
   ],
   "source": [
    "file = open(\"Latest Data.txt\", \"r\") #Currently just copy pasted from Database to .txt\n",
    "json_data = json.load(file)\n",
    "appliances_data = json_data['timestamps']\n",
    "file.close()\n",
    "times = []\n",
    "x = 0\n",
    "cutOffTime = 1496000000000\n",
    "smallest = 1000000000000000000000\n",
    "tst = \"\"\n",
    "for value in appliances_data:\n",
    "    for val in appliances_data[value]:\n",
    "        if val[0] > cutOffTime:\n",
    "            times.append(val[0])\n",
    "                        \n",
    "times.sort()\n",
    "start = times[0] #records first and last timestamp inputted\n",
    "end = times[-1]\n",
    "\n",
    "s_ts = int(round(start/1000))\n",
    "e_ts = int(round(end/1000))\n",
    "s_dt = datetime.datetime.fromtimestamp(int(s_ts)).strftime('%Y-%m-%d %H:%M:%S')\n",
    "e_dt = datetime.datetime.fromtimestamp(int(e_ts)).strftime('%Y-%m-%d %H:%M:%S')\n",
    "print (s_dt, '--' ,e_dt)\n",
    "s_timestamp = time.mktime(datetime.datetime.strptime(s_dt, \"%Y-%m-%d %H:%M:%S\").timetuple())*1000\n",
    "e_timestamp = time.mktime(datetime.datetime.strptime(e_dt, \"%Y-%m-%d %H:%M:%S\").timetuple()) *1000\n",
    "print (s_timestamp , '--', e_timestamp)\n",
    "\n",
    "appliances_data.keys()[0:5]"
   ]
  },
  {
   "cell_type": "markdown",
   "metadata": {},
   "source": [
    "### eyedro API reading"
   ]
  },
  {
   "cell_type": "code",
   "execution_count": 144,
   "metadata": {},
   "outputs": [
    {
     "name": "stdout",
     "output_type": "stream",
     "text": [
      "https://api.eyedro.com/e2?UserKey=vostro3ryV2x4jhewPhLN6UQRtxZ35vXqGamTauq&Cmd=VostroEnergy.GetData&DateStartSecUtc=1496145411&DateStopSecUtc=1496147373\n"
     ]
    },
    {
     "data": {
      "text/plain": [
       "[[1496145411, 1084],\n",
       " [1496145585, 556],\n",
       " [1496145629, 556],\n",
       " [1496145700, 809],\n",
       " [1496145929, 809]]"
      ]
     },
     "execution_count": 144,
     "metadata": {},
     "output_type": "execute_result"
    }
   ],
   "source": [
    "def httpGet(startTime, endTime): #Pulling data from API\n",
    "    f = open('eyedro_cred.txt', 'r')\n",
    "    baseURL = f.readline()[:-1]\n",
    "    UserKey = f.readline()\n",
    "    cmd = \"VostroEnergy.GetData\"\n",
    "    fullURL = str(baseURL) + \"UserKey=\" + str(UserKey) + \"&Cmd=\" + str(cmd) + \"&DateStartSecUtc=\" + str(startTime) + \"&DateStopSecUtc=\" + str(endTime)\n",
    "    print(fullURL)\n",
    "    response = requests.get(fullURL).json()\n",
    "    return response\n",
    "\n",
    "apiJSON = httpGet(s_ts,e_ts + 10)\n",
    "\n",
    "\n",
    "apiList = apiJSON[\"Data\"][\"004006EE\"]\n",
    "apiList[0:5]"
   ]
  },
  {
   "cell_type": "code",
   "execution_count": 164,
   "metadata": {},
   "outputs": [
    {
     "data": {
      "text/plain": [
       "DatetimeIndex(['2017-05-30 07:56:51', '2017-05-30 07:56:52',\n",
       "               '2017-05-30 07:56:53', '2017-05-30 07:56:54',\n",
       "               '2017-05-30 07:56:55', '2017-05-30 07:56:56',\n",
       "               '2017-05-30 07:56:57', '2017-05-30 07:56:58',\n",
       "               '2017-05-30 07:56:59', '2017-05-30 07:57:00'],\n",
       "              dtype='datetime64[ns]', freq='S')"
      ]
     },
     "execution_count": 164,
     "metadata": {},
     "output_type": "execute_result"
    }
   ],
   "source": [
    "rng = pd.date_range(s_dt, periods=e_ts - s_ts-1, freq='s')\n",
    "rng[0:10]"
   ]
  },
  {
   "cell_type": "markdown",
   "metadata": {},
   "source": [
    "## write to CSV"
   ]
  },
  {
   "cell_type": "code",
   "execution_count": 5,
   "metadata": {
    "collapsed": true
   },
   "outputs": [],
   "source": [
    "# apiFile = open(\"apiRawData.csv\",\"w\") #Writes Data from API between start and stop times\n",
    "# apiFile.write(\"Timestamp,Power,\\n\")\n",
    "# for value in apiList:\n",
    "# \tapiFile.write(str(value[0]) + \",\" + str(value[1]) + \",\\n\")\n",
    "# apiFile.close()\n",
    "\n",
    "# usrFile = open(\"usrRawData.csv\",\"w\")\n",
    "# usrFile.write(\"Appliance,Timestamp,State(On/Off),\\n\")\n",
    "# for value in timestamps:\n",
    "#     for val in timestamps[value]:\n",
    "#         usrFile.write(str(value) + \",\" + str(val[0]) + \",\" + str(val[1]) + \",\\n\")\n",
    "# usrFile.close()"
   ]
  },
  {
   "cell_type": "markdown",
   "metadata": {},
   "source": [
    "### reformatting for comparison with API data"
   ]
  },
  {
   "cell_type": "code",
   "execution_count": 6,
   "metadata": {},
   "outputs": [
    {
     "data": {
      "text/plain": [
       "[[u'Master Closet Leon', 1496145411199, 1],\n",
       " [u'Master Bath Vanity', 1496145702721, 1],\n",
       " [u'Master Bath Vanity', 1496146081591, 0],\n",
       " [u'Master Bath Vanity', 1496146084760, 0],\n",
       " [u'Master Closet Leon', 1496146113720, 0],\n",
       " [u'Master Closet Leon', 1496146134735, 1],\n",
       " [u'Master Closet Leon', 1496146249349, 0],\n",
       " [u'Back yard lights', 1496146360005, 1],\n",
       " [u'Back yard lights', 1496146372287, 0],\n",
       " [u'Back yard lights', 1496146405409, 1]]"
      ]
     },
     "execution_count": 6,
     "metadata": {},
     "output_type": "execute_result"
    }
   ],
   "source": [
    "reformattedUsrList = []\n",
    "testList = [\"Back yard lights\", \"Garage Lights\", \"Master Bath Vanity\", \"Toaster\", \"Kitchen Hood\"]\n",
    "for value in appliances_data:\n",
    "    for val in appliances_data[value]:\n",
    "        if val[0] > cutOffTime:\n",
    "            times.append(val[0])\n",
    "            tempVal = []\n",
    "            tempVal.append(value)\n",
    "            tempVal += val\n",
    "            reformattedUsrList.append(tempVal)\n",
    "            \n",
    "reformattedUsrList.sort(key=lambda x: x[1])\n",
    "reformattedUsrList[0:10]"
   ]
  },
  {
   "cell_type": "markdown",
   "metadata": {},
   "source": [
    "### Matching the API data and User clicks"
   ]
  },
  {
   "cell_type": "code",
   "execution_count": 7,
   "metadata": {},
   "outputs": [
    {
     "name": "stdout",
     "output_type": "stream",
     "text": [
      "('Matches:', 30)\n",
      "('Match precision: +/-', 5, 'seconds')\n"
     ]
    },
    {
     "data": {
      "text/plain": [
       "[[1496146977.0, 1, 1496146971, 2541], [1496146977.0, 1, 1496146974, 2493]]"
      ]
     },
     "execution_count": 7,
     "metadata": {},
     "output_type": "execute_result"
    }
   ],
   "source": [
    "matches = {}\n",
    "nMatches = 0\n",
    "precision = 5 #Careful raising this too high.\n",
    "for usrVal in reformattedUsrList:\n",
    "    try:\n",
    "        matches[usrVal[0]]\n",
    "    except KeyError:\n",
    "        matches[usrVal[0]] = []\n",
    "    for apiVal in apiList:\n",
    "        if abs(usrVal[1]/1000 - (apiVal[0] + 3)) < precision: #The \"+3\" Is because I noticed the api data tended to be off by about 3 seconds on average\n",
    "            match = [round(usrVal[1]/1000), usrVal[2], apiVal[0], apiVal[1]] #inner Data is [usr-ts, on/off, api-ts, power]\n",
    "            matches[usrVal[0]].append(match)\n",
    "            nMatches += 1\n",
    "            \n",
    "\"\"\"for value in matches:\n",
    "    if matches[value] != []:\n",
    "        print(value, \": \", matches[value])\"\"\"\n",
    "\n",
    "print(\"Matches:\",nMatches)\n",
    "print(\"Match precision: +/-\", precision, \"seconds\")\n",
    "\n",
    "matches['Toaster']"
   ]
  },
  {
   "cell_type": "markdown",
   "metadata": {},
   "source": [
    "### Presenting matches"
   ]
  },
  {
   "cell_type": "code",
   "execution_count": 8,
   "metadata": {
    "scrolled": true
   },
   "outputs": [
    {
     "name": "stdout",
     "output_type": "stream",
     "text": [
      "Name: 'Master Closet Leon', usrTS: 0.0, apiTS: 1496145411, On/Off: 1, Change: -224 Watts, Wattage: 1084\n",
      "Name: 'Toaster', usrTS: 1566.0, apiTS: 1496146971, On/Off: 1, Change: 931 Watts, Wattage: 2541\n",
      "Name: 'Toaster', usrTS: 1566.0, apiTS: 1496146974, On/Off: 1, Change: -48 Watts, Wattage: 2493\n",
      "Name: 'Back yard lights', usrTS: 949.0, apiTS: 1496146358, On/Off: 1, Change: 340 Watts, Wattage: 788\n",
      "Name: 'Back yard lights', usrTS: 961.0, apiTS: 1496146369, On/Off: 0, Change: -340 Watts, Wattage: 448\n",
      "Name: 'Back yard lights', usrTS: 994.0, apiTS: 1496146403, On/Off: 1, Change: 345 Watts, Wattage: 793\n",
      "Name: 'Back yard lights', usrTS: 1013.0, apiTS: 1496146420, On/Off: 0, Change: -345 Watts, Wattage: 448\n",
      "Name: 'Back yard lights', usrTS: 1022.0, apiTS: 1496146429, On/Off: 1, Change: 338 Watts, Wattage: 786\n",
      "Name: 'Back yard lights', usrTS: 1038.0, apiTS: 1496146445, On/Off: 0, Change: -339 Watts, Wattage: 447\n",
      "Name: 'Back yard lights', usrTS: 1360.0, apiTS: 1496146771, On/Off: 0, Change: 340 Watts, Wattage: 670\n",
      "Name: 'Back yard lights', usrTS: 1364.0, apiTS: 1496146771, On/Off: 1, Change: 340 Watts, Wattage: 670\n",
      "Name: 'Back yard lights', usrTS: 1376.0, apiTS: 1496146784, On/Off: 0, Change: -340 Watts, Wattage: 330\n",
      "Name: 'Back yard lights', usrTS: 1383.0, apiTS: 1496146789, On/Off: 1, Change: 337 Watts, Wattage: 667\n",
      "Name: 'Back yard lights', usrTS: 1405.0, apiTS: 1496146812, On/Off: 0, Change: -336 Watts, Wattage: 331\n",
      "Name: 'Back yard lights', usrTS: 1413.0, apiTS: 1496146820, On/Off: 1, Change: 341 Watts, Wattage: 672\n",
      "Name: 'Back yard lights', usrTS: 1453.0, apiTS: 1496146859, On/Off: 0, Change: -294 Watts, Wattage: 378\n",
      "Name: 'Back yard lights', usrTS: 1453.0, apiTS: 1496146860, On/Off: 0, Change: -48 Watts, Wattage: 330\n",
      "Name: 'Master Bath Vanity', usrTS: 291.0, apiTS: 1496145700, On/Off: 1, Change: 253 Watts, Wattage: 809\n",
      "Name: 'Master Bath Vanity', usrTS: 670.0, apiTS: 1496146077, On/Off: 0, Change: -264 Watts, Wattage: 1262\n",
      "Name: 'Master Bath Vanity', usrTS: 673.0, apiTS: 1496146077, On/Off: 0, Change: -264 Watts, Wattage: 1262\n",
      "Name: 'Garage Lights', usrTS: 1179.0, apiTS: 1496146586, On/Off: 1, Change: 52 Watts, Wattage: 444\n",
      "Name: 'Garage Lights', usrTS: 1190.0, apiTS: 1496146598, On/Off: 0, Change: -56 Watts, Wattage: 388\n",
      "Name: 'Garage Lights', usrTS: 1202.0, apiTS: 1496146609, On/Off: 1, Change: 56 Watts, Wattage: 444\n",
      "Name: 'Garage Lights', usrTS: 1232.0, apiTS: 1496146639, On/Off: 0, Change: -56 Watts, Wattage: 388\n",
      "Name: 'Garage Lights', usrTS: 1255.0, apiTS: 1496146663, On/Off: 1, Change: 58 Watts, Wattage: 446\n",
      "Name: 'Garage Lights', usrTS: 1305.0, apiTS: 1496146713, On/Off: 1, Change: 53 Watts, Wattage: 441\n",
      "Name: 'Garage Lights', usrTS: 1325.0, apiTS: 1496146732, On/Off: 0, Change: -53 Watts, Wattage: 388\n",
      "Name: 'Kitchen Hood', usrTS: 1908.0, apiTS: 1496147316, On/Off: 0, Change: -458 Watts, Wattage: 858\n",
      "Name: 'Kitchen Hood', usrTS: 1921.0, apiTS: 1496147325, On/Off: 1, Change: 451 Watts, Wattage: 1309\n",
      "Name: 'Kitchen Hood', usrTS: 1951.0, apiTS: 1496147357, On/Off: 0, Change: -451 Watts, Wattage: 858\n"
     ]
    }
   ],
   "source": [
    "#Finding the actual wattage change for each match found\n",
    "#This cell should only be run after the previous cell, otherwise a lot of redundant data will be appended each time\n",
    "apiTimestamps = []\n",
    "for value in apiList:\n",
    "    apiTimestamps.append(value[0])\n",
    "for appliance in matches:\n",
    "    for value in matches[appliance]:\n",
    "        ind = apiTimestamps.index(value[2])\n",
    "        wChange = apiList[ind][1] - apiList[ind-1][1]\n",
    "        value += [wChange]\n",
    "        value += [apiList[ind][1]]\n",
    "        \n",
    "#Verbose output of matches\n",
    "for appliance in matches:\n",
    "    for value in matches[appliance]:\n",
    "        print(\"Name: '\" + str(appliance) + \"',\" + \" usrTS: \" + str((value[0] - start/1000)) + \", apiTS: \" + str(value[2]) + \", On/Off: \" + str(value[1]) + \", Change: \" + str(value[4]) + \" Watts, \" + \"Wattage: \" + str(value[5]))"
   ]
  },
  {
   "cell_type": "markdown",
   "metadata": {},
   "source": [
    "### Outputting matches{} to a CSV"
   ]
  },
  {
   "cell_type": "code",
   "execution_count": 9,
   "metadata": {
    "collapsed": true
   },
   "outputs": [],
   "source": [
    "\n",
    "# matchFile = open(\"matches.csv\",\"w\")\n",
    "\n",
    "# matchFile.write(\"Appliance Name,User Timestamp,API Timestamp,State (On/Off),Power Change(W),\\n\")\n",
    "# for appliance in matches:\n",
    "#     for value in matches[appliance]:\n",
    "#         matchFile.write(str(appliance) + \",\" + str(value[0]) + \",\" + str(value[2]) + \",\" + str(value[1]) + \",\" + str(value[4]) + \"\\n\")\n",
    "        \n",
    "# matchFile.close()"
   ]
  },
  {
   "cell_type": "markdown",
   "metadata": {},
   "source": [
    "### Visualizing ApiList"
   ]
  },
  {
   "cell_type": "code",
   "execution_count": 10,
   "metadata": {
    "scrolled": false
   },
   "outputs": [
    {
     "data": {
      "image/png": "[encoded data removed]",
      "text/plain": [
       "<matplotlib.figure.Figure at 0x115bec810>"
      ]
     },
     "metadata": {},
     "output_type": "display_data"
    }
   ],
   "source": [
    "fig = plt.figure(figsize = (20,10))\n",
    "\n",
    "x = []\n",
    "y = []\n",
    "\n",
    "start = apiList[0][0]\n",
    "end = apiList[-1][0]\n",
    "\n",
    "cPos = 0\n",
    "lastY = apiList[0][1]\n",
    "apiTS = 0\n",
    "    \n",
    "for time in range(int(math.floor(end - start))):\n",
    "    if apiTS == time:\n",
    "        lastY = apiList[cPos][1]\n",
    "        cPos += 1\n",
    "        apiTS = math.floor(apiList[cPos][0] - start)\n",
    "        y.append(lastY)\n",
    "        x.append(time)\n",
    "    else:\n",
    "        y.append(lastY)\n",
    "        x.append(time)\n",
    "\n",
    "plt.plot(x,y)\n",
    "\n",
    "fullVals = []\n",
    "\n",
    "for i in range((reformattedUsrList[-1][1] - reformattedUsrList[0][1])/1000):\n",
    "    fullVals.append([x[i],y[i]])"
   ]
  },
  {
   "cell_type": "code",
   "execution_count": null,
   "metadata": {
    "collapsed": true
   },
   "outputs": [],
   "source": [
    "len(apiTimestamps)"
   ]
  },
  {
   "cell_type": "code",
   "execution_count": 109,
   "metadata": {},
   "outputs": [
    {
     "data": {
      "text/plain": [
       "1951"
      ]
     },
     "execution_count": 109,
     "metadata": {},
     "output_type": "execute_result"
    }
   ],
   "source": [
    "len(goodFull)"
   ]
  },
  {
   "cell_type": "markdown",
   "metadata": {},
   "source": [
    "### Visualization of appliance range"
   ]
  },
  {
   "cell_type": "code",
   "execution_count": 11,
   "metadata": {},
   "outputs": [
    {
     "name": "stderr",
     "output_type": "stream",
     "text": [
      "Widget Javascript not detected.  It may not be installed or enabled properly.\n"
     ]
    },
    {
     "data": {
      "application/vnd.jupyter.widget-view+json": {
       "model_id": "62d0a2b46e4e4f2594db6dcaa7287ab8"
      }
     },
     "metadata": {},
     "output_type": "display_data"
    },
    {
     "name": "stderr",
     "output_type": "stream",
     "text": [
      "Widget Javascript not detected.  It may not be installed or enabled properly.\n"
     ]
    },
    {
     "data": {
      "application/vnd.jupyter.widget-view+json": {
       "model_id": "50430575927640be8304c9c86b3e2d55"
      }
     },
     "metadata": {},
     "output_type": "display_data"
    },
    {
     "name": "stderr",
     "output_type": "stream",
     "text": [
      "Widget Javascript not detected.  It may not be installed or enabled properly.\n"
     ]
    },
    {
     "data": {
      "application/vnd.jupyter.widget-view+json": {
       "model_id": "b42fc40a757348c1b2e8d6ee7caa1d39"
      }
     },
     "metadata": {},
     "output_type": "display_data"
    }
   ],
   "source": [
    "\n",
    "usrData = reformattedUsrList\n",
    "sorted(usrData, key=lambda x: x[0])\n",
    "global fullRange\n",
    "global counter\n",
    "global stateLength\n",
    "stateLength = 0\n",
    "counter = 0\n",
    "fullRange = True\n",
    "\n",
    "\n",
    "fig_size = plt.rcParams[\"figure.figsize\"]\n",
    "\n",
    "tList = []\n",
    "\n",
    "applianceList = []\n",
    "for value in usrData:\n",
    "    if value[0] not in applianceList:\n",
    "        applianceList.append(value[0])\n",
    "\n",
    "applianceList.sort()     \n",
    "\n",
    "#Initializing and configuring the widgets in the output\n",
    "w = widgets.Dropdown(\n",
    "    options = applianceList,\n",
    "    value = applianceList[0],\n",
    "    description = \"Appliances:\"\n",
    ")\n",
    "\n",
    "b = widgets.Button(description='Update Graph')\n",
    "b2 = widgets.Button(description='Toggle Full Range')\n",
    "\n",
    "display.display(w)\n",
    "display.display(b)\n",
    "display.display(b2)\n",
    "\n",
    "x2 = []\n",
    "y2 = []\n",
    "\n",
    "start = apiList[0][0]\n",
    "end = apiList[-1][0]\n",
    "\n",
    "cPos = 0\n",
    "lastY = apiList[0][1]\n",
    "apiTS = 0\n",
    "\n",
    "#Generating x and y data for the graphs below    \n",
    "for time in range(int(math.floor(end - start))):\n",
    "    if apiTS == time:\n",
    "        lastY = apiList[cPos][1]\n",
    "        cPos += 1\n",
    "        apiTS = math.floor(apiList[cPos][0] - start)\n",
    "        y2.append(lastY)\n",
    "        x2.append(time)\n",
    "    else:\n",
    "        y2.append(lastY)\n",
    "        x2.append(time)\n",
    "        \n",
    "        \n",
    "#Changing the graph's color depending on if the appliance was on or off\n",
    "def color(onOff, adjustedTList, ts):\n",
    "    newL = []\n",
    "    for i in range(len(onOff)): #New list holding On/Off transitions as well as corresponding timestamps\n",
    "        newL.append([onOff[i], adjustedTList])\n",
    "    temp = []\n",
    "    for value in adjustedTList:\n",
    "        temp.append([value,0])\n",
    "    temp.append([ts, 1]) \n",
    "    temp2 = []\n",
    "    #Ineficient algorithm which sorts an array by the 2nd index.\n",
    "    #Made because I was having issues with the built in algorithm at the time\n",
    "    for i in range(len(temp)): \n",
    "        placed = False\n",
    "        if len(temp2) == 0:\n",
    "            temp2.append([temp[i][0],temp[i][1]])\n",
    "        else:\n",
    "            for j in range(len(temp2)):\n",
    "                if temp[i][0] > temp2[j][0]:\n",
    "                    if j == len(temp2) - 1:\n",
    "                        temp2.insert(j + 1, [temp[i][0],temp[i][1]])\n",
    "                elif temp[i][0] < temp2[j][0]:\n",
    "                    if placed:\n",
    "                        None\n",
    "                    else:   \n",
    "                        placed = True\n",
    "                        temp2.insert(j, [temp[i][0],temp[i][1]])\n",
    "                elif temp[i][0] == temp2[j][0]:\n",
    "                    if placed:\n",
    "                        None\n",
    "                    else:\n",
    "                        placed = True\n",
    "                        temp2.insert(j, [temp[i][0],temp[i][1]])\n",
    "    temp = temp2\n",
    "    index = 0\n",
    "    for i in range(len(temp)):\n",
    "        if temp[i][1] == 1:\n",
    "            index = i\n",
    "    if index == 0: #If the current index is 0, the appliance is not currently on. Set the graph to red\n",
    "        return \"red\"\n",
    "    elif index == len(newL): #if the index is equal to the length of onOff then it's the last value; assume he forgot to turn off\n",
    "        return \"red\"\n",
    "    else:\n",
    "        if newL[index-1][0] == 0:\n",
    "            return \"red\"\n",
    "        else:\n",
    "            return \"green\"\n",
    "        \n",
    "#Function called whenever \"Update Graph is pressed. Changes the colors of the graph to represent the\n",
    "#new appliance of interest.\n",
    "def onButtonClick(b):\n",
    "    global stateLength\n",
    "    tList = []\n",
    "    adjustedTList = []\n",
    "    onOff = []\n",
    "    tempL = []\n",
    "    for value in usrData:\n",
    "        if value[0].lower() == w.value.lower():\n",
    "            tempL.append(value)\n",
    "    sorted(tempL, key=lambda x: x[1])\n",
    "    for value in tempL:\n",
    "        tList.append(value[1])\n",
    "        onOff.append(value[2])\n",
    "        \n",
    "    for value in tList:\n",
    "        tVal = (value/1000 - start)\n",
    "        adjustedTList.append(tVal)\n",
    "    \n",
    "    adjustedTList.sort()\n",
    "    previousVal = 0\n",
    "    stateLength = len(onOff)\n",
    "    xi = adjustedTList[0]\n",
    "    xf = adjustedTList[-1]\n",
    "    r = xf - xi\n",
    "    fig_size[0],fig_size[1] = 20,10\n",
    "    for value in adjustedTList:\n",
    "        plt.plot(x2[int(previousVal):int(value + 1)], y2[int(previousVal):value + 1], color = color(onOff, adjustedTList, value))\n",
    "        logs = (onOff, adjustedTList, value)\n",
    "        display.clear_output(wait=True)\n",
    "        previousVal = value\n",
    "    plt.plot(x2[int(adjustedTList[-1]):-1], y2[int(adjustedTList[-1]):-1], color = \"red\")\n",
    "    fig_size[0],fig_size[1] = 20,10\n",
    "    if fullRange:\n",
    "        None\n",
    "    else:   \n",
    "        plt.axis([xi - 0.2 * r, xf + 0.2 * r,0,4000])\n",
    "    plt.show()\n",
    "    \n",
    "#Changes the range of the graph to zoom in on the time period where the chosen appliance is turned on and off\n",
    "def toggleRange(b2):\n",
    "    global fullRange\n",
    "    if fullRange:\n",
    "        fullRange = False\n",
    "    else:\n",
    "        fullRange = True\n",
    "    onButtonClick(b)\n",
    "        \n",
    "b.on_click(onButtonClick)\n",
    "b2.on_click(toggleRange)"
   ]
  },
  {
   "cell_type": "markdown",
   "metadata": {},
   "source": [
    "### Visualizing user timestamps with API graph"
   ]
  },
  {
   "cell_type": "code",
   "execution_count": 12,
   "metadata": {
    "scrolled": false
   },
   "outputs": [
    {
     "name": "stderr",
     "output_type": "stream",
     "text": [
      "Widget Javascript not detected.  It may not be installed or enabled properly.\n"
     ]
    },
    {
     "data": {
      "application/vnd.jupyter.widget-view+json": {
       "model_id": "20f69753ff0145a6826e6efc318e28c1"
      }
     },
     "metadata": {},
     "output_type": "display_data"
    }
   ],
   "source": [
    "text = widgets.Text()\n",
    "\n",
    "x = []\n",
    "y = []\n",
    "\n",
    "cPos = 0\n",
    "lastY = apiList[0][1]\n",
    "apiTS = 0\n",
    "\n",
    "#Sorting and reformatting the data once again for ease of processing\n",
    "temp = []\n",
    "for value in reformattedUsrList:\n",
    "    temp.append(value[1])\n",
    "temp.sort()\n",
    "reformattedAgain = []\n",
    "initialTS = temp[0]\n",
    "for value in reformattedUsrList:\n",
    "    #The \"-5\" on the following line is a simple fix for the slightly misplaced points\n",
    "    reformattedAgain.append([value[0],(int(value[1])-initialTS)/1000, value[2]])\n",
    "reformattedAgain.sort(key=lambda x: x[1])\n",
    "\n",
    "start = apiList[0][0]\n",
    "end = apiList[-1][0]\n",
    "\n",
    "t = []\n",
    "\n",
    "#Generating x and y axis data for the output graph\n",
    "for time in range(int(math.floor(end - start))):\n",
    "    if apiTS == time:\n",
    "        lastY = apiList[cPos][1]\n",
    "        t.append([apiList[cPos][0] - start, apiList[cPos][1]])\n",
    "        cPos += 1\n",
    "        apiTS = math.floor(apiList[cPos][0] - start)\n",
    "        y.append(lastY)\n",
    "        x.append(time)\n",
    "    else:\n",
    "        y.append(lastY)\n",
    "        x.append(time)\n",
    "        \n",
    "#Generates a graph of the selected range when the user enter's a range in the text box\n",
    "def handle_submit(sender):\n",
    "    val = text.value\n",
    "    nums = [int(n) for n in val.split(',')]\n",
    "    x1 = int(nums[0])\n",
    "    x2 = int(nums[1])\n",
    "    display.clear_output(wait=True)\n",
    "    newDomain = [x[int(nums[0]):int(nums[1])]]\n",
    "    newRange = [y[int(nums[0]):int(nums[1])]]\n",
    "    fig = plt.figure(figsize = (20,10))\n",
    "    ax = plt.subplot(111)\n",
    "    newXs = []\n",
    "    newYs = []\n",
    "    redXs = []\n",
    "    redYs = []\n",
    "    for value in reformattedAgain:\n",
    "        if value[1] < nums[1] and value[1] > nums[0]:\n",
    "            if value[2] == 1:\n",
    "                ax.annotate(str(value[0] + \" On\"), [int(value[1] - 6), y[value[1] - 6]], fontsize = 12, rotation = 90)\n",
    "                newXs.append(int(value[1] - 6))\n",
    "                newYs.append(int(y[value[1] - 6]))\n",
    "            if value[2] == 0:\n",
    "                redXs.append(int(value[1] - 6))\n",
    "                redYs.append(int(y[value[1] - 6]))\n",
    "    ax.scatter(newXs, newYs, color = 'green')\n",
    "    ax.scatter(redXs, redYs, color = 'red')\n",
    "    ax.plot(x[x1:x2], y[x1:x2])\n",
    "    plt.show()\n",
    "    \n",
    "#plt.plot(x,y)\n",
    "display.display(text)\n",
    "text.on_submit(handle_submit)"
   ]
  },
  {
   "cell_type": "markdown",
   "metadata": {},
   "source": [
    "### Zeroing Appliance Power Data"
   ]
  },
  {
   "cell_type": "code",
   "execution_count": 13,
   "metadata": {
    "scrolled": false
   },
   "outputs": [
    {
     "name": "stderr",
     "output_type": "stream",
     "text": [
      "Widget Javascript not detected.  It may not be installed or enabled properly.\n"
     ]
    },
    {
     "data": {
      "application/vnd.jupyter.widget-view+json": {
       "model_id": "5a6bf9c3fbb6446dbbd95bc51a5596f5"
      }
     },
     "metadata": {},
     "output_type": "display_data"
    },
    {
     "name": "stderr",
     "output_type": "stream",
     "text": [
      "Widget Javascript not detected.  It may not be installed or enabled properly.\n"
     ]
    },
    {
     "data": {
      "application/vnd.jupyter.widget-view+json": {
       "model_id": "469cf794f5b64bcca3023ad45969b58e"
      }
     },
     "metadata": {},
     "output_type": "display_data"
    }
   ],
   "source": [
    "%matplotlib inline\n",
    "\n",
    "import pickle\n",
    "from ipywidgets import widgets\n",
    "from IPython import display\n",
    "import math\n",
    "import numpy as np\n",
    "import matplotlib.pyplot as plt\n",
    "\n",
    "relevant = {\"Back yard lights\": [], \"Garage Lights\":[], \"Toaster\":[], \"Kitchen Hood\":[]}\n",
    "relevantGraphs = {}\n",
    "closestChange = []\n",
    "relevantAPI = []\n",
    "fullRelevantAPI = []\n",
    "perAppData = {}\n",
    "\n",
    "#Initializing the closestChange list, note the \"None\" values\n",
    "for value in reformattedAgain: #reformattedAgain has format: [[AppID, userTS, On/Off],[...]]\n",
    "    if str(value[0]) in relevant.keys():\n",
    "        relevant[str(value[0])].append([value[1],value[2]])\n",
    "        closestChange.append([value[1], None, value[2], None, str(value[0])]) #[[userTS, None, On/Off, None, AppID],]\n",
    "\n",
    "for v in relevant.keys():#initializing empty lists in for each key in relevantGraphs\n",
    "    relevantGraphs[v] = []\n",
    "    perAppData[v] = []\n",
    "    \n",
    "newS = closestChange[0][0] #this is the first UserTS\n",
    "newE = closestChange[-1][0] #this is the last UserTS\n",
    "\n",
    "#Seperating the api values which are relevant to the appliances of interest\n",
    "for value in apiList:\n",
    "    closest = 100\n",
    "    index = 0\n",
    "    adjV = (value[0] - apiList[0][0]) #adjusted API TS values, starting at TS1 = 0\n",
    "    if adjV > newS - 2 and adjV < newE:\n",
    "        relevantAPI.append([adjV,value[1]]) #relevant API only has values between the range of usr timestamps\n",
    "    fullRelevantAPI.append([adjV,value[1]])\n",
    "            \n",
    "#Matching user data with closest API timestamps\n",
    "for i in range(len(closestChange)):\n",
    "    closest = 100 #arbitrary starting value for closest, just has to be relatively high\n",
    "    index = 0\n",
    "    for j in range(len(relevantAPI)):\n",
    "        #if the new value being tried is closer than the previous closest, replace closest with it\n",
    "        if abs(relevantAPI[j][0] - closestChange[i][0]) < abs(closest - closestChange[i][0]):\n",
    "            index = j\n",
    "            closest = relevantAPI[j][0]\n",
    "    #make sure that the apiTS that is recognized as the closest happens before the userTS; this is the trend\n",
    "    while closest - closestChange[i][0] >= 0:\n",
    "        index -= 1\n",
    "        closest = relevantAPI[index][0]\n",
    "    newIndex = index\n",
    "    \n",
    "    closestChange[i][1] = closest\n",
    "    closestChange[i][3] = relevantAPI[index][1] #format: [[userTS, closestAPITS, On/Off, W Chng, AppID], [...]]\n",
    "    \n",
    "alsoClose = []\n",
    "    \n",
    "for value in closestChange: #contains the single closest value\n",
    "    for val in relevantAPI: #contains all of the API values\n",
    "        diff = val[0] - value[1]\n",
    "        if abs(diff) < 5 and diff != 0:\n",
    "            if val[0] not in alsoClose:\n",
    "                alsoClose.append([value[0], val[0], value[2], val[1], value[4]])\n",
    "                                \n",
    "closestChange += alsoClose\n",
    "closestChange = sorted(closestChange, key=lambda x: int(x[1]))\n",
    "                \n",
    "for value in perAppData.keys():\n",
    "    for val in closestChange:\n",
    "        if val[4] == value:\n",
    "            perAppData[value].append(val[0:-1])\n",
    "                                        \n",
    "start = 0\n",
    "end = reformattedAgain[-1][1]\n",
    "                \n",
    "apiTS = []\n",
    "apiW = []\n",
    "goodFull = []\n",
    "for value in apiList:\n",
    "    apiTS.append(value[0] - apiList[0][0])\n",
    "    apiW.append(value[1])\n",
    "    \n",
    "for t in range(newE):\n",
    "    if t in apiTS:\n",
    "        cv = apiW[apiTS.index(t)]\n",
    "    goodFull.append([t, cv])\n",
    "            \n",
    "#Generating a zeroed graph for the selected appliance\n",
    "for value in perAppData:\n",
    "    state = 0\n",
    "    apiInd = 0\n",
    "    ind = 0\n",
    "    cVal = 0\n",
    "    apiInd = 0\n",
    "    for i in range(len(relevantAPI)):\n",
    "        if relevantAPI[i][0] == perAppData[value][0][1]:\n",
    "            ts1 = relevantAPI[i-1][0]\n",
    "            apiInd = i\n",
    "            break\n",
    "    for t in range(end):\n",
    "        if ind < len(perAppData[value]) and state == 0:\n",
    "            if t == perAppData[value][ind][1]: #check if there is a wattage change at timestamp t\n",
    "                while t == perAppData[value][ind][1]: \n",
    "                    #if it is the first index it can't check the previous for change.\n",
    "                    #Another method is used in this case\n",
    "                    if ind == 0: \n",
    "                        ts = perAppData[value][ind][1]\n",
    "                        for val in fullRelevantAPI:\n",
    "                            if val[0] == ts:\n",
    "                                index = fullRelevantAPI.index(val)\n",
    "                                while fullRelevantAPI[index][0] - fullRelevantAPI[index - 1][0] < 10:\n",
    "                                    index -= 1\n",
    "                                break\n",
    "                        cVal = perAppData[value][ind][3] - fullRelevantAPI[index - 1][1]\n",
    "                    else: #Otherwise, simply find the change by subtracting from the previous wattage reading\n",
    "                        cVal = perAppData[value][ind][3] - perAppData[value][ind-1][3]\n",
    "                    state = perAppData[value][ind][2]\n",
    "                    ind += 1\n",
    "                    if ind == len(perAppData[value]): #If there are no more appliance state changes leave loop\n",
    "                        break\n",
    "        if state == 0: #If no appliance is currently turned on (according to Usr), current zeroed value is 0\n",
    "            cVal = 0\n",
    "            if cVal < 0:\n",
    "                cVal = 0\n",
    "            relevantGraphs[value].append([t, cVal])\n",
    "        if state == 1: #If an appliance is currently turned on\n",
    "            if t == perAppData[value][ind][1]: #If a wattage changed occured at timestamp t\n",
    "                while t == perAppData[value][ind][1]: #this checks for multiple consecutive wattage changes\n",
    "                    state = perAppData[value][ind][2] #Changes the state to the new app state\n",
    "                    if state == 0: #if the new state is 0, nothing is on so set the value to 0\n",
    "                        cVal = 0\n",
    "                    else: #if the new state is still 1, set the change the value to the new W change\n",
    "                        cVal += perAppData[value][ind][3] - perAppData[value][ind-1][3]\n",
    "                    ind += 1\n",
    "                    if ind == len(perAppData[value]): #If there are no more appliance state changes leave loop\n",
    "                        break\n",
    "            if cVal < 0: #If the current value ever goes negative, something is wrong and set it to 0\n",
    "                cVal = 0\n",
    "            relevantGraphs[value].append([t, cVal])   \n",
    "        \n",
    "appL = []\n",
    "\n",
    "#Adding relevant appliances to the drop down menu\n",
    "for value in relevantGraphs:\n",
    "    if value not in appL:\n",
    "        appL.append(value)\n",
    "        \n",
    "b = widgets.Button(description='Update Graph')\n",
    "w = widgets.Dropdown(\n",
    "    options = appL,\n",
    "    value = appL[0],\n",
    "    description = \"Apps:\"\n",
    ")\n",
    "\n",
    "display.display(w)\n",
    "display.display(b)\n",
    "\n",
    "global pickled\n",
    "pickled = False\n",
    "\n",
    "#Displaying the zeroed graph for the selected appliance\n",
    "def buttonClick(b):\n",
    "    x = []\n",
    "    y = []\n",
    "    for val in relevantGraphs[w.value]: #w is the dropdown widget; displays only the currently selected appl.\n",
    "        x.append(val[0]) #setting x axis\n",
    "        y.append(val[1]) #setting y axis\n",
    "    plt.plot(x,y) #plotting using matplotlib\n",
    "    xi = 0\n",
    "    xf = 0\n",
    "    e = 0\n",
    "    ymax = 0\n",
    "    for i in range(len(y)):#involved in setting xmin\n",
    "        if y[i] != 0:\n",
    "            xi = i\n",
    "            break\n",
    "    for j in range(len(y)):#involved in setting xmax\n",
    "        if y[j] == 0:\n",
    "            e += 1\n",
    "        else:\n",
    "            e = 0\n",
    "    ymax = max(y)\n",
    "    r = len(y) - xi - e\n",
    "    plt.axis([xi - 0.2 * r , 1960 - 0.9*round(e),0,ymax *1.1]) #setting the range here in a really roundabout way.\n",
    "    display.clear_output(wait=True)\n",
    "    global pickled\n",
    "    if not pickled: #Saving the relevant graphs data the first time the code block is executed\n",
    "        save_obj(relevantGraphs, 'disaggregatedSignals')\n",
    "        pickled = True\n",
    "        \n",
    "b.on_click(buttonClick)\n",
    "\n",
    "def save_obj(obj, name ):\n",
    "    with open(name + '.pkl', 'wb') as f:\n",
    "        pickle.dump(obj, f, pickle.HIGHEST_PROTOCOL)\n",
    "\n",
    "def load_obj(name ):\n",
    "    with open(name + '.pkl', 'rb') as f:\n",
    "        return pickle.load(f)"
   ]
  },
  {
   "cell_type": "code",
   "execution_count": 14,
   "metadata": {},
   "outputs": [
    {
     "data": {
      "text/plain": [
       "['Back yard lights', 'Toaster', 'Kitchen Hood', 'Garage Lights']"
      ]
     },
     "execution_count": 14,
     "metadata": {},
     "output_type": "execute_result"
    }
   ],
   "source": [
    "d = load_obj('disaggregatedSignals') #Loading the saved RelevantGraphs data as \"d\"\n",
    "d.keys()"
   ]
  },
  {
   "cell_type": "code",
   "execution_count": 15,
   "metadata": {
    "scrolled": true
   },
   "outputs": [
    {
     "name": "stdout",
     "output_type": "stream",
     "text": [
      "['Back yard lights', 'Toaster', 'Kitchen Hood', 'Garage Lights']\n"
     ]
    },
    {
     "data": {
      "text/plain": [
       "[[0, 1084],\n",
       " [1, 1084],\n",
       " [2, 1084],\n",
       " [3, 1084],\n",
       " [4, 1084],\n",
       " [5, 1084],\n",
       " [6, 1084],\n",
       " [7, 1084],\n",
       " [8, 1084],\n",
       " [9, 1084]]"
      ]
     },
     "execution_count": 15,
     "metadata": {},
     "output_type": "execute_result"
    }
   ],
   "source": [
    "print d.keys() #the disaggregated signals. Contains keys: 'Back yard lights', 'Toaster', 'Kitchen Hood', 'Garage Lights'\n",
    "fullVals[0:10] #the full data. Simple list of form [[TS1, W1],[TS2, W2]...]"
   ]
  },
  {
   "cell_type": "code",
   "execution_count": 16,
   "metadata": {
    "collapsed": true
   },
   "outputs": [],
   "source": [
    "from copy import deepcopy\n",
    "unknown = deepcopy(goodFull)\n",
    "fullVals = deepcopy(goodFull)\n",
    "for value in d:\n",
    "    for i in range(len(d[value])):\n",
    "        if d[value][i][1] != 0:\n",
    "            unknown[i][1] = unknown[i][1] - d[value][i][1]"
   ]
  },
  {
   "cell_type": "code",
   "execution_count": 17,
   "metadata": {},
   "outputs": [
    {
     "data": {
      "text/plain": [
       "1951"
      ]
     },
     "execution_count": 17,
     "metadata": {},
     "output_type": "execute_result"
    }
   ],
   "source": [
    "len(fullVals)"
   ]
  },
  {
   "cell_type": "code",
   "execution_count": 18,
   "metadata": {},
   "outputs": [
    {
     "data": {
      "text/plain": [
       "1951"
      ]
     },
     "execution_count": 18,
     "metadata": {},
     "output_type": "execute_result"
    }
   ],
   "source": [
    "len(d['Back yard lights'])"
   ]
  },
  {
   "cell_type": "code",
   "execution_count": 19,
   "metadata": {
    "collapsed": true
   },
   "outputs": [],
   "source": [
    "cc = d['Back yard lights']"
   ]
  },
  {
   "cell_type": "markdown",
   "metadata": {},
   "source": [
    "### All of the tests below are performed with the \"goodFull\" list. I made this new list just to double check that fullVals was created properly"
   ]
  },
  {
   "cell_type": "code",
   "execution_count": 20,
   "metadata": {},
   "outputs": [
    {
     "data": {
      "text/plain": [
       "[<matplotlib.lines.Line2D at 0x115f98d10>]"
      ]
     },
     "execution_count": 20,
     "metadata": {},
     "output_type": "execute_result"
    },
    {
     "data": {
      "image/png": "[encoded data removed]",
      "text/plain": [
       "<matplotlib.figure.Figure at 0x115f985d0>"
      ]
     },
     "metadata": {},
     "output_type": "display_data"
    }
   ],
   "source": [
    "plt.plot(np.asarray(goodFull)[1174:1188,1])\n",
    "plt.plot(np.asarray(d[d.keys()[3]])[1174:1188,1])"
   ]
  },
  {
   "cell_type": "code",
   "execution_count": 21,
   "metadata": {},
   "outputs": [
    {
     "data": {
      "text/plain": [
       "[<matplotlib.lines.Line2D at 0x11a9dc4d0>]"
      ]
     },
     "execution_count": 21,
     "metadata": {},
     "output_type": "execute_result"
    },
    {
     "data": {
      "image/png": "[encoded data removed]",
      "text/plain": [
       "<matplotlib.figure.Figure at 0x11a9dc490>"
      ]
     },
     "metadata": {},
     "output_type": "display_data"
    }
   ],
   "source": [
    "plt.plot(np.asarray(goodFull)[946:959,1])\n",
    "plt.plot(np.asarray(d[d.keys()[0]])[946:959,1])"
   ]
  },
  {
   "cell_type": "code",
   "execution_count": 22,
   "metadata": {},
   "outputs": [
    {
     "data": {
      "text/plain": [
       "[<matplotlib.lines.Line2D at 0x11abcf550>]"
      ]
     },
     "execution_count": 22,
     "metadata": {},
     "output_type": "execute_result"
    },
    {
     "data": {
      "image/png": "[encoded data removed]",
      "text/plain": [
       "<matplotlib.figure.Figure at 0x11abcf590>"
      ]
     },
     "metadata": {},
     "output_type": "display_data"
    }
   ],
   "source": [
    "plt.plot(np.asarray(goodFull)[1559:1566,1])\n",
    "plt.plot(np.asarray(d[d.keys()[1]])[1559:1566,1])"
   ]
  },
  {
   "cell_type": "code",
   "execution_count": 23,
   "metadata": {},
   "outputs": [
    {
     "data": {
      "text/plain": [
       "[<matplotlib.lines.Line2D at 0x11abcfad0>]"
      ]
     },
     "execution_count": 23,
     "metadata": {},
     "output_type": "execute_result"
    },
    {
     "data": {
      "image/png": "[encoded data removed]",
      "text/plain": [
       "<matplotlib.figure.Figure at 0x11abcfb50>"
      ]
     },
     "metadata": {},
     "output_type": "display_data"
    }
   ],
   "source": [
    "plt.plot(np.asarray(goodFull)[1650:1670,1])\n",
    "plt.plot(np.asarray(d[d.keys()[1]])[1650:1670,1])"
   ]
  },
  {
   "cell_type": "code",
   "execution_count": 24,
   "metadata": {},
   "outputs": [
    {
     "data": {
      "text/plain": [
       "[<matplotlib.lines.Line2D at 0x11adeaa90>]"
      ]
     },
     "execution_count": 24,
     "metadata": {},
     "output_type": "execute_result"
    },
    {
     "data": {
      "image/png": "[encoded data removed]",
      "text/plain": [
       "<matplotlib.figure.Figure at 0x11adea610>"
      ]
     },
     "metadata": {},
     "output_type": "display_data"
    }
   ],
   "source": [
    "plt.plot(np.asarray(goodFull)[1890:2000,1])\n",
    "plt.plot(np.asarray(d[d.keys()[2]])[1890:2000,1])"
   ]
  },
  {
   "cell_type": "markdown",
   "metadata": {},
   "source": [
    "### Appliences"
   ]
  },
  {
   "cell_type": "code",
   "execution_count": 25,
   "metadata": {},
   "outputs": [
    {
     "data": {
      "text/plain": [
       "[<matplotlib.lines.Line2D at 0x11af79550>]"
      ]
     },
     "execution_count": 25,
     "metadata": {},
     "output_type": "execute_result"
    },
    {
     "data": {
      "image/png": "[encoded data removed]",
      "text/plain": [
       "<matplotlib.figure.Figure at 0x11add3d90>"
      ]
     },
     "metadata": {},
     "output_type": "display_data"
    }
   ],
   "source": [
    "\n",
    "plt.plot(np.asarray(d[d.keys()[2]])[1000:2000,1])\n",
    "plt.plot(np.asarray(d[d.keys()[1]])[1000:2000,1])\n",
    "plt.plot(np.asarray(d[d.keys()[0]])[1000:2000,1])\n",
    "plt.plot(np.asarray(d[d.keys()[3]])[1000:2000,1])"
   ]
  },
  {
   "cell_type": "markdown",
   "metadata": {},
   "source": [
    "### Unknown"
   ]
  },
  {
   "cell_type": "code",
   "execution_count": 26,
   "metadata": {},
   "outputs": [
    {
     "data": {
      "text/plain": [
       "[<matplotlib.lines.Line2D at 0x11b0c49d0>]"
      ]
     },
     "execution_count": 26,
     "metadata": {},
     "output_type": "execute_result"
    },
    {
     "data": {
      "image/png": "[encoded data removed]",
      "text/plain": [
       "<matplotlib.figure.Figure at 0x11af4c910>"
      ]
     },
     "metadata": {},
     "output_type": "display_data"
    }
   ],
   "source": [
    "plt.plot(np.asarray(unknown)[0:2000,1])"
   ]
  },
  {
   "cell_type": "markdown",
   "metadata": {},
   "source": [
    "### Aggrehgated Load"
   ]
  },
  {
   "cell_type": "code",
   "execution_count": 27,
   "metadata": {},
   "outputs": [
    {
     "data": {
      "text/plain": [
       "[<matplotlib.lines.Line2D at 0x11b2219d0>]"
      ]
     },
     "execution_count": 27,
     "metadata": {},
     "output_type": "execute_result"
    },
    {
     "data": {
      "image/png": "[encoded data removed]",
      "text/plain": [
       "<matplotlib.figure.Figure at 0x11b2a4b90>"
      ]
     },
     "metadata": {},
     "output_type": "display_data"
    }
   ],
   "source": [
    "plt.plot(np.asarray(goodFull)[0:2000,1])"
   ]
  },
  {
   "cell_type": "markdown",
   "metadata": {},
   "source": [
    "# Analysis"
   ]
  },
  {
   "cell_type": "markdown",
   "metadata": {},
   "source": [
    "### Numpy data to TS"
   ]
  },
  {
   "cell_type": "code",
   "execution_count": 170,
   "metadata": {},
   "outputs": [],
   "source": [
    "power_series = np.array(goodFull , dtype=float)\n",
    "main_ts = pd.Series(power_series[:,1], index=rng)"
   ]
  },
  {
   "cell_type": "code",
   "execution_count": 50,
   "metadata": {
    "collapsed": true
   },
   "outputs": [],
   "source": [
    "meters = d.keys()\n",
    "App_load = np.zeros(len(goodFull),dtype=float)\n",
    "for i,meter in enumerate(meters):\n",
    "    app_series = np.array(d[meter] , dtype=float)\n",
    "    App_load = App_load + app_series[:,1]"
   ]
  },
  {
   "cell_type": "code",
   "execution_count": 101,
   "metadata": {
    "collapsed": true
   },
   "outputs": [],
   "source": [
    "from __future__ import print_function, division\n",
    "import numpy as np\n",
    "import pandas as pd \n",
    "\n",
    "\n",
    "# Fix the seed for repeatability of experiments\n",
    "SEED = 42\n",
    "np.random.seed(SEED)\n",
    "\n",
    "\n",
    "def cluster(X, max_num_clusters=3, exact_num_clusters=None):\n",
    "    '''Applies clustering on reduced data, \n",
    "    i.e. data where power is greater than threshold.\n",
    "\n",
    "    Parameters\n",
    "    ----------\n",
    "    X : pd.Series or single-column pd.DataFrame\n",
    "    max_num_clusters : int\n",
    "\n",
    "    Returns\n",
    "    -------\n",
    "    centroids : ndarray of int32s\n",
    "        Power in different states of an appliance, sorted\n",
    "    '''\n",
    "    # Find where power consumption is greater than 10\n",
    "    data = _transform_data(X)\n",
    "\n",
    "    # Find clusters\n",
    "    centroids = _apply_clustering(data, max_num_clusters, exact_num_clusters)\n",
    "    centroids = np.append(centroids, 0)  # add 'off' state\n",
    "    centroids = np.round(centroids).astype(np.int32)\n",
    "    centroids = np.unique(centroids)  # np.unique also sorts\n",
    "    # TODO: Merge similar clusters\n",
    "    return centroids\n",
    "\n",
    "\n",
    "def _transform_data(data):\n",
    "    '''Subsamples if needed and converts to column vector (which is what\n",
    "    scikit-learn requires).\n",
    "\n",
    "    Parameters\n",
    "    ----------\n",
    "    data : pd.Series or single column pd.DataFrame\n",
    "\n",
    "    Returns\n",
    "    -------\n",
    "    data_above_thresh : ndarray\n",
    "        column vector\n",
    "    '''\n",
    "\n",
    "    MAX_NUMBER_OF_SAMPLES = 2000\n",
    "    MIN_NUMBER_OF_SAMPLES = 20\n",
    "    DATA_THRESHOLD = 10\n",
    "\n",
    "    data_above_thresh = data[data > DATA_THRESHOLD].dropna().values\n",
    "    n_samples = len(data_above_thresh)\n",
    "    if n_samples < MIN_NUMBER_OF_SAMPLES:\n",
    "        return np.zeros((MAX_NUMBER_OF_SAMPLES, 1))\n",
    "    elif n_samples > MAX_NUMBER_OF_SAMPLES:\n",
    "        # Randomly subsample (we don't want to smoothly downsample\n",
    "        # because that is likely to change the values)\n",
    "        random_indices = np.random.randint(0, n_samples, MAX_NUMBER_OF_SAMPLES)\n",
    "        resampled = data_above_thresh[random_indices]\n",
    "        return resampled.reshape(MAX_NUMBER_OF_SAMPLES, 1)\n",
    "    else:\n",
    "        return data_above_thresh.reshape(n_samples, 1)\n",
    "\n",
    "\n",
    "def _apply_clustering_n_clusters(X, n_clusters):\n",
    "    \"\"\"\n",
    "    :param X: ndarray\n",
    "    :param n_clusters: exact number of clusters to use\n",
    "    :return:\n",
    "    \"\"\"\n",
    "    from sklearn.cluster import KMeans\n",
    "    k_means = KMeans(init='k-means++', n_clusters=n_clusters)\n",
    "    k_means.fit(X)\n",
    "    return k_means.labels_, k_means.cluster_centers_\n",
    "\n",
    "\n",
    "def _apply_clustering(X, max_num_clusters, exact_num_clusters=None):\n",
    "    '''\n",
    "    Parameters\n",
    "    ----------\n",
    "    X : ndarray\n",
    "    max_num_clusters : int\n",
    "\n",
    "    Returns\n",
    "    -------\n",
    "    centroids : list of numbers\n",
    "        List of power in different states of an appliance\n",
    "    '''\n",
    "    # If we import sklearn at the top of the file then it makes autodoc fail\n",
    "\n",
    "    from sklearn import metrics\n",
    "\n",
    "    # sklearn produces lots of DepreciationWarnings with PyTables\n",
    "    import warnings\n",
    "    warnings.filterwarnings(\"ignore\", category=DeprecationWarning)\n",
    "\n",
    "    # Finds whether 2 or 3 gives better Silhouellete coefficient\n",
    "    # Whichever is higher serves as the number of clusters for that\n",
    "    # appliance\n",
    "    num_clus = -1\n",
    "    sh = -1\n",
    "    k_means_labels = {}\n",
    "    k_means_cluster_centers = {}\n",
    "    k_means_labels_unique = {}\n",
    "\n",
    "    # If the exact number of clusters are specified, then use that\n",
    "    if exact_num_clusters is not None:\n",
    "        labels, centers = _apply_clustering_n_clusters(X, exact_num_clusters)\n",
    "        return centers.flatten()\n",
    "\n",
    "    # Exact number of clusters are not specified, use the cluster validity measures\n",
    "    # to find the optimal number\n",
    "    for n_clusters in range(1, max_num_clusters):\n",
    "\n",
    "        try:\n",
    "            labels, centers = _apply_clustering_n_clusters(X, n_clusters)\n",
    "            k_means_labels[n_clusters] = labels\n",
    "            k_means_cluster_centers[n_clusters] = centers\n",
    "            k_means_labels_unique[n_clusters] = np.unique(labels)\n",
    "            try:\n",
    "                sh_n = metrics.silhouette_score(\n",
    "                    X, k_means_labels[n_clusters], metric='euclidean')\n",
    "\n",
    "                if sh_n > sh:\n",
    "                    sh = sh_n\n",
    "                    num_clus = n_clusters\n",
    "            except Exception:\n",
    "                num_clus = n_clusters\n",
    "        except Exception:\n",
    "            if num_clus > -1:\n",
    "                return k_means_cluster_centers[num_clus]\n",
    "            else:\n",
    "                return np.array([0])\n",
    "\n",
    "    return k_means_cluster_centers[num_clus].flatten()\n",
    "\n",
    "\n",
    "def hart85_means_shift_cluster(pair_buffer_df, cols):\n",
    "\n",
    "\n",
    "    from sklearn.cluster import MeanShift\n",
    "    # Creating feature vector\n",
    "    cluster_df = pd.DataFrame()\n",
    "    power_types = [col[1] for col in cols]\n",
    "    if 'active' in power_types:\n",
    "        cluster_df['active'] = pd.Series(pair_buffer_df.apply(lambda row:\n",
    "                                                                   ((np.fabs(row['T1 Active']) + np.fabs(row['T2 Active'])) / 2), axis=1), index=pair_buffer_df.index)\n",
    "    if 'reactive' in power_types:\n",
    "        cluster_df['reactive'] = pd.Series(pair_buffer_df.apply(lambda row:\n",
    "                                                                     ((np.fabs(row['T1 Reactive']) + np.fabs(row['T2 Reactive'])) / 2), axis=1), index=pair_buffer_df.index)\n",
    "\n",
    "    X = cluster_df.values.reshape((len(cluster_df.index), len(cols)))\n",
    "    ms = MeanShift(bin_seeding=True)\n",
    "    ms.fit(X)\n",
    "    labels = ms.labels_\n",
    "    cluster_centers = ms.cluster_centers_\n",
    "    labels_unique = np.unique(labels)\n",
    "    return pd.DataFrame(cluster_centers, columns=cols)\n"
   ]
  },
  {
   "cell_type": "code",
   "execution_count": 173,
   "metadata": {
    "collapsed": true
   },
   "outputs": [],
   "source": [
    "power_series = np.array(goodFull , dtype=float)\n",
    "main_ts = pd.Series(power_series[:,1], index=rng)"
   ]
  },
  {
   "cell_type": "code",
   "execution_count": 183,
   "metadata": {},
   "outputs": [
    {
     "name": "stdout",
     "output_type": "stream",
     "text": [
      "Back yard lights - 5 - [  0 337 340 341 345]\n",
      "Toaster - 3 - [  0 883 931]\n",
      "Kitchen Hood - 3 - [  0 451 461]\n",
      "Garage Lights - 4 - [ 0 53 56 58]\n"
     ]
    }
   ],
   "source": [
    "max_num_clusters = 5\n",
    "num_states_dict={}\n",
    "for i,meter in enumerate(meters):\n",
    "    meter_data = np.array(d[meter] , dtype=float)[:,1]\n",
    "    meter_data_ts = pd.Series(meter_data, index=rng)\n",
    "    # Find the optimum number of states\n",
    "    states = cluster(meter_data_ts, max_num_clusters)\n",
    "    num_total_states = len(states)\n",
    "    print (meter, '-', num_total_states, '-' , states)\n",
    "    num_states_dict[meter] = num_total_states"
   ]
  },
  {
   "cell_type": "markdown",
   "metadata": {},
   "source": [
    "### HMM on appliences and unknown"
   ]
  },
  {
   "cell_type": "code",
   "execution_count": 184,
   "metadata": {},
   "outputs": [
    {
     "name": "stdout",
     "output_type": "stream",
     "text": [
      "Training model for submeter 'Back yard lights'\n",
      "Training model for submeter 'Toaster'\n",
      "Training model for submeter 'Kitchen Hood'\n",
      "Training model for submeter 'Garage Lights'\n",
      "Training model for unknown submeter ..\n"
     ]
    },
    {
     "data": {
      "text/plain": [
       "GaussianHMM(algorithm='viterbi', covariance_type='full', covars_prior=0.01,\n",
       "      covars_weight=1,\n",
       "      init_params='abcdefghijklmnopqrstuvwxyzABCDEFGHIJKLMNOPQRSTUVWXYZ',\n",
       "      means_prior=None, means_weight=0, n_components=4, n_iter=10,\n",
       "      params='abcdefghijklmnopqrstuvwxyzABCDEFGHIJKLMNOPQRSTUVWXYZ',\n",
       "      random_state=None, startprob=None, startprob_prior=1.0, thresh=0.01,\n",
       "      transmat=None, transmat_prior=1.0)"
      ]
     },
     "execution_count": 184,
     "metadata": {},
     "output_type": "execute_result"
    }
   ],
   "source": [
    "learnt_model={}\n",
    "from hmmlearn import hmm\n",
    "for i,meter in enumerate(meters):\n",
    "    meter_data = np.array(d[meter] , dtype=float)[:,1]\n",
    "    X = meter_data.reshape((-1, 1))\n",
    "    num_total_states = num_states_dict.get(meter)\n",
    "    \n",
    "    print(\"Training model for submeter '{}'\".format(meter))\n",
    "    learnt_model[meter] = hmm.GaussianHMM(num_total_states, \"full\")\n",
    "\n",
    "    # Fit\n",
    "    learnt_model[meter].fit([X])\n",
    "\n",
    "meter_data_unkown = np.array( unknown, dtype=float)[:,1]    \n",
    "X = meter_data_unkown.reshape((-1, 1))\n",
    "num_total_states = 4\n",
    "print(\"Training model for unknown submeter ..\")\n",
    "learnt_model['unknown'] = hmm.GaussianHMM(num_total_states, \"full\")\n",
    "learnt_model['unknown'].fit([X])"
   ]
  },
  {
   "cell_type": "code",
   "execution_count": 185,
   "metadata": {},
   "outputs": [
    {
     "data": {
      "text/plain": [
       "{'Back yard lights': GaussianHMM(algorithm='viterbi', covariance_type='full', covars_prior=0.01,\n",
       "       covars_weight=1,\n",
       "       init_params='abcdefghijklmnopqrstuvwxyzABCDEFGHIJKLMNOPQRSTUVWXYZ',\n",
       "       means_prior=None, means_weight=0, n_components=5, n_iter=10,\n",
       "       params='abcdefghijklmnopqrstuvwxyzABCDEFGHIJKLMNOPQRSTUVWXYZ',\n",
       "       random_state=None, startprob=None, startprob_prior=1.0, thresh=0.01,\n",
       "       transmat=None, transmat_prior=1.0),\n",
       " 'Garage Lights': GaussianHMM(algorithm='viterbi', covariance_type='full', covars_prior=0.01,\n",
       "       covars_weight=1,\n",
       "       init_params='abcdefghijklmnopqrstuvwxyzABCDEFGHIJKLMNOPQRSTUVWXYZ',\n",
       "       means_prior=None, means_weight=0, n_components=4, n_iter=10,\n",
       "       params='abcdefghijklmnopqrstuvwxyzABCDEFGHIJKLMNOPQRSTUVWXYZ',\n",
       "       random_state=None, startprob=None, startprob_prior=1.0, thresh=0.01,\n",
       "       transmat=None, transmat_prior=1.0),\n",
       " 'Kitchen Hood': GaussianHMM(algorithm='viterbi', covariance_type='full', covars_prior=0.01,\n",
       "       covars_weight=1,\n",
       "       init_params='abcdefghijklmnopqrstuvwxyzABCDEFGHIJKLMNOPQRSTUVWXYZ',\n",
       "       means_prior=None, means_weight=0, n_components=3, n_iter=10,\n",
       "       params='abcdefghijklmnopqrstuvwxyzABCDEFGHIJKLMNOPQRSTUVWXYZ',\n",
       "       random_state=None, startprob=None, startprob_prior=1.0, thresh=0.01,\n",
       "       transmat=None, transmat_prior=1.0),\n",
       " 'Toaster': GaussianHMM(algorithm='viterbi', covariance_type='full', covars_prior=0.01,\n",
       "       covars_weight=1,\n",
       "       init_params='abcdefghijklmnopqrstuvwxyzABCDEFGHIJKLMNOPQRSTUVWXYZ',\n",
       "       means_prior=None, means_weight=0, n_components=3, n_iter=10,\n",
       "       params='abcdefghijklmnopqrstuvwxyzABCDEFGHIJKLMNOPQRSTUVWXYZ',\n",
       "       random_state=None, startprob=None, startprob_prior=1.0, thresh=0.01,\n",
       "       transmat=None, transmat_prior=1.0),\n",
       " 'unknown': GaussianHMM(algorithm='viterbi', covariance_type='full', covars_prior=0.01,\n",
       "       covars_weight=1,\n",
       "       init_params='abcdefghijklmnopqrstuvwxyzABCDEFGHIJKLMNOPQRSTUVWXYZ',\n",
       "       means_prior=None, means_weight=0, n_components=4, n_iter=10,\n",
       "       params='abcdefghijklmnopqrstuvwxyzABCDEFGHIJKLMNOPQRSTUVWXYZ',\n",
       "       random_state=None, startprob=None, startprob_prior=1.0, thresh=0.01,\n",
       "       transmat=None, transmat_prior=1.0)}"
      ]
     },
     "execution_count": 185,
     "metadata": {},
     "output_type": "execute_result"
    }
   ],
   "source": [
    "learnt_model"
   ]
  },
  {
   "cell_type": "code",
   "execution_count": 186,
   "metadata": {
    "collapsed": true,
    "scrolled": true
   },
   "outputs": [],
   "source": [
    "from copy import deepcopy\n",
    "import itertools\n",
    "def sort_startprob(mapping, startprob):\n",
    "    \"\"\" Sort the startprob according to power means; as returned by mapping\n",
    "    \"\"\"\n",
    "    num_elements = len(startprob)\n",
    "    new_startprob = np.zeros(num_elements)\n",
    "    for i in range(len(startprob)):\n",
    "        new_startprob[i] = startprob[mapping[i]]\n",
    "    return new_startprob\n",
    "\n",
    "\n",
    "def sort_covars(mapping, covars):\n",
    "    new_covars = np.zeros_like(covars)\n",
    "    for i in range(len(covars)):\n",
    "        new_covars[i] = covars[mapping[i]]\n",
    "    return new_covars\n",
    "\n",
    "\n",
    "def sort_transition_matrix(mapping, A):\n",
    "    \"\"\"Sorts the transition matrix according to increasing order of\n",
    "    power means; as returned by mapping\n",
    "\n",
    "    Parameters\n",
    "    ----------\n",
    "    mapping :\n",
    "    A : numpy.array of shape (k, k)\n",
    "        transition matrix\n",
    "    \"\"\"\n",
    "    num_elements = len(A)\n",
    "    A_new = np.zeros((num_elements, num_elements))\n",
    "    for i in range(num_elements):\n",
    "        for j in range(num_elements):\n",
    "            A_new[i, j] = A[mapping[i], mapping[j]]\n",
    "    return A_new\n",
    "\n",
    "def return_sorting_mapping(means):\n",
    "    means_copy = deepcopy(means)\n",
    "    means_copy = np.sort(means_copy, axis=0)\n",
    "\n",
    "    # Finding mapping\n",
    "    mapping = {}\n",
    "    for i, val in enumerate(means_copy):\n",
    "        mapping[i] = np.where(val == means)[0][0]\n",
    "    return mapping\n",
    "\n",
    "def sort_learnt_parameters(startprob, means, covars, transmat):\n",
    "    mapping = return_sorting_mapping(means)\n",
    "    means_new = np.sort(means, axis=0)\n",
    "    startprob_new = sort_startprob(mapping, startprob)\n",
    "    covars_new = sort_covars(mapping, covars)\n",
    "    transmat_new = sort_transition_matrix(mapping, transmat)\n",
    "    assert np.shape(means_new) == np.shape(means)\n",
    "    assert np.shape(startprob_new) == np.shape(startprob)\n",
    "    assert np.shape(transmat_new) == np.shape(transmat)\n",
    "\n",
    "    return [startprob_new, means_new, covars_new, transmat_new]\n",
    "\n",
    "\n",
    "def compute_A_fhmm(list_A):\n",
    "    \"\"\"\n",
    "    Parameters\n",
    "    -----------\n",
    "    list_pi : List of PI's of individual learnt HMMs\n",
    "\n",
    "    Returns\n",
    "    --------\n",
    "    result : Combined Pi for the FHMM\n",
    "    \"\"\"\n",
    "    result = list_A[0]\n",
    "    for i in range(len(list_A) - 1):\n",
    "        result = np.kron(result, list_A[i + 1])\n",
    "    return result\n",
    "\n",
    "\n",
    "def compute_means_fhmm(list_means):\n",
    "    \"\"\"\n",
    "    Returns\n",
    "    -------\n",
    "    [mu, cov]\n",
    "    \"\"\"\n",
    "    states_combination = list(itertools.product(*list_means))\n",
    "    num_combinations = len(states_combination)\n",
    "    means_stacked = np.array([sum(x) for x in states_combination])\n",
    "    means = np.reshape(means_stacked, (num_combinations, 1))\n",
    "    cov = np.tile(5 * np.identity(1), (num_combinations, 1, 1))\n",
    "    return [means, cov]\n",
    "\n",
    "\n",
    "def compute_pi_fhmm(list_pi):\n",
    "    \"\"\"\n",
    "    Parameters\n",
    "    -----------\n",
    "    list_pi : List of PI's of individual learnt HMMs\n",
    "\n",
    "    Returns\n",
    "    -------\n",
    "    result : Combined Pi for the FHMM\n",
    "    \"\"\"\n",
    "    result = list_pi[0]\n",
    "    for i in range(len(list_pi) - 1):\n",
    "        result = np.kron(result, list_pi[i + 1])\n",
    "    return result\n",
    "\n",
    "def create_combined_hmm(models):\n",
    "    list_pi = [models[appliance].startprob_ for appliance in models]\n",
    "    list_A = [models[appliance].transmat_ for appliance in models]\n",
    "    list_means = [models[appliance].means_.flatten().tolist() for appliance in models]\n",
    "\n",
    "    pi_combined = compute_pi_fhmm(list_pi)\n",
    "    A_combined = compute_A_fhmm(list_A)\n",
    "    [mean_combined, cov_combined] = compute_means_fhmm(list_means)\n",
    "\n",
    "    combined_model = hmm.GaussianHMM(n_components=len(pi_combined), covariance_type='full')\n",
    "    combined_model.startprob_ = pi_combined\n",
    "    combined_model.transmat_ =A_combined\n",
    "    combined_model.covars_ = cov_combined\n",
    "    combined_model.means_ = mean_combined\n",
    "    return combined_model"
   ]
  },
  {
   "cell_type": "code",
   "execution_count": 187,
   "metadata": {},
   "outputs": [
    {
     "data": {
      "text/plain": [
       "GaussianHMM(algorithm='viterbi', covariance_type='full', covars_prior=0.01,\n",
       "      covars_weight=1,\n",
       "      init_params='abcdefghijklmnopqrstuvwxyzABCDEFGHIJKLMNOPQRSTUVWXYZ',\n",
       "      means_prior=None, means_weight=0, n_components=4, n_iter=10,\n",
       "      params='abcdefghijklmnopqrstuvwxyzABCDEFGHIJKLMNOPQRSTUVWXYZ',\n",
       "      random_state=None, startprob=None, startprob_prior=1.0, thresh=0.01,\n",
       "      transmat=None, transmat_prior=1.0)"
      ]
     },
     "execution_count": 187,
     "metadata": {},
     "output_type": "execute_result"
    }
   ],
   "source": [
    "m1 = learnt_model[learnt_model.keys()[0]]\n",
    "m1"
   ]
  },
  {
   "cell_type": "code",
   "execution_count": 188,
   "metadata": {},
   "outputs": [
    {
     "data": {
      "text/plain": [
       "{0: 1, 1: 2, 2: 0, 3: 3}"
      ]
     },
     "execution_count": 188,
     "metadata": {},
     "output_type": "execute_result"
    }
   ],
   "source": [
    "return_sorting_mapping(m1.means_)"
   ]
  },
  {
   "cell_type": "code",
   "execution_count": 189,
   "metadata": {},
   "outputs": [],
   "source": [
    "startprob, means, covars, transmat = sort_learnt_parameters( m1.startprob_, m1.means_,m1.covars_, m1.transmat_)"
   ]
  },
  {
   "cell_type": "code",
   "execution_count": 190,
   "metadata": {},
   "outputs": [
    {
     "data": {
      "text/plain": [
       "GaussianHMM(algorithm='viterbi', covariance_type='full', covars_prior=0.01,\n",
       "      covars_weight=1,\n",
       "      init_params='abcdefghijklmnopqrstuvwxyzABCDEFGHIJKLMNOPQRSTUVWXYZ',\n",
       "      means_prior=None, means_weight=0, n_components=720, n_iter=10,\n",
       "      params='abcdefghijklmnopqrstuvwxyzABCDEFGHIJKLMNOPQRSTUVWXYZ',\n",
       "      random_state=None, startprob=None, startprob_prior=None, thresh=0.01,\n",
       "      transmat=None, transmat_prior=None)"
      ]
     },
     "execution_count": 190,
     "metadata": {},
     "output_type": "execute_result"
    }
   ],
   "source": [
    "from collections import OrderedDict\n",
    "# Combining to make a AFHMM\n",
    "self_meters = []\n",
    "new_learnt_models = OrderedDict()\n",
    "for meter in learnt_model:\n",
    "    startprob, means, covars, transmat = sort_learnt_parameters(\n",
    "        learnt_model[meter].startprob_, learnt_model[meter].means_,\n",
    "        learnt_model[meter].covars_, learnt_model[meter].transmat_)\n",
    "    new_learnt_models[meter] = hmm.GaussianHMM(startprob.size, \"full\")\n",
    "    new_learnt_models[meter].transmat_ =  transmat\n",
    "    new_learnt_models[meter].startprob_ = startprob\n",
    "    new_learnt_models[meter].means_ = means\n",
    "    new_learnt_models[meter].covars_ = covars\n",
    "#     # UGLY! But works.\n",
    "    self_meters.append(meter)\n",
    "\n",
    "learnt_model_combined = create_combined_hmm(new_learnt_models)\n",
    "self_individual = new_learnt_models\n",
    "self_model = learnt_model_combined\n",
    "self_model"
   ]
  },
  {
   "cell_type": "code",
   "execution_count": 191,
   "metadata": {},
   "outputs": [
    {
     "data": {
      "text/plain": [
       "array([[ 1084.],\n",
       "       [ 1084.],\n",
       "       [ 1084.],\n",
       "       ..., \n",
       "       [  858.],\n",
       "       [  858.],\n",
       "       [  858.]])"
      ]
     },
     "execution_count": 191,
     "metadata": {},
     "output_type": "execute_result"
    }
   ],
   "source": [
    "meter_data = power_series[:,1]\n",
    "temp = meter_data.reshape((-1, 1))\n",
    "temp  "
   ]
  },
  {
   "cell_type": "code",
   "execution_count": 192,
   "metadata": {},
   "outputs": [
    {
     "data": {
      "text/plain": [
       "array([360, 360, 360, 360, 360, 360, 360, 360, 360, 360, 360, 360, 360,\n",
       "       360, 360, 360, 360, 360, 360, 360, 360, 360, 360, 360, 360])"
      ]
     },
     "execution_count": 192,
     "metadata": {},
     "output_type": "execute_result"
    }
   ],
   "source": [
    "pred = {}\n",
    "pred = learnt_model_combined.predict(temp)\n",
    "pred[0:25]"
   ]
  },
  {
   "cell_type": "code",
   "execution_count": 193,
   "metadata": {},
   "outputs": [
    {
     "data": {
      "text/plain": [
       "[array([360, 360, 360, ..., 181, 181, 181])]"
      ]
     },
     "execution_count": 193,
     "metadata": {},
     "output_type": "execute_result"
    }
   ],
   "source": [
    "\n",
    "gt= {}\n",
    "# Array of learnt states\n",
    "learnt_states_array = []\n",
    "learnt_states_array.append(pred)\n",
    "learnt_states_array"
   ]
  },
  {
   "cell_type": "code",
   "execution_count": 194,
   "metadata": {},
   "outputs": [
    {
     "data": {
      "text/plain": [
       "OrderedDict([('unknown', [430, 828, 1084, 1487]),\n",
       "             ('Back yard lights', [0, 340, 340, 340, 340]),\n",
       "             ('Toaster', [0, 883, 931]),\n",
       "             ('Kitchen Hood', [0, 454, 454]),\n",
       "             ('Garage Lights', [0, 55, 56, 56])])"
      ]
     },
     "execution_count": 194,
     "metadata": {},
     "output_type": "execute_result"
    }
   ],
   "source": [
    "from six import iteritems\n",
    "# Model\n",
    "means = OrderedDict()\n",
    "for elec_meter, model in iteritems(self_individual):\n",
    "    means[elec_meter] = (model.means_.round().astype(int).flatten().tolist())\n",
    "    means[elec_meter].sort()\n",
    "means"
   ]
  },
  {
   "cell_type": "code",
   "execution_count": 195,
   "metadata": {
    "collapsed": true
   },
   "outputs": [],
   "source": [
    "def decode_hmm(length_sequence, centroids, appliance_list, states):\n",
    "    \"\"\"\n",
    "    Decodes the HMM state sequence\n",
    "    \"\"\"\n",
    "    hmm_states = {}\n",
    "    hmm_power = {}\n",
    "    total_num_combinations = 1\n",
    "\n",
    "    for appliance in appliance_list:\n",
    "        total_num_combinations *= len(centroids[appliance])\n",
    "\n",
    "    for appliance in appliance_list:\n",
    "        hmm_states[appliance] = np.zeros(length_sequence, dtype=np.int)\n",
    "        hmm_power[appliance] = np.zeros(length_sequence)\n",
    "\n",
    "    for i in range(length_sequence):\n",
    "\n",
    "        factor = total_num_combinations\n",
    "        for appliance in appliance_list:\n",
    "            # assuming integer division (will cause errors in Python 3x)\n",
    "            factor = factor // len(centroids[appliance])\n",
    "\n",
    "            temp = int(states[i]) / factor\n",
    "            hmm_states[appliance][i] = temp % len(centroids[appliance])\n",
    "            hmm_power[appliance][i] = centroids[\n",
    "                appliance][hmm_states[appliance][i]]\n",
    "    return [hmm_states, hmm_power]"
   ]
  },
  {
   "cell_type": "code",
   "execution_count": 196,
   "metadata": {
    "collapsed": true
   },
   "outputs": [],
   "source": [
    "decoded_power_array = []\n",
    "decoded_states_array = []\n",
    "\n",
    "for learnt_states in learnt_states_array:\n",
    "    [decoded_states, decoded_power] = decode_hmm(len(learnt_states), means, means.keys(), learnt_states)\n",
    "    decoded_states_array.append(decoded_states)\n",
    "    decoded_power_array.append(decoded_power)"
   ]
  },
  {
   "cell_type": "code",
   "execution_count": 197,
   "metadata": {},
   "outputs": [
    {
     "data": {
      "text/html": [
       "<div>\n",
       "<table border=\"1\" class=\"dataframe\">\n",
       "  <thead>\n",
       "    <tr style=\"text-align: right;\">\n",
       "      <th></th>\n",
       "      <th>Back yard lights</th>\n",
       "      <th>Garage Lights</th>\n",
       "      <th>Kitchen Hood</th>\n",
       "      <th>Toaster</th>\n",
       "      <th>unknown</th>\n",
       "    </tr>\n",
       "  </thead>\n",
       "  <tbody>\n",
       "    <tr>\n",
       "      <th>0</th>\n",
       "      <td>0.0</td>\n",
       "      <td>0.0</td>\n",
       "      <td>0.0</td>\n",
       "      <td>0.0</td>\n",
       "      <td>1084.0</td>\n",
       "    </tr>\n",
       "    <tr>\n",
       "      <th>1</th>\n",
       "      <td>0.0</td>\n",
       "      <td>0.0</td>\n",
       "      <td>0.0</td>\n",
       "      <td>0.0</td>\n",
       "      <td>1084.0</td>\n",
       "    </tr>\n",
       "    <tr>\n",
       "      <th>2</th>\n",
       "      <td>0.0</td>\n",
       "      <td>0.0</td>\n",
       "      <td>0.0</td>\n",
       "      <td>0.0</td>\n",
       "      <td>1084.0</td>\n",
       "    </tr>\n",
       "    <tr>\n",
       "      <th>3</th>\n",
       "      <td>0.0</td>\n",
       "      <td>0.0</td>\n",
       "      <td>0.0</td>\n",
       "      <td>0.0</td>\n",
       "      <td>1084.0</td>\n",
       "    </tr>\n",
       "    <tr>\n",
       "      <th>4</th>\n",
       "      <td>0.0</td>\n",
       "      <td>0.0</td>\n",
       "      <td>0.0</td>\n",
       "      <td>0.0</td>\n",
       "      <td>1084.0</td>\n",
       "    </tr>\n",
       "    <tr>\n",
       "      <th>5</th>\n",
       "      <td>0.0</td>\n",
       "      <td>0.0</td>\n",
       "      <td>0.0</td>\n",
       "      <td>0.0</td>\n",
       "      <td>1084.0</td>\n",
       "    </tr>\n",
       "    <tr>\n",
       "      <th>6</th>\n",
       "      <td>0.0</td>\n",
       "      <td>0.0</td>\n",
       "      <td>0.0</td>\n",
       "      <td>0.0</td>\n",
       "      <td>1084.0</td>\n",
       "    </tr>\n",
       "    <tr>\n",
       "      <th>7</th>\n",
       "      <td>0.0</td>\n",
       "      <td>0.0</td>\n",
       "      <td>0.0</td>\n",
       "      <td>0.0</td>\n",
       "      <td>1084.0</td>\n",
       "    </tr>\n",
       "    <tr>\n",
       "      <th>8</th>\n",
       "      <td>0.0</td>\n",
       "      <td>0.0</td>\n",
       "      <td>0.0</td>\n",
       "      <td>0.0</td>\n",
       "      <td>1084.0</td>\n",
       "    </tr>\n",
       "    <tr>\n",
       "      <th>9</th>\n",
       "      <td>0.0</td>\n",
       "      <td>0.0</td>\n",
       "      <td>0.0</td>\n",
       "      <td>0.0</td>\n",
       "      <td>1084.0</td>\n",
       "    </tr>\n",
       "    <tr>\n",
       "      <th>10</th>\n",
       "      <td>0.0</td>\n",
       "      <td>0.0</td>\n",
       "      <td>0.0</td>\n",
       "      <td>0.0</td>\n",
       "      <td>1084.0</td>\n",
       "    </tr>\n",
       "    <tr>\n",
       "      <th>11</th>\n",
       "      <td>0.0</td>\n",
       "      <td>0.0</td>\n",
       "      <td>0.0</td>\n",
       "      <td>0.0</td>\n",
       "      <td>1084.0</td>\n",
       "    </tr>\n",
       "    <tr>\n",
       "      <th>12</th>\n",
       "      <td>0.0</td>\n",
       "      <td>0.0</td>\n",
       "      <td>0.0</td>\n",
       "      <td>0.0</td>\n",
       "      <td>1084.0</td>\n",
       "    </tr>\n",
       "    <tr>\n",
       "      <th>13</th>\n",
       "      <td>0.0</td>\n",
       "      <td>0.0</td>\n",
       "      <td>0.0</td>\n",
       "      <td>0.0</td>\n",
       "      <td>1084.0</td>\n",
       "    </tr>\n",
       "    <tr>\n",
       "      <th>14</th>\n",
       "      <td>0.0</td>\n",
       "      <td>0.0</td>\n",
       "      <td>0.0</td>\n",
       "      <td>0.0</td>\n",
       "      <td>1084.0</td>\n",
       "    </tr>\n",
       "    <tr>\n",
       "      <th>15</th>\n",
       "      <td>0.0</td>\n",
       "      <td>0.0</td>\n",
       "      <td>0.0</td>\n",
       "      <td>0.0</td>\n",
       "      <td>1084.0</td>\n",
       "    </tr>\n",
       "    <tr>\n",
       "      <th>16</th>\n",
       "      <td>0.0</td>\n",
       "      <td>0.0</td>\n",
       "      <td>0.0</td>\n",
       "      <td>0.0</td>\n",
       "      <td>1084.0</td>\n",
       "    </tr>\n",
       "    <tr>\n",
       "      <th>17</th>\n",
       "      <td>0.0</td>\n",
       "      <td>0.0</td>\n",
       "      <td>0.0</td>\n",
       "      <td>0.0</td>\n",
       "      <td>1084.0</td>\n",
       "    </tr>\n",
       "    <tr>\n",
       "      <th>18</th>\n",
       "      <td>0.0</td>\n",
       "      <td>0.0</td>\n",
       "      <td>0.0</td>\n",
       "      <td>0.0</td>\n",
       "      <td>1084.0</td>\n",
       "    </tr>\n",
       "    <tr>\n",
       "      <th>19</th>\n",
       "      <td>0.0</td>\n",
       "      <td>0.0</td>\n",
       "      <td>0.0</td>\n",
       "      <td>0.0</td>\n",
       "      <td>1084.0</td>\n",
       "    </tr>\n",
       "  </tbody>\n",
       "</table>\n",
       "</div>"
      ],
      "text/plain": [
       "    Back yard lights  Garage Lights  Kitchen Hood  Toaster  unknown\n",
       "0                0.0            0.0           0.0      0.0   1084.0\n",
       "1                0.0            0.0           0.0      0.0   1084.0\n",
       "2                0.0            0.0           0.0      0.0   1084.0\n",
       "3                0.0            0.0           0.0      0.0   1084.0\n",
       "4                0.0            0.0           0.0      0.0   1084.0\n",
       "5                0.0            0.0           0.0      0.0   1084.0\n",
       "6                0.0            0.0           0.0      0.0   1084.0\n",
       "7                0.0            0.0           0.0      0.0   1084.0\n",
       "8                0.0            0.0           0.0      0.0   1084.0\n",
       "9                0.0            0.0           0.0      0.0   1084.0\n",
       "10               0.0            0.0           0.0      0.0   1084.0\n",
       "11               0.0            0.0           0.0      0.0   1084.0\n",
       "12               0.0            0.0           0.0      0.0   1084.0\n",
       "13               0.0            0.0           0.0      0.0   1084.0\n",
       "14               0.0            0.0           0.0      0.0   1084.0\n",
       "15               0.0            0.0           0.0      0.0   1084.0\n",
       "16               0.0            0.0           0.0      0.0   1084.0\n",
       "17               0.0            0.0           0.0      0.0   1084.0\n",
       "18               0.0            0.0           0.0      0.0   1084.0\n",
       "19               0.0            0.0           0.0      0.0   1084.0"
      ]
     },
     "execution_count": 197,
     "metadata": {},
     "output_type": "execute_result"
    }
   ],
   "source": [
    "import pandas as pd\n",
    "prediction = pd.DataFrame(decoded_power_array[0])\n",
    "prediction.head(20)"
   ]
  },
  {
   "cell_type": "markdown",
   "metadata": {},
   "source": [
    "### Applience prediction "
   ]
  },
  {
   "cell_type": "code",
   "execution_count": 199,
   "metadata": {},
   "outputs": [
    {
     "name": "stdout",
     "output_type": "stream",
     "text": [
      "Back yard lights\n"
     ]
    },
    {
     "data": {
      "image/png": "[encoded data removed]",
      "text/plain": [
       "<matplotlib.figure.Figure at 0x121379410>"
      ]
     },
     "metadata": {},
     "output_type": "display_data"
    },
    {
     "name": "stdout",
     "output_type": "stream",
     "text": [
      "Toaster\n"
     ]
    },
    {
     "data": {
      "image/png": "[encoded data removed]",
      "text/plain": [
       "<matplotlib.figure.Figure at 0x1214c9f10>"
      ]
     },
     "metadata": {},
     "output_type": "display_data"
    },
    {
     "name": "stdout",
     "output_type": "stream",
     "text": [
      "Kitchen Hood\n"
     ]
    },
    {
     "data": {
      "image/png": "[encoded data removed]",
      "text/plain": [
       "<matplotlib.figure.Figure at 0x1212ed890>"
      ]
     },
     "metadata": {},
     "output_type": "display_data"
    },
    {
     "name": "stdout",
     "output_type": "stream",
     "text": [
      "Garage Lights\n"
     ]
    },
    {
     "data": {
      "image/png": "[encoded data removed]",
      "text/plain": [
       "<matplotlib.figure.Figure at 0x12116fc50>"
      ]
     },
     "metadata": {},
     "output_type": "display_data"
    }
   ],
   "source": [
    "for app in d.keys():\n",
    "    b = np.asarray(d[app])[:,1]\n",
    "    prd = np.asarray(prediction[app])\n",
    "    print (app)\n",
    "    plt.plot(b)\n",
    "    plt.plot(range(len(prd)), prd +10)\n",
    "    plt.show()"
   ]
  },
  {
   "cell_type": "markdown",
   "metadata": {},
   "source": [
    "### Unknown prediction"
   ]
  },
  {
   "cell_type": "code",
   "execution_count": 201,
   "metadata": {},
   "outputs": [
    {
     "name": "stdout",
     "output_type": "stream",
     "text": [
      "Garage Lights\n"
     ]
    },
    {
     "data": {
      "text/plain": [
       "[<matplotlib.lines.Line2D at 0x121346ed0>]"
      ]
     },
     "execution_count": 201,
     "metadata": {},
     "output_type": "execute_result"
    },
    {
     "data": {
      "image/png": "[encoded data removed]",
      "text/plain": [
       "<matplotlib.figure.Figure at 0x121379050>"
      ]
     },
     "metadata": {},
     "output_type": "display_data"
    }
   ],
   "source": [
    "b = np.asarray(meter_data_unkown)\n",
    "prd = np.asarray(prediction[\"unknown\"])\n",
    "print (app)\n",
    "plt.plot(b)\n",
    "plt.plot(range(len(prd)), prd +10)"
   ]
  },
  {
   "cell_type": "markdown",
   "metadata": {},
   "source": [
    "### sum of predictions vs aggregated load"
   ]
  },
  {
   "cell_type": "code",
   "execution_count": 202,
   "metadata": {
    "collapsed": true
   },
   "outputs": [],
   "source": [
    "sumPred = prediction.sum(axis=1)"
   ]
  },
  {
   "cell_type": "code",
   "execution_count": 203,
   "metadata": {},
   "outputs": [
    {
     "data": {
      "text/plain": [
       "[<matplotlib.lines.Line2D at 0x1212b6e10>]"
      ]
     },
     "execution_count": 203,
     "metadata": {},
     "output_type": "execute_result"
    },
    {
     "data": {
      "image/png": "[encoded data removed]",
      "text/plain": [
       "<matplotlib.figure.Figure at 0x121346cd0>"
      ]
     },
     "metadata": {},
     "output_type": "display_data"
    }
   ],
   "source": [
    "plt.plot(sumPred[0:2000])"
   ]
  },
  {
   "cell_type": "code",
   "execution_count": 204,
   "metadata": {},
   "outputs": [
    {
     "data": {
      "text/plain": [
       "[<matplotlib.lines.Line2D at 0x11a5fe110>]"
      ]
     },
     "execution_count": 204,
     "metadata": {},
     "output_type": "execute_result"
    },
    {
     "data": {
      "image/png": "[encoded data removed]",
      "text/plain": [
       "<matplotlib.figure.Figure at 0x1212c3e50>"
      ]
     },
     "metadata": {},
     "output_type": "display_data"
    }
   ],
   "source": [
    "plt.plot(np.asarray(goodFull)[:,1])"
   ]
  },
  {
   "cell_type": "code",
   "execution_count": null,
   "metadata": {
    "collapsed": true
   },
   "outputs": [],
   "source": []
  },
  {
   "cell_type": "code",
   "execution_count": null,
   "metadata": {
    "collapsed": true
   },
   "outputs": [],
   "source": []
  }
 ],
 "metadata": {
  "kernelspec": {
   "display_name": "Python (nilmtk)",
   "language": "python",
   "name": "nilmtk-env"
  },
  "language_info": {
   "codemirror_mode": {
    "name": "ipython",
    "version": 2
   },
   "file_extension": ".py",
   "mimetype": "text/x-python",
   "name": "python",
   "nbconvert_exporter": "python",
   "pygments_lexer": "ipython2",
   "version": "2.7.13"
  },
  "widgets": {
   "state": {
    "3146cd1dc3c1402ea7ad81f0733a62be": {
     "views": [
      {
       "cell_index": 22
      }
     ]
    },
    "394f4cb939d04e5593c7050c6d88dc20": {
     "views": [
      {
       "cell_index": 18
      }
     ]
    },
    "6014b3368f63407c84405c56534959b6": {
     "views": [
      {
       "cell_index": 22
      }
     ]
    },
    "65702d25b14a4ccbb5148e8ba6391647": {
     "views": [
      {
       "cell_index": 22
      }
     ]
    },
    "70d9bfaeffa94353a07e6d4a1fdc9459": {
     "views": [
      {
       "cell_index": 22
      }
     ]
    },
    "9fa7c56d536f4356b5e7296842136784": {
     "views": [
      {
       "cell_index": 18
      }
     ]
    },
    "a4b6672107df418fba5a8e918d70b875": {
     "views": [
      {
       "cell_index": 18
      }
     ]
    },
    "ed79ca4324594266ba983e86800bb681": {
     "views": [
      {
       "cell_index": 20
      }
     ]
    },
    "f40b70c95ebb4a668e06de38e9f17a75": {
     "views": [
      {
       "cell_index": 22
      }
     ]
    }
   },
   "version": "1.2.0"
  }
 },
 "nbformat": 4,
 "nbformat_minor": 2
}
